{
 "cells": [
  {
   "cell_type": "markdown",
   "metadata": {},
   "source": [
    "# Cadenas\n",
    "\n",
    "## Introducción\n",
    "\n",
    "Los arreglos y las cadenas son fundamentales en Java para organizar y manipular datos de manera eficiente. En esta clase, exploraremos cómo declarar, inicializar y manejar arreglos, tanto unidimensionales como multidimensionales, y cómo trabajar con cadenas, que son esenciales en el procesamiento de texto. También veremos aplicaciones prácticas y algoritmos de búsqueda en estas estructuras, combinando teoría y ejercicios prácticos para fortalecer la comprensión y la habilidad de resolver problemas en el desarrollo de software."
   ]
  },
  {
   "cell_type": "markdown",
   "metadata": {},
   "source": [
    "## Cadenas (Strings)\n",
    "\n",
    "Las cadenas (`String`) son secuencias de caracteres que se tratan como objetos en Java. A diferencia de los arreglos, las cadenas son **inmutables**, lo que significa que no se pueden modificar una vez creadas.\n",
    "\n",
    "```{figure} ../../images/vector1.png\n",
    "---\n",
    "width: 70%\n",
    "name: vector1\n",
    "---\n",
    "Here is my figure caption!\n",
    "```\n",
    "\n",
    "- **Creación de Cadenas**"
   ]
  },
  {
   "cell_type": "code",
   "execution_count": 19,
   "metadata": {},
   "outputs": [
    {
     "name": "stdout",
     "output_type": "stream",
     "text": [
      "Hello, World!\n",
      "The index 5 of the phrase 'Hello, World!' is ','.\n"
     ]
    }
   ],
   "source": [
    "// Declaración e inicialización de una cadena\n",
    "String saludo = \"Hello, World!\";\n",
    "  // Imprimir cadena completa\n",
    "System.out.println(saludo);\n",
    "\n",
    "// Acceso a caracteres individuales\n",
    "int index = 5;\n",
    "System.out.println(\"The index %d of the phrase '%s' is '%c'.\".formatted(index, saludo, saludo.charAt(index))); // Imprime 'H'"
   ]
  },
  {
   "cell_type": "markdown",
   "metadata": {},
   "source": [
    "- **Cadenas como Arreglos**\n",
    "\n",
    "Una cadena puede ser vista como un arreglo de caracteres."
   ]
  },
  {
   "cell_type": "code",
   "execution_count": 20,
   "metadata": {},
   "outputs": [
    {
     "name": "stdout",
     "output_type": "stream",
     "text": [
      "e\n"
     ]
    }
   ],
   "source": [
    "char[] caracteres = saludo.toCharArray();\n",
    "System.out.println(caracteres[1]); // Imprime 'o'\n",
    "\n",
    "// Imprime la letra W"
   ]
  },
  {
   "cell_type": "markdown",
   "metadata": {},
   "source": [
    "- **Ingresar Variables/Texto**"
   ]
  },
  {
   "cell_type": "code",
   "execution_count": 2,
   "metadata": {
    "colab": {
     "base_uri": "https://localhost:8080/"
    },
    "id": "R1RbSCHcUwq6",
    "outputId": "06698665-214c-43b1-d6b0-ff922d1d0ab3"
   },
   "outputs": [
    {
     "name": "stdout",
     "output_type": "stream",
     "text": [
      "Enter a name: \n",
      "You entered the name: Sebastian\n",
      "The number you entered is:56\n"
     ]
    }
   ],
   "source": [
    "import java.util.Scanner;\n",
    "// Ingresar una sola variable\n",
    "//Scanner input_name = new Scanner(System.in);\n",
    "System.out.println(\"Enter a name: \");\n",
    "String name = \"Sebastian\";//input_name.nextLine();\n",
    "System.out.println(\"You entered the name: \"+name);\n",
    "\n",
    "// Ingresando un entero\n",
    "// int integer1 = input.nextInt();\n",
    "int integer1 = 56;\n",
    "System.out.println(\"The number you entered is: \"+integer1 );"
   ]
  },
  {
   "cell_type": "code",
   "execution_count": 3,
   "metadata": {},
   "outputs": [
    {
     "name": "stdout",
     "output_type": "stream",
     "text": [
      "Enter a character: \n",
      "The character entered is a\n"
     ]
    }
   ],
   "source": [
    "// Ingresar un caracter \n",
    "System.out.print(\"Enter a character: \");\n",
    "// Scanner input = new Scanner(System.in);\n",
    "// String s = input.nextLine();\n",
    "String s = \"a\";\n",
    "char ch = s.charAt(0);\n",
    "System.out.println(\"\\nThe character entered is \" + ch);\n",
    "\n",
    "// Agrega un código que pida una string y un número y entregue \n",
    "// el carácter de la string en el indice del número"
   ]
  },
  {
   "cell_type": "markdown",
   "metadata": {},
   "source": [
    "¿Se puede ingresar un float o double? **SI**\n",
    "\n",
    "¡Siempre se puede convertir (cast or casting) una variable de un tipo a otro!"
   ]
  },
  {
   "cell_type": "code",
   "execution_count": 4,
   "metadata": {},
   "outputs": [
    {
     "name": "stdout",
     "output_type": "stream",
     "text": [
      "The number you entered in double is: 125.523213\n",
      "The number you entered in float is: 125.52322\n"
     ]
    }
   ],
   "source": [
    "// String to double\n",
    "//String numero = input.nextLine();\n",
    "String numero = \"125.523213\";\n",
    "double double1 = Double.parseDouble(numero);\n",
    "System.out.println(\"The number you entered in double is: \"+double1);\n",
    "\n",
    "// String to float\n",
    "// String float1 = input.nextLine();\n",
    "float float1 = Float.parseFloat(numero);\n",
    "System.out.println(\"The number you entered in float is: \"+float1 );"
   ]
  },
  {
   "cell_type": "code",
   "execution_count": null,
   "metadata": {},
   "outputs": [
    {
     "name": "stdout",
     "output_type": "stream",
     "text": [
      "Enter three words separated by spaces: \n",
      "You entered 1 1 1 \n",
      "  s1 is 1\n",
      "  s2 is 1\n",
      "  s3 is 1\n"
     ]
    }
   ],
   "source": [
    "// Ingresar varias variables al tiempo (palabras)\n",
    "Scanner input = new Scanner(System.in);\n",
    "System.out.print(\"Enter three words separated by spaces: \");\n",
    "// String s1 = input.next();\n",
    "// String s2 = input.next();\n",
    "// String s3 = input.next();\n",
    "String s1 = \"1\", s2 = \"1\", s3 = \"1\";\n",
    "System.out.println(\"%nYou entered %s %s %s %n\".formatted(s1, s2, s3));\n",
    "System.out.println(\"  s1 is \" + s1);\n",
    "System.out.println(\"  s2 is \" + s2);\n",
    "System.out.println(\"  s3 is \" + s3);"
   ]
  },
  {
   "cell_type": "markdown",
   "metadata": {},
   "source": [
    "- **Operaciones Con Cadenas**"
   ]
  },
  {
   "cell_type": "code",
   "execution_count": 55,
   "metadata": {
    "colab": {
     "base_uri": "https://localhost:8080/"
    },
    "id": "cnmrzTpXnipd",
    "outputId": "1102f1bf-c9e3-404c-a439-e662d27996fa"
   },
   "outputs": [
    {
     "name": "stdout",
     "output_type": "stream",
     "text": [
      "The length of Welcome to Java is 15\n"
     ]
    }
   ],
   "source": [
    "// Longitud de una cadena\n",
    "String message = \"Welcome to Java\";\n",
    "System.out.println(\"The length of \" + message + \" is \"+ message.length());"
   ]
  },
  {
   "cell_type": "code",
   "execution_count": 20,
   "metadata": {},
   "outputs": [
    {
     "name": "stdout",
     "output_type": "stream",
     "text": [
      "Welcome to Java!SebastianData structures course.\n",
      "Welcome to Java!, Sebastian. This is the Data structures course.\n"
     ]
    }
   ],
   "source": [
    "// Unión de cadenas usando el operador sumar (+)\n",
    "String message1 = \"Welcome to Java!\";\n",
    "String message2 = \"Data structures course.\";\n",
    "\n",
    "System.out.println(message1+name+message2);\n",
    "System.out.println(\"%s, %s. This is the %s\".formatted(message1, name, message2));"
   ]
  },
  {
   "cell_type": "code",
   "execution_count": 64,
   "metadata": {},
   "outputs": [
    {
     "name": "stdout",
     "output_type": "stream",
     "text": [
      "Selected numbers 12\n",
      "Selected numbers 3\n",
      "Selected numbers 3.13\n",
      "Selected numbers 3.1231232\n"
     ]
    }
   ],
   "source": [
    "// Mezclando números y cadenas\n",
    "int i = 1, j=2;\n",
    "double z = 3.13;\n",
    "float w = 3.123123123F;\n",
    "System.out.println(\"Selected numbers \"+i+j);\n",
    "System.out.println(\"Selected numbers \"+(i+j));\n",
    "System.out.println(\"Selected numbers \"+z);\n",
    "System.out.println(\"Selected numbers \"+w);"
   ]
  },
  {
   "cell_type": "code",
   "execution_count": 59,
   "metadata": {},
   "outputs": [
    {
     "name": "stdout",
     "output_type": "stream",
     "text": [
      "Welcome to Java!SebasData structures course.\n",
      "Welcome to Java!SebasData structures course. System Engineering, 2024.\n"
     ]
    }
   ],
   "source": [
    "// Unión de cadenas usando el método concatenar (concat)\n",
    "String total_text = message1.concat(name).concat(message2);\n",
    "System.out.println(total_text);\n",
    "\n",
    "// Unión de cadenas usando el operador +=\n",
    "total_text += \" System Engineering, 2024.\";\n",
    "System.out.println(total_text);"
   ]
  },
  {
   "cell_type": "code",
   "execution_count": null,
   "metadata": {},
   "outputs": [],
   "source": [
    "// Operadores especiales\n",
    "System.out.println(\"The character \\\\ is called backslash.\");\n",
    "System.out.println(\"The character \\' is called single quote.\");\n",
    "System.out.println(\"The character \\\" is called double quote.\\n\");\n",
    "\n",
    "System.out.println(\"Selected \\t numbers\");  // /t: Tab \n",
    "System.out.println(\"Selected \\n numbers\");  // /n: New Line \n",
    "System.out.println(\"Sel\\bected numbers\");   // /b: Backspace \n",
    "System.out.println(\"Sel\\rected numbers\");   // /r: Carriage Return "
   ]
  },
  {
   "cell_type": "markdown",
   "metadata": {},
   "source": [
    "Las clases suelen ya tener definidos algunos métodos, para ello revisa las funciones de la clase [String.java](https://github.com/openjdk/jdk/blob/master/src/java.base/share/classes/java/lang/String.java#L4757) o consulta cualquiera de los siguientes enlaces:\n",
    "- [Java String Methods](https://www.w3schools.com/java/java_ref_string.asp)\n",
    "- [Class String - Oracle](https://docs.oracle.com/javase/8/docs/api/java/lang/String.html)"
   ]
  },
  {
   "cell_type": "code",
   "execution_count": 82,
   "metadata": {},
   "outputs": [
    {
     "name": "stdout",
     "output_type": "stream",
     "text": [
      "     sebas.     \n",
      "sebas.\n",
      "     sebas.          sebas.          sebas.     \n",
      "false\n",
      "6\n"
     ]
    }
   ],
   "source": [
    "String long_name = \"     sebas.     \";\n",
    "System.out.println(long_name);\n",
    "System.out.println(long_name.trim());\n",
    "System.out.println(long_name.repeat(3));\n",
    "System.out.println(long_name.isEmpty());\n",
    "System.out.println(long_name.indexOf(\"e\"));\n",
    "// Prueba 5 métodos más de la clase String"
   ]
  },
  {
   "cell_type": "code",
   "execution_count": 99,
   "metadata": {
    "colab": {
     "base_uri": "https://localhost:8080/"
    },
    "id": "jkiN9YYSqc9-",
    "outputId": "1f9294e4-44b0-40b2-dc4e-32ddb0187dd4"
   },
   "outputs": [
    {
     "name": "stdout",
     "output_type": "stream",
     "text": [
      "true\n",
      "true\n",
      "false\n"
     ]
    }
   ],
   "source": [
    "// Comparing string or checking substrings\n",
    "String s1 = \"Welcome to Java\", s2 = \"Welcome to java\", s3 = \"Welcome to C++\";\n",
    "System.out.println(s1.contains(\"Java\"));\n",
    "System.out.println(s1.equalsIgnoreCase(s2)); // true\n",
    "System.out.println(s1.equals(s3)); // false"
   ]
  },
  {
   "cell_type": "markdown",
   "metadata": {},
   "source": [
    "```{figure} ../../images/vector2.png\n",
    "---\n",
    "width: 70%\n",
    "name: vector2\n",
    "---\n",
    "Here is my figure caption!\n",
    "```"
   ]
  },
  {
   "cell_type": "code",
   "execution_count": 101,
   "metadata": {},
   "outputs": [
    {
     "name": "stdout",
     "output_type": "stream",
     "text": [
      "Welcome to Java\n",
      "5\n",
      "10\n",
      "\n",
      "Welcome\n",
      "to Java\n"
     ]
    }
   ],
   "source": [
    "// Substring indexes\n",
    "String message = \"Welcome to Java\";\n",
    "String sub_message = message.substring(8) + \" HTML\";\n",
    "System.out.println(message);\n",
    "System.out.println(message.indexOf(\"me\"));\n",
    "System.out.println(message.lastIndexOf(\" \"));\n",
    "System.out.println();\n",
    "\n",
    "// Substring\n",
    "int k = message.indexOf(\" \");\n",
    "String firstName = message.substring(0, k);\n",
    "String lastName = message.substring(k + 1);\n",
    "System.out.println(firstName);\n",
    "System.out.println(lastName);"
   ]
  },
  {
   "cell_type": "markdown",
   "metadata": {},
   "source": [
    "### Busquedas\n",
    "\n",
    "- **Búsqueda de Subcadenas:** Busca una subcadena dentro de una cadena más grande."
   ]
  },
  {
   "cell_type": "code",
   "execution_count": null,
   "metadata": {},
   "outputs": [
    {
     "data": {
      "text/plain": [
       "9"
      ]
     },
     "execution_count": 102,
     "metadata": {},
     "output_type": "execute_result"
    }
   ],
   "source": [
    "public static int buscarSubcadena(String cadena, String subcadena) {\n",
    "  return cadena.indexOf(subcadena); // Retorna el índice de la subcadena o -1 si no se encuentra\n",
    "}\n",
    "\n",
    "// Prueba el método"
   ]
  },
  {
   "cell_type": "markdown",
   "metadata": {},
   "source": [
    "- **Recorrido de Caracteres:** Similar a la búsqueda lineal en arreglos, pero aplicado a cada carácter de una cadena."
   ]
  },
  {
   "cell_type": "code",
   "execution_count": 113,
   "metadata": {},
   "outputs": [],
   "source": [
    "public static boolean contieneCaracter(String cadena, char c) {\n",
    "  for (int i = 0; i < cadena.length(); i++) {\n",
    "      if (cadena.charAt(i) == c) {\n",
    "          return true;\n",
    "      }\n",
    "  }\n",
    "  return false;\n",
    "}\n",
    "\n",
    "// Prueba el método"
   ]
  },
  {
   "cell_type": "markdown",
   "metadata": {},
   "source": [
    "### Aplicaciones\n",
    "\n",
    "- **Procesamiento de Texto:** Las cadenas se utilizan para manipular y procesar texto, como en la construcción de mensajes, análisis de texto, o generación de informes.\n",
    "\n",
    "- **Almacenamiento de Datos:** Cadenas se utilizan en aplicaciones que requieren manipulación de texto, como bases de datos, procesadores de texto y lenguajes de programación.\n",
    "\n",
    "\n",
    "### Ejemplo"
   ]
  },
  {
   "cell_type": "code",
   "execution_count": null,
   "metadata": {},
   "outputs": [],
   "source": [
    "import java.util.Scanner;\n",
    "\n",
    "public class OrderTwoCities {\n",
    "  public static void main(String[] args) {\n",
    "  Scanner input = new Scanner(System.in);\n",
    "\n",
    "  // Prompt the user to enter two cities\n",
    "  System.out.print(\"Enter the first city: \");\n",
    "  // String city1 = input.nextLine();\n",
    "  String city1 = \"Bogota\";\n",
    "  System.out.print(\"\\nEnter the second city: \");\n",
    "  String city2 = \"Cale\";\n",
    "  // String city2 = input.nextLine();\n",
    "\n",
    "  if (city1.compareTo(city2) < 0){\n",
    "  System.out.println(\"\\nThe cities in alphabetical order are: \" + city1 + \" \" + city2);}\n",
    "  else{\n",
    "  System.out.println(\"\\nThe cities in alphabetical order are: \" + city2 + \" \" + city1);}\n",
    "  }\n",
    "}\n",
    "\n",
    "// Prueba la clase\n"
   ]
  },
  {
   "cell_type": "markdown",
   "metadata": {},
   "source": [
    "Cambia la anterior clase para que las ciudades no sean ingresadas por el usuario si no que sean pasadas a al método utilizando el vector args"
   ]
  },
  {
   "cell_type": "code",
   "execution_count": null,
   "metadata": {},
   "outputs": [],
   "source": [
    "// Escribe el código aquí"
   ]
  },
  {
   "cell_type": "markdown",
   "metadata": {},
   "source": [
    "Puedes encontrar más información en el capítulo 4 del libro guia, Y. Daniel Liang."
   ]
  },
  {
   "cell_type": "markdown",
   "metadata": {},
   "source": [
    "## Conclusión\n",
    "\n",
    "En esta clase, los estudiantes han aprendido sobre la estructura y manipulación de arreglos y cadenas en Java, tanto en una como en varias dimensiones. Estos conceptos son fundamentales para la programación en Java, ya que permiten organizar y procesar grandes cantidades de datos de manera eficiente. A través de aplicaciones prácticas y algoritmos de búsqueda, los estudiantes han adquirido las habilidades necesarias para aplicar estos conceptos en la resolución de problemas reales.\n",
    "\n",
    "## Ejercicio \n",
    "\n",
    "::::{admonition} Taller 4\n",
    "\n",
    "Elige un tema de tu interés, como una película, un deporte, un videojuego, una banda musical, etc. Con base en ese tema, desarrollarás un programa en Java que utilice arreglos y cadenas unidimensionales para realizar una tarea relacionada.\n",
    "\n",
    "**Instrucciones**\n",
    "\n",
    "1. **Definición del Tema:**\n",
    "   - Escoge un tema que te apasione o te interese. Por ejemplo, si te gusta el cine, podrías trabajar con una lista de tus películas favoritas; si prefieres los deportes, podrías utilizar los nombres de los equipos de fútbol o los jugadores.\n",
    "\n",
    "2. **Diseño del Programa:**\n",
    "   - **Arreglo de Cadenas:** Crea un arreglo unidimensional para almacenar una lista de nombres relacionados con tu tema (por ejemplo, títulos de películas, nombres de jugadores, etc.).\n",
    "   - **Arreglo de Enteros:** Si es relevante para tu tema, crea un segundo arreglo para almacenar números asociados a cada elemento del primer arreglo (por ejemplo, el año de lanzamiento de cada película o las puntuaciones de los jugadores).\n",
    "   \n",
    "      Si requieres crear más arreglos o variables eres libre de agregar el código que deseas y creas pertinente.\n",
    "\n",
    "3. **Funcionalidades del Programa:**\n",
    "   - **Buscar en el Arreglo:** Implementa un método que permita buscar un elemento en el arreglo de cadenas y muestre información relacionada (por ejemplo, buscar una película por nombre y mostrar su año de lanzamiento).\n",
    "   - **Agregar y Eliminar Elementos:** Crea funcionalidades que permitan al usuario agregar nuevos elementos al arreglo o eliminar elementos existentes.\n",
    "   - **Mostrar el Contenido:** Implementa un método para mostrar todos los elementos del arreglo y su información asociada.\n",
    "\n",
    "4. **Desarrollo del Código:**\n",
    "   - Escribe el código en Java para implementar las funcionalidades descritas. Asegúrate de manejar correctamente los índices y las posibles excepciones (como intentar acceder a un índice fuera de los límites del arreglo).\n",
    "\n",
    "5. **Prueba del Programa:**\n",
    "   - Prueba el programa con diferentes entradas para asegurarte de que todas las funcionalidades funcionan correctamente.\n",
    "\n",
    "**Entregables**\n",
    "\n",
    "- Código fuente en Java (o notebook) que implemente el ejercicio de acuerdo con el tema elegido.\n",
    "- Un documento breve que describa el tema seleccionado, las funcionalidades implementadas, y cómo el programa maneja los datos. Esto se puede hacer en el notebook fácilmente o comentando los códigos.\n",
    "\n",
    "**(Opcional)** Resolver alguno de los siguientes problemas utilizando clases, métodos, arreglos, cadenas, etc.\n",
    "\n",
    "- [rotate-string](https://www.codeabbey.com/index/task_view/rotate-string)\n",
    "- [palindromes](https://www.codeabbey.com/index/task_view/palindromes)\n",
    "- [reverse-string](https://www.codeabbey.com/index/task_view/reverse-string)\n",
    "\n",
    "\n",
    ":::{tip}\n",
    "Pueden implentar todo desde cero pero sería un trabajo arduo, lo mejor es que utilicen las clases `Array` o `ArrayList` que ya tiene todos los métodos implementados. \n",
    ":::\n",
    "\n",
    ":::{warning}\n",
    "Pueden trabajar en grupo pero **NO** deben tener el mismo tema, como todos tenemos gustos diferentes todos tendremos códigos diferentes.\n",
    ":::\n",
    "\n",
    "::::"
   ]
  },
  {
   "cell_type": "markdown",
   "metadata": {},
   "source": [
    "## Recursos Adicionales\n",
    "\n",
    "### Videos\n",
    "\n",
    "- [Array vs. ArrayList in Java Tutorial - What's The Difference? ](https://www.youtube.com/watch?v=NbYgm0r7u6o)\n",
    "- [Java para principiantes - Arreglos de string (String Arrays) ](https://www.youtube.com/watch?v=e4rqilsZRlU)\n",
    "- [Java array of objects 🍱   ](https://www.youtube.com/watch?v=nhIB2S6NiFA)\n",
    "   [41. Programación en Java || Arreglos || Definición de Arreglos ](https://www.youtube.com/watch?v=AZc3hxMxl54)"
   ]
  }
 ],
 "metadata": {
  "colab": {
   "include_colab_link": true,
   "provenance": []
  },
  "kernelspec": {
   "display_name": "Java",
   "language": "java",
   "name": "java"
  },
  "language_info": {
   "codemirror_mode": "java",
   "file_extension": ".jshell",
   "mimetype": "text/x-java-source",
   "name": "java",
   "pygments_lexer": "java",
   "version": "21.0.4+7-Ubuntu-1ubuntu224.04"
  }
 },
 "nbformat": 4,
 "nbformat_minor": 0
}
