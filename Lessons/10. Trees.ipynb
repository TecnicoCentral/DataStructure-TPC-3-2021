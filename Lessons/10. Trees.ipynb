{
 "cells": [
  {
   "cell_type": "markdown",
   "id": "5c6b4400",
   "metadata": {},
   "source": [
    "# <a id='toc1_'></a>[Árboles](#toc0_)\n",
    "\n",
    "<a href=\"https://colab.research.google.com/github/uETITC/DataStructure-2024-2/blob/main/Lessons/7.%20Trees.ipynb\" target=\"_parent\"><img src=\"https://colab.research.google.com/assets/colab-badge.svg\" alt=\"Open In Colab\"/></a>\n",
    "\n",
    "---\n",
    "\n",
    "**Table of contents**<a id='toc0_'></a>    \n",
    "- [Árboles](#toc1_)    \n",
    "  - [Introducción](#toc1_1_)    \n",
    "  - [Objetivos](#toc1_2_)    \n",
    "  - [Definición Formal](#toc1_3_)    \n",
    "  - [Conceptos Básicos](#toc1_4_)    \n",
    "  - [Descripción y Características](#toc1_5_)    \n",
    "    - [Representación Gráfica](#toc1_5_1_)    \n",
    "  - [Tipos de Árboles](#toc1_6_)    \n",
    "  - [Aplicaciones](#toc1_7_)    \n",
    "  - [Ejemplos](#toc1_8_)    \n",
    "  - [Recorridos](#toc1_9_)    \n",
    "    - [Depth-First Search  (DFS)](#toc1_9_1_)    \n",
    "      - [Preorder](#toc1_9_1_1_)    \n",
    "      - [Postorder](#toc1_9_1_2_)    \n",
    "      - [En Orden (InOrder)](#toc1_9_1_3_)    \n",
    "    - [Breadth-First Search (BFS)](#toc1_9_2_)    \n",
    "    - [Tour de Euler](#toc1_9_3_)    \n",
    "  - [Implementación de Árboles en Java](#toc1_10_)    \n",
    "    - [Simple](#toc1_10_1_)    \n",
    "      - [Árbol Binario de Búsqueda (BST)](#toc1_10_1_1_)    \n",
    "    - [Nivel Medio](#toc1_10_2_)    \n",
    "      - [Árboles Binarios](#toc1_10_2_1_)    \n",
    "    - [Aplicaciones de Árboles Binarios](#toc1_10_3_)    \n",
    "    - [Robusta y Completa](#toc1_10_4_)    \n",
    "      - [Intreface y Clase Árbol](#toc1_10_4_1_)    \n",
    "  - [Actividades Prácticas](#toc1_11_)    \n",
    "  - [Conclusión](#toc1_12_)    \n",
    "  - [Referencias](#toc1_13_)    \n",
    "    - [Libros](#toc1_13_1_)    \n",
    "    - [Repositorios](#toc1_13_2_)    \n",
    "    - [Guías y Tutoriales](#toc1_13_3_)    \n",
    "\n",
    "<!-- vscode-jupyter-toc-config\n",
    "  numbering=false\n",
    "  anchor=true\n",
    "  flat=false\n",
    "  minLevel=1\n",
    "  maxLevel=6\n",
    "  /vscode-jupyter-toc-config -->\n",
    "<!-- THIS CELL WILL BE REPLACED ON TOC UPDATE. DO NOT WRITE YOUR TEXT IN THIS CELL -->\n",
    "\n",
    "---\n"
   ]
  },
  {
   "cell_type": "markdown",
   "metadata": {},
   "source": [
    "## <a id='toc1_1_'></a>[Introducción](#toc0_)\n",
    "\n",
    "Los **árboles** son estructuras de datos fundamentales en informática, utilizadas para organizar y gestionar información de una manera eficiente y jerárquica. Debido a su capacidad para almacenar datos de forma ordenada, son comunes en aplicaciones como sistemas de archivos, bases de datos, y algoritmos de inteligencia artificial. En esta clase exploraremos sus conceptos básicos, características, tipos, y una implementación práctica en Java.\n",
    "\n",
    "Los árboles son considerados una estructura de datos no lineales. Estas estructuras suponen un gran avance en la organización de datos, ya que nos permiten implementar un gran número de algoritmos mucho más rápido que cuando utilizamos estructuras de datos lineales, como arrays o listas enlazadas. Los árboles también ofrecen una organización natural de los datos, por lo que se han convertido en estructuras omnipresentes en sistemas de archivos, interfaces gráficas de usuario, bases de datos, sitios web y muchos otros sistemas informáticos.\n",
    "\n",
    "<p float=\"left\" style=\"text-align:center\">\n",
    "    <img src=\"https://miro.medium.com/v2/resize:fit:1400/format:webp/1*jHLRu-DNn1455xbshQzpMQ.png\" width=\"80%\"/>\n",
    "</p>\n",
    "\n",
    "Cuando se dice que los árboles son «no lineales», se refiere a una relación organizativa más rica que las simples relaciones «antes» y «después» entre objetos en secuencias. Las relaciones en un árbol son jerárquicas: algunos objetos están «por encima» y otros «por debajo» de otros. En realidad, la terminología principal de las estructuras de datos en árbol procede de los árboles genealógicos, siendo los términos **padre**, **hijo**, **antepasado** y **descendiente** los más utilizados para describir las relaciones. Uno de los ejemplos más claros es la estructura de archivos de linux (comando tree hace algo similar).\n",
    "\n",
    "\n",
    "## <a id='toc1_2_'></a>[Objetivos](#toc0_)\n",
    "\n",
    "- Entender los conceptos básicos de los árboles y su estructura jerárquica.\n",
    "- Aprender las características y tipos de árboles utilizados en programación.\n",
    "- Conocer aplicaciones prácticas de los árboles en informática.\n",
    "- Implementar árboles en Java con ejemplos detallados.\n",
    "\n",
    "## <a id='toc1_3_'></a>[Definición Formal](#toc0_)\n",
    "\n",
    "Formalmente, definimos un árbol T como un conjunto de nodos que almacenan elementos tales que los nodos tienen una relación padre-hijo que satisface las siguientes propiedades:\n",
    "\n",
    "- Si T no es vacío, tiene un nodo especial, llamado raíz de T , que no tiene padre.\n",
    "- Cada nodo v de T distinto de la raíz tiene un único nodo padre w; cada nodo con padre w es hijo de w.\n",
    "\n",
    "Obsérvese que, según nuestra definición, un árbol puede estar vacío, es decir, no tener ningún nodo. Esta convención también nos permite definir un árbol de forma recursiva, de modo que un árbol T está vacío o consta de un nodo r, denominado raíz de T, y un conjunto (posiblemente vacío) de subárboles cuyas raíces son los hijos de r.\n",
    "\n",
    "## <a id='toc1_4_'></a>[Conceptos Básicos](#toc0_)\n",
    "\n",
    "Un **árbol** es una estructura de datos no lineal que organiza los datos de manera jerárquica. Un árbol está compuesto por **nodos** conectados entre sí, donde cada nodo puede tener **hijos** y un único **padre**, salvo el **nodo raíz**, que es el nodo inicial sin padre.\n",
    "\n",
    "Cada nodo de un árbol contiene tres elementos fundamentales:\n",
    "\n",
    "1. **Dato**: el valor o información que almacena el nodo.\n",
    "2. **Nodo Padre**: el nodo que está un nivel arriba en la jerarquía (excepto el nodo raíz).\n",
    "3. **Nodos Hijos**: los nodos que dependen de él en la jerarquía.\n",
    "4. **Jerarquía**: La organización de los datos es jerárquica, similar a una estructura de organización en una empresa.\n",
    "5. **Conexiones Únicas**: Cada nodo, excepto el raíz, tiene un solo padre.\n",
    "6. **Subárboles**: Cualquier nodo puede servir como raíz de su propio subárbol.\n",
    "7. **Recorridos Múltiples**: Los árboles pueden recorrerse en diferentes órdenes (preorden, inorden y postorden).\n",
    "\n",
    "Otros términos que se suelen utilizar son:\n",
    "\n",
    "- Un nodo u es **antepasado** de un nodo v si u = v o u es antepasado del padre de v. \n",
    "- Un nodo v es **descendiente** de un nodo u si u es antepasado de v. \n",
    "- El **subárbol** de T **enraizado** en un nodo v es el árbol formado por todos los descendientes de v en T (incluido el propio v).\n",
    "- Una **arista** del árbol T es un par de nodos (u, v) tal que u es el padre de v, o viceversa. \n",
    "- Un **camino** de T es una secuencia de nodos tal que dos nodos consecutivos cualesquiera de la secuencia forman una arista.\n",
    "\n",
    "## <a id='toc1_5_'></a>[Descripción y Características](#toc0_)\n",
    "\n",
    "Un árbol es una estructura de datos jerárquica con las siguientes propiedades:\n",
    "\n",
    "- **Raíz**: el nodo principal o raíz del árbol es el punto de inicio de la estructura, y no tiene padres.\n",
    "- **Nodos Internos**: nodos que tienen al menos un hijo.\n",
    "- **Padre**: Nodo que tiene conexiones hacia uno o más nodos hijos.\n",
    "- **Hijo**: Nodo que tiene un nodo padre.\n",
    "- **Hoja**: Nodo sin hijos.\n",
    "- **Nivel**: Profundidad de un nodo en relación con la raíz.\n",
    "- **Altura del Árbol**: la distancia máxima de la raíz a una hoja.\n",
    "- **Profundidad**: número de niveles desde el nodo raíz hasta un nodo específico.\n",
    "- **Grafo Conectado**: todos los nodos están interconectados sin ciclos, es decir, no hay bucles en la estructura.\n",
    "\n",
    "<div align=\"center\">\n",
    "  <img src=\"https://media.geeksforgeeks.org/wp-content/uploads/20221129094006/Treedatastructure.png\" width=\"70%\">\n",
    "</div>\n",
    "\n",
    "Imagen tomada de [Applications of tree data structure - Geeksforgeeks](https://www.geeksforgeeks.org/applications-of-tree-data-structure/).\n",
    "\n",
    "### <a id='toc1_5_1_'></a>[Representación Gráfica](#toc0_)\n",
    "\n",
    "Un árbol de ejemplo puede verse así:\n",
    "\n",
    "```text\n",
    "        A (Raíz)\n",
    "       / \\\n",
    "      B   C\n",
    "     / \\   \\\n",
    "    D   E   F\n",
    "```\n",
    "\n",
    "En este caso:\n",
    "- **A** es la raíz.\n",
    "- **D**, **E**, y **F** son nodos hoja.\n",
    "- La **altura** es 2.\n",
    "\n",
    "Para visualizar los árboles podemos utilizar:\n",
    "\n",
    "- https://liveexample.pearsoncmg.com/dsanimation/BSTeBook.html\n",
    "- https://graphonline.ru/en/\n",
    "\n",
    "O la clase `BSTAnimation.java` del libro guía de Y. Daniel.\n",
    "\n",
    "## <a id='toc1_6_'></a>[Tipos de Árboles](#toc0_)\n",
    "\n",
    "<div align=\"center\">\n",
    "  <img src=\"https://media.geeksforgeeks.org/wp-content/uploads/20230111154258/typoes1.png\" width=\"70%\">\n",
    "</div>\n",
    "\n",
    "Imagen tomada de [Types of Trees in Data Structures - Geeksforgeeks](https://www.geeksforgeeks.org/types-of-trees-in-data-structures/).\n",
    "\n",
    "- **Árbol Binario**: Cada nodo tiene un máximo de dos hijos.\n",
    "- **Árbol Binario de Búsqueda (BST)**: Árbol binario donde el valor del hijo izquierdo es menor que el del nodo padre, y el valor del hijo derecho es mayor.\n",
    "- **Árbol AVL**: Árbol binario de búsqueda balanceado, donde la diferencia de altura entre los subárboles de cada nodo es a lo sumo uno.\n",
    "- **Árbol Rojo-Negro**: Un BST balanceado que mantiene restricciones adicionales sobre la profundidad de los nodos.\n",
    "- **Árbol N-ario**: Cada nodo puede tener un número máximo de N hijos.\n",
    "- **Árbol B**: un árbol de búsqueda de grado múltiple utilizado en bases de datos y sistemas de archivos, donde cada nodo puede tener más de dos hijos.\n",
    "\n",
    "## <a id='toc1_7_'></a>[Aplicaciones](#toc0_)\n",
    "\n",
    "Los árboles son versátiles y se utilizan en muchas aplicaciones:\n",
    "\n",
    "- **Sistemas de archivos**: Organizan archivos y carpetas en jerarquías.\n",
    "- **Bases de datos**: Estructuras como B-trees y AVL trees se emplean en índices de bases de datos para búsquedas rápidas.\n",
    "- **Compiladores**: Utilizan árboles de sintaxis abstracta para interpretar el código.\n",
    "- **Inteligencia Artificial**: Se aplican en algoritmos de toma de decisiones, como los árboles de decisión.\n",
    "- **Redes**: Representan rutas en protocolos de redes y otros sistemas jerárquicos.\n",
    "\n",
    "## <a id='toc1_8_'></a>[Ejemplos](#toc0_)\n",
    "\n",
    "Los árboles se aplican ampliamente en situaciones reales que requieren organizar datos de forma jerárquica o rápida recuperación. En bases de datos, los **árboles B y B+** se usan para indexar datos, permitiendo búsquedas y accesos eficientes. En sistemas operativos, los **árboles de directorios** representan la estructura de archivos y carpetas, facilitando la navegación. Además, en inteligencia artificial, los **árboles de decisión** ayudan a clasificar y tomar decisiones basadas en datos, y en redes, los **árboles de enrutamiento** optimizan la transmisión de paquetes entre dispositivos en la red.\n",
    "\n",
    "<div align=\"center\">\n",
    "  <img src=\"images/Figure8.1new.png\" width=\"500\" />\n",
    "  <img src=\"images/Figure8.2new.png\" width=\"500\" />\n",
    "  <img src=\"images/tree-3.png\" width=\"350\" />\n",
    "  <img src=\"images/tree-4.png\" width=\"500\" />\n",
    "  <img src=\"images/Figure25.5.png\" width=\"500\" />\n",
    "  <img src=\"images/tree-8.png\" width=\"500\" />\n",
    "</div>"
   ]
  },
  {
   "cell_type": "markdown",
   "id": "bfc80789",
   "metadata": {},
   "source": [
    "## <a id='toc1_9_'></a>[Recorridos](#toc0_)\n",
    "\n",
    "\n",
    "### <a id='toc1_9_2_'></a>[Breadth-First Search (BFS)](#toc0_)\n",
    "\n",
    "En español Búsqueda general o Búsqueda por amplitud. Se enfoca en recorrer el árbol por niveles\n",
    "\n",
    "<p float=\"left\" style=\"text-align:center\">\n",
    "    <img src=\"images/Figure8.15.png\" width=\"700\" />\n",
    "</p>\n",
    "\n",
    "### <a id='toc1_9_1_'></a>[Depth-First Search  (DFS)](#toc0_)\n",
    "\n",
    "En español Búsqueda en profundidad o Búsqueda exhaustiva. \n",
    "\n",
    "#### <a id='toc1_9_1_1_'></a>[Preorder](#toc0_)\n",
    "\n",
    "Forma de recorrerlo: `<dir><left><rigth>` (DLR)\n",
    "\n",
    "<p float=\"left\" style=\"text-align:center\">\n",
    "    <img src=\"images/Figure8.13.png\" width=\"700\" />\n",
    "</p>\n",
    "\n",
    "#### <a id='toc1_9_1_2_'></a>[Postorder](#toc0_)\n",
    "\n",
    "Forma de recorrerlo: `<left><rigth><dir>` (LRD)\n",
    "\n",
    "<p float=\"left\" style=\"text-align:center\">\n",
    "    <img src=\"images/Figure8.14.png\" width=\"700\" />\n",
    "</p>\n",
    "\n",
    "\n",
    "#### <a id='toc1_9_1_3_'></a>[En Orden (InOrder)](#toc0_)\n",
    "\n",
    "Forma de recorrerlo: `<left><dir><rigth>` (LDR)\n",
    "\n",
    "<p float=\"left\" style=\"text-align:center\">\n",
    "    <img src=\"images/Figure8.16.png\" width=\"700\" />\n",
    "</p>\n",
    "\n",
    "\n",
    "\n",
    "### <a id='toc1_9_3_'></a>[Tour de Euler](#toc0_)\n",
    "\n",
    "<p float=\"left\" style=\"text-align:center\">\n",
    "    <img src=\"images/Figure8.20.png\" width=\"700\" />\n",
    "</p>\n",
    "\n",
    "En resumen,\n",
    "\n",
    "<div align=\"center\">\n",
    "    <img src=\"https://upload.wikimedia.org/wikipedia/commons/thumb/7/75/Sorted_binary_tree_ALL_RGB.svg/800px-Sorted_binary_tree_ALL_RGB.svg.png\" width=\"70%\">\n",
    "</div>\n",
    "\n",
    "Recorrido en profundidad (camino punteado) de un árbol binario:\n",
    "\n",
    "- Orden previo (nodo visitado en la posición roja):\n",
    "    F, B, A, D, C, E, G, I, H\n",
    "- En-orden (nodo visitado en posición verde):\n",
    "    A, B, C, D, E, F, G, H, I\n",
    "- Post-orden (nodo visitado en la posición azul ):\n",
    "    A, C, E, D, B, H, I, G, F\n",
    "\n",
    "Tomado de [Wikipedia, Tree traversal ](https://en.wikipedia.org/wiki/Tree_traversal)."
   ]
  },
  {
   "cell_type": "markdown",
   "metadata": {},
   "source": [
    "## <a id='toc1_10_'></a>[Implementación de Árboles en Java](#toc0_)\n",
    "\n",
    "### <a id='toc1_10_1_'></a>[Simple](#toc0_)\n",
    "\n",
    "Un árbol de búsqueda binario puede implementarse utilizando una estructura enlazada, es decir, puede representarse mediante un conjunto de nodos enlazados. Cada nodo contiene un valor y dos enlaces denominados izquierda y derecha que hacen referencia al hijo izquierdo y al hijo derecho."
   ]
  },
  {
   "cell_type": "code",
   "execution_count": 7,
   "id": "309b01c6",
   "metadata": {},
   "outputs": [
    {
     "name": "stdout",
     "output_type": "stream",
     "text": [
      "107\n"
     ]
    }
   ],
   "source": [
    "// Clase simpla de un árbol binario\n",
    "class TreeNode<E> {\n",
    "  protected E element;\n",
    "  protected TreeNode<E> left;\n",
    "  protected TreeNode<E> right;\n",
    "\n",
    "  public TreeNode(E e) {\n",
    "      element = e;\n",
    "  }\n",
    "}\n",
    "\n",
    "TreeNode<Integer> nodo_numeros = new TreeNode<>(60);\n",
    "// primer nivel\n",
    "nodo_numeros.left = new TreeNode<>(55);\n",
    "nodo_numeros.right = new TreeNode<>(100);\n",
    "// segundo nivel\n",
    "nodo_numeros.left.left = new TreeNode<>(45);\n",
    "nodo_numeros.left.right = new TreeNode<>(57);\n",
    "\n",
    "nodo_numeros.right.left = new TreeNode<>(67);\n",
    "nodo_numeros.right.right = new TreeNode<>(107);\n",
    "\n",
    "System.out.println(nodo_numeros.right.right.element)"
   ]
  },
  {
   "cell_type": "markdown",
   "id": "c49e85cb",
   "metadata": {},
   "source": [
    "Implementa el árbol de las Figuras 8.3, 8.4, 25.5 y 25.8, utilizando la clase `TreeNode` ."
   ]
  },
  {
   "cell_type": "code",
   "execution_count": 57,
   "id": "9d2ddc79",
   "metadata": {},
   "outputs": [],
   "source": [
    "// Agregar código aquí"
   ]
  },
  {
   "cell_type": "markdown",
   "metadata": {},
   "source": [
    "#### <a id='toc1_10_1_1_'></a>[Árbol Binario de Búsqueda (BST)](#toc0_)\n",
    "\n",
    "A continuación, implementaremos un árbol binario de búsqueda (BST), uno de los tipos de árboles más comunes en estructuras de datos. Esta clase incluye métodos para insertar, buscar y recorrer el árbol en diferentes órdenes.\n",
    "\n",
    "Además, la clase `ArbolBinario` utiliza nodos, cada nodo del árbol contiene un valor y referencias a sus hijos izquierdo y derecho."
   ]
  },
  {
   "cell_type": "markdown",
   "id": "0d7d0240",
   "metadata": {},
   "source": [
    "Prueba la clase en la siguiente casilla, implementa el árbol en las Figuras 8.3, 8.4, 25.5 y 25.8."
   ]
  },
  {
   "cell_type": "code",
   "execution_count": 59,
   "id": "62a7d4bd",
   "metadata": {},
   "outputs": [],
   "source": [
    "// Agregar código aquí"
   ]
  },
  {
   "cell_type": "markdown",
   "metadata": {},
   "source": [
    "### <a id='toc1_10_2_'></a>[Nivel Medio](#toc0_)\n",
    "\n",
    "Implementar el árbol del repositorio [Data-Structures-Algorithms-Java/Non Linear Data Structures/Trees - indraantoor -Github](https://github.com/indraantoor/Data-Structures-Algorithms-Java/tree/master/Non%20Linear%20Data%20Structures/Trees). Como esta clase esta pensada para ejecutarla por fuera de notebooks, shell, para ejecutarla desde el notebook deben sacar la "
   ]
  },
  {
   "cell_type": "code",
   "execution_count": 12,
   "id": "9cc2bcde",
   "metadata": {},
   "outputs": [],
   "source": [
    "// Agregar código aquí\n",
    "\n"
   ]
  },
  {
   "cell_type": "markdown",
   "id": "71856a63",
   "metadata": {},
   "source": [
    "Probar esta clase implementando alguna de las Figuras 8.3, 8.4, 25.5 y 25.8."
   ]
  },
  {
   "cell_type": "code",
   "execution_count": 61,
   "id": "e44996dc",
   "metadata": {},
   "outputs": [],
   "source": [
    "// Probar clase aquí"
   ]
  },
  {
   "cell_type": "markdown",
   "id": "c9dbeffd",
   "metadata": {},
   "source": [
    "#### <a id='toc1_10_2_1_'></a>[Árboles Binarios](#toc0_)\n",
    "\n",
    "Un árbol binario es un árbol ordenado con las siguientes propiedades:\n",
    "\n",
    "1. Cada nodo tiene como máximo dos hijos.\n",
    "2. Cada nodo hijo se etiqueta como hijo izquierdo o hijo derecho.\n",
    "3. Un hijo izquierdo precede a un hijo derecho en el orden de los hijos de un nodo.\n",
    "\n",
    "El subárbol enraizado en un hijo izquierdo o derecho de un nodo interno v se denomina subárbol izquierdo o subárbol derecho, respectivamente, de v. Un árbol binario es propio si cada nodo tiene cero o dos hijos. Algunas personas también se refieren a este tipo de árboles como árboles binarios completos. Así, en un árbol binario correcto, cada nodo interno tiene exactamente dos hijos. Un árbol binario que no es propio es impropio.\n",
    "\n",
    "<p float=\"left\" style=\"text-align:center\">\n",
    "  <img src=\"images/tree-7.png\" width=\"800\" />\n",
    "</p>\n",
    "\n",
    "\n",
    "Por lo tanto, *para cada nodo de un árbol de búsqueda binario, el valor de su hijo izquierdo es menor que el valor del nodo, y el valor de su hijo derecho es mayor que el valor del nodo.* Entonces, ¿qué ventajas tienen árboles binarios? *Un árbol de búsqueda binario es más eficaz que una lista para las operaciones de búsqueda, inserción y eliminación.*\n",
    "\n",
    "Creen y agreguen un pantallazo creando el mismo árbol de la imagen (b) anterior utilizando la herramienta [liveexample.pearsoncmg.com/dsanimation/BSTeBook.html](https://liveexample.pearsoncmg.com/dsanimation/BSTeBook.html), primero limpien la pizarra.\n",
    "\n",
    "\n",
    "### <a id='toc1_10_3_'></a>[Aplicaciones de Árboles Binarios](#toc0_)\n",
    "\n",
    "<p float=\"left\" style=\"text-align:center\">\n",
    "  <img src=\"images/Figure25.5.png\" height=\"400px\" />\n",
    "  <img src=\"images/tree-8.png\" height=\"400px\" />\n",
    "  <img src=\"images/tree-5.png\" height=\"400px\" />\n",
    "  <img src=\"images/tree-6.png\" height=\"400px\" />  \n",
    "</p>"
   ]
  },
  {
   "cell_type": "markdown",
   "id": "00aba02b",
   "metadata": {},
   "source": [
    "### <a id='toc1_10_4_'></a>[Robusta y Completa](#toc0_)\n"
   ]
  },
  {
   "cell_type": "markdown",
   "metadata": {},
   "source": [
    "#### <a id='toc1_10_4_1_'></a>[Intreface y Clase Árbol](#toc0_)\n",
    "\n",
    "Implementa la interfaz `Tree.java` del libro de Y. Daniel. Listing 25.3, capítulo 25, página cmlxxxix.\n",
    "\n",
    "<div align=\"center\">\n",
    "    <img src=\"images/Figure25.6.png\" width=\"60%\" />\n",
    "</div>"
   ]
  },
  {
   "cell_type": "code",
   "execution_count": 62,
   "id": "f99161df-c0a7-47fd-9602-1301ae5e9a30",
   "metadata": {
    "tags": []
   },
   "outputs": [],
   "source": [
    "// Ingresar código aquí"
   ]
  },
  {
   "cell_type": "markdown",
   "id": "2633eb3f",
   "metadata": {},
   "source": [
    "Ahora, implementa el código de `BST.java`,  Binary Search Trees (BST). Listing 25.4, capítulo 25, página cmxci.\n",
    "\n",
    "<div align=\"center\">\n",
    "    <img src=\"images/Figure25.7.png\" width=\"70%\" />    \n",
    "</div>\n",
    "\n",
    "<br>\n",
    "\n",
    ">BST es iterable porque está definido como un subtipo de la `interfaz java.lang.Iterable`."
   ]
  },
  {
   "cell_type": "code",
   "execution_count": 63,
   "id": "dbcea5e9-b935-4878-8b69-cb146812ed12",
   "metadata": {
    "tags": []
   },
   "outputs": [],
   "source": [
    "// Ingresar código aquí"
   ]
  },
  {
   "cell_type": "markdown",
   "id": "01841701-49e1-479e-8224-4a9ed7568a45",
   "metadata": {
    "tags": []
   },
   "source": [
    "Ahora, implementa la clase de prueba `TestBST.ava` del libro guía. Listing 25.5, capítulo 25, página cmxcvi. \n",
    "\n",
    "Esta clase implementa una solución a la estructura de la siguiente image:\n",
    "\n",
    "<p float=\"left\" style=\"text-align:center\">\n",
    "  <img src=\"images/tree-8.png\" width=\"700\" />\n",
    "</p>"
   ]
  },
  {
   "cell_type": "code",
   "execution_count": 64,
   "id": "0aab917c-d2ef-4e7d-b03b-a0d590c9e3ee",
   "metadata": {
    "tags": []
   },
   "outputs": [],
   "source": [
    "// Ingresar código aquí"
   ]
  },
  {
   "cell_type": "markdown",
   "id": "e74280ef-c284-4a33-a121-89612e9803ef",
   "metadata": {},
   "source": [
    "¿Cómo se eliminan elementos de un árbol? Implementa y prueba la clase `TestBSTDelete.java` del libro guía. Listing 25.7, capítulo 25, página m.  "
   ]
  },
  {
   "cell_type": "code",
   "execution_count": 65,
   "id": "ef0ba2b3-9d9f-436d-bd84-079fe06ad30e",
   "metadata": {
    "tags": []
   },
   "outputs": [],
   "source": [
    "// Ingresar código aquí"
   ]
  },
  {
   "cell_type": "markdown",
   "id": "2366915f",
   "metadata": {},
   "source": [
    "Ahora, implementemos la clase para iterar sobre un árbol BTS, `TestBSTWithIterator.java`, Listing 25.10, capítulo 25, página mvii.\n",
    "\n",
    "\n",
    "BST is iterable because it is defined as a subtype of the java.lang.Iterable\n",
    "interface.\n"
   ]
  },
  {
   "cell_type": "code",
   "execution_count": 66,
   "id": "dc143657",
   "metadata": {},
   "outputs": [],
   "source": [
    "// Ingresar código aquí"
   ]
  },
  {
   "cell_type": "markdown",
   "id": "256477b7",
   "metadata": {},
   "source": [
    "Utilizando esta clase, la más completa y robusta, implementar los árboles de las Figuras 8.5, 8.6, 25.5 y 25.8. "
   ]
  },
  {
   "cell_type": "code",
   "execution_count": 67,
   "id": "67846583",
   "metadata": {},
   "outputs": [],
   "source": [
    "// Ingresar código aquí"
   ]
  },
  {
   "cell_type": "markdown",
   "id": "356fffa4",
   "metadata": {},
   "source": [
    "## <a id='toc1_11_'></a>[Actividades Prácticas](#toc0_)\n",
    "\n",
    "En esta práctica realizaremos las siguientes tres tareas:\n",
    "\n",
    "- Implementar los árboles de las Figura 8.3, 8.4, 25.5, y 25.8, utilizando los diferentes códigos que hay en el notebook, ¿que diferencias hay, que ventajas/desventajas existen entre esas clases?\n",
    "- Utilizando la clase robusta implementar los árboles de las Figuras 8.5, 8.6, 25.5 y 25.8. Además, recorrer los árboles de forma Depth First Search (DFS): Inorder, Preorder, y Postorder; y con Breadth First Search (BFS).\n",
    "\n",
    "- Implementar la clase `BSTAnimation.java` para visualizar los árboles binarios. Recuerden que para poder ejecutar esta clase se necesitan de otras clases y crear un proyecto que no sea *No Archetype* *sino JavaFX*. (Opcional)\n",
    "\n",
    ">[!NOTE]\n",
    ">El trabajo se debe entregar como un proyecto de java. Deben subir la carpeta del proyecto comprimida en formato .zip o .tar."
   ]
  },
  {
   "cell_type": "markdown",
   "metadata": {},
   "source": [
    "## <a id='toc1_12_'></a>[Conclusión](#toc0_)\n",
    "\n",
    "Los árboles son una estructura de datos esencial en programación y se aplican en diversas áreas de la informática. Al comprender los conceptos teóricos y poner en práctica la implementación de árboles en Java, se obtiene una herramienta poderosa para la manipulación y organización de datos complejos de manera jerárquica.\n",
    "\n",
    "## <a id='toc1_13_'></a>[Referencias](#toc0_)\n",
    "\n",
    "### <a id='toc1_13_1_'></a>[Libros](#toc0_)\n",
    "\n",
    "- Michael T. Goodrich, Roberto Tamassia, y Michael H. Goldwasser. *Data Structures and Algorithms in Java™*. Wiley sexta edición, 2014. Capítulo 8, página 307.\n",
    "- Y. Daniel Liang. *Introduction to Java Programming and Data Structures, Comprehensive Version*. Pearson edición 12, 2019. Capítulo 25, paǵina cmlxxxiii.\n",
    "\n",
    "### <a id='toc1_13_2_'></a>[Repositorios](#toc0_)\n",
    "\n",
    "- [Data-Structures-Algorithms-Java - indraantoor - Github](https://github.com/indraantoor/Data-Structures-Algorithms-Java/tree/master/Non%20Linear%20Data%20Structures/Trees)\n",
    "- [Introduction to Java Programming and Data Structures, Comprehensive Version, 12th Edition Authors: Y. Daniel LiangY. Daniel Liang - Source Code](https://media.pearsoncmg.com/ph/esm/ecs_liang_ijp_12/cw/content/source-code.php)\n",
    "- [Examples from Introduction to Java Programming and Data Structures, Comprehensive 12E, Y. Daniel LiangExamples from Introduction to Java Programming and Data Structures, Comprehensive 12E, Y. Daniel Liang](https://media.pearsoncmg.com/ph/esm/ecs_liang_ijp_12/cw/content/ExampleByChapters.htmlhttps://media.pearsoncmg.com/ph/esm/ecs_liang_ijp_12/cw/content/ExampleByChapters.html)\n",
    "\n",
    "\n",
    "### <a id='toc1_13_3_'></a>[Guías y Tutoriales](#toc0_)\n",
    "\n",
    "- [Tree Traversal Techniques](https://www.geeksforgeeks.org/tree-traversals-inorder-preorder-and-postorder/)\n",
    "- [Binary Search Tree Traversal – Inorder, Preorder, Post Order for BST](https://www.freecodecamp.org/news/binary-search-tree-traversal-inorder-preorder-post-order-for-bst/)\n",
    "- [Tree traversal - Wikipedia](https://en.wikipedia.org/wiki/Tree_traversal)\n",
    "- [Binary Search Tree (BST) Traversals – Inorder, Preorder, Post Order](https://www.geeksforgeeks.org/binary-search-tree-traversal-inorder-preorder-post-order/)\n",
    "- [Tree Data Structure - JavatPoint](https://www.javatpoint.com/tree)\n",
    "- [DSA using Java - Tree](https://www.tutorialspoint.com/dsa_using_java/dsa_using_java_tree.htm)\n",
    "- [Tree Data Structure with Java](https://javachallengers.com/tree-data-structure-with-java/)\n",
    "- [Binary tree traversal - breadth-first and depth-first strategies ](https://www.youtube.com/watch?v=9RHO6jU--GU)"
   ]
  }
 ],
 "metadata": {
  "kernelspec": {
   "display_name": "Java",
   "language": "java",
   "name": "java"
  },
  "language_info": {
   "codemirror_mode": "java",
   "file_extension": ".jshell",
   "mimetype": "text/x-java-source",
   "name": "java",
   "pygments_lexer": "java",
   "version": "21.0.4+7-Ubuntu-1ubuntu224.04"
  }
 },
 "nbformat": 4,
 "nbformat_minor": 5
}
