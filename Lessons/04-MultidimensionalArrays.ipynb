{
 "cells": [
  {
   "cell_type": "markdown",
   "metadata": {},
   "source": [
    "# Arreglos de Varias Dimensiones\n",
    "\n",
    "## Definición de Arreglos Multidimensionales\n",
    "\n",
    "Un **arreglo multidimensional** es una estructura de datos que permite almacenar y organizar datos en una tabla con más de una dimensión. El ejemplo más común es una matriz bidimensional, que se puede visualizar como una tabla de filas y columnas. En Java, los arreglos multidimensionales se implementan como arreglos de arreglos, permitiendo trabajar con datos en múltiples dimensiones de manera eficiente.\n",
    "\n",
    "- **Arreglo bidimensional (matriz):** Es el tipo más común de arreglo multidimensional, donde cada elemento es identificado por dos índices: uno para la fila y otro para la columna.\n",
    "  \n",
    "- **Arreglos de más dimensiones:** Java también soporta arreglos de tres, cuatro o más dimensiones, aunque en la práctica se utilizan menos debido a la complejidad que generan.\n",
    "\n",
    "\n",
    "## Tipos de Arreglos Multidimensionales\n",
    "\n",
    "### Arreglo Bidimensional (Matriz)\n",
    "Un arreglo bidimensional es equivalente a una tabla con `m` filas y `n` columnas. En Java, se declara de la siguiente manera:"
   ]
  },
  {
   "cell_type": "code",
   "execution_count": null,
   "metadata": {},
   "outputs": [
    {
     "data": {
      "text/plain": [
       "0"
      ]
     },
     "execution_count": 3,
     "metadata": {},
     "output_type": "execute_result"
    }
   ],
   "source": [
    "int[][] matriz = new int[3][4]; // Matriz de 3 filas y 4 columnas\n",
    "System.out.println(matriz[0][0]);\n",
    "\n",
    "// Implementar alguna de las matrices de la imagen de abajo"
   ]
  },
  {
   "cell_type": "markdown",
   "metadata": {},
   "source": [
    "Siempre para acceder a un elemento de cualquier arreglo es mediante enteros\n",
    "\n",
    "```{figure} ../../images/Figure8.1.png\n",
    "---\n",
    "width: 70%\n",
    "name: Figure8.1\n",
    "---\n",
    "Here is my figure caption!\n",
    "```\n",
    "\n",
    "\n",
    "Inicializar los valores se puede hacer de varias formas que son equivalentes\n",
    "\n",
    "```{figure} ../../images/matriz_equiv.png\n",
    "---\n",
    "width: 70%\n",
    "name: matriz_equiv\n",
    "---\n",
    "Here is my figure caption!\n",
    "```\n",
    "\n",
    "Entonces los arreglos bidimensionales se pueden pensar como un arreglo unidimensional de la siguiente forma:\n",
    "\n",
    "```{figure} ../../images/Figure8.2.png\n",
    "---\n",
    "width: 70%\n",
    "name: Figure8.2\n",
    "---\n",
    "Here is my figure caption!\n",
    "```"
   ]
  },
  {
   "cell_type": "markdown",
   "metadata": {},
   "source": [
    "Algunos ejemplos:\n",
    "\n",
    "::::{grid}\n",
    "\n",
    ":::{grid-item}\n",
    ":margin: auto auto 0 0\n",
    ":columns: 4\n",
    "\n",
    "\n",
    "```{figure} https://upload.wikimedia.org/wikipedia/commons/c/cb/Shaxmat.PNG\n",
    "---\n",
    "width: 100%\n",
    "name: ajedrez\n",
    "---\n",
    "Tablero de ajedrez.\n",
    "```\n",
    ":::\n",
    "\n",
    ":::{grid-item}\n",
    ":margin: auto auto 0 0\n",
    ":columns: 8\n",
    "\n",
    "\n",
    "```{figure} https://i.redd.it/0ez2y3ugelz91.jpg\n",
    "---\n",
    "width: 100%\n",
    "name: ciudades\n",
    "---\n",
    "Distribución de casas en ciudades.\n",
    "```\n",
    ":::\n",
    "\n",
    ":::{grid-item}\n",
    ":margin: auto auto 0 0\n",
    ":columns: 5\n",
    "\n",
    "\n",
    "```{figure} https://maderplas.com/wp-content/uploads/2023/12/locker-o-casilleros-plasticos-industriales-2-scaled.jpg\n",
    "---\n",
    "width: 100%\n",
    "name: \n",
    "---\n",
    "Casilleros.\n",
    "```\n",
    ":::\n",
    "\n",
    ":::{grid-item}\n",
    ":margin: auto auto 0 0\n",
    ":columns: 7\n",
    "\n",
    "\n",
    "```{figure} https://www.marketingdirecto.com/wp-content/uploads/2017/02/imagen-pixelada.jpg\n",
    "---\n",
    "width: 100%\n",
    "name: imagenes\n",
    "---\n",
    "Imagenes.\n",
    "```\n",
    ":::\n",
    "\n",
    "\n",
    "::::\n",
    "\n"
   ]
  },
  {
   "cell_type": "markdown",
   "metadata": {},
   "source": [
    "### Arreglos de Dimensiones Superiores\n",
    "\n",
    "Java permite declarar arreglos de más de dos dimensiones. Estos pueden ser vistos como arreglos de arreglos de arreglos, creando así \"cubos\" o estructuras más complejas:"
   ]
  },
  {
   "cell_type": "code",
   "execution_count": null,
   "metadata": {},
   "outputs": [
    {
     "data": {
      "text/plain": [
       "0"
      ]
     },
     "execution_count": 4,
     "metadata": {},
     "output_type": "execute_result"
    }
   ],
   "source": [
    "int[][][] cubo = new int[3][4][5]; // Arreglo tridimensional de 3x4x5\n",
    "System.out.println(cubo[1][2][3]);"
   ]
  },
  {
   "cell_type": "markdown",
   "metadata": {},
   "source": [
    "Algunos ejemplos:\n",
    "\n",
    "::::{grid}\n",
    "\n",
    ":::{grid-item}\n",
    ":margin: auto auto 0 0\n",
    ":columns: 6\n",
    "\n",
    "\n",
    "```{figure} https://imagenes.eltiempo.com/files/image_1200_600/uploads/2018/08/17/5b771054209cc.jpeg\n",
    "---\n",
    "width: 100%\n",
    "name: \n",
    "---\n",
    "Grupos de conjuntos residenciales.\n",
    "```\n",
    ":::\n",
    "\n",
    ":::{grid-item}\n",
    ":margin: auto auto 0 0\n",
    ":columns: 6\n",
    "\n",
    "\n",
    "```{figure} https://i.ytimg.com/vi/ZfkP5hqP3HI/maxresdefault.jpg\n",
    "---\n",
    "width: 100%\n",
    "name: \n",
    "---\n",
    "Cubo rubic.\n",
    "```\n",
    ":::\n",
    "\n",
    "::::"
   ]
  },
  {
   "cell_type": "markdown",
   "metadata": {},
   "source": [
    "### Arreglos Irregulares (Jagged Arrays)\n",
    "Java permite crear arreglos donde las filas tienen diferentes tamaños, conocidos como **arreglos irregulares**:"
   ]
  },
  {
   "cell_type": "code",
   "execution_count": null,
   "metadata": {},
   "outputs": [
    {
     "data": {
      "text/plain": [
       "[I@23d2b40"
      ]
     },
     "execution_count": 5,
     "metadata": {},
     "output_type": "execute_result"
    }
   ],
   "source": [
    "int[][] jaggedArray = new int[3][];\n",
    "jaggedArray[0] = new int[2]; // Primera fila con 2 columnas\n",
    "jaggedArray[1] = new int[3]; // Segunda fila con 3 columnas\n",
    "jaggedArray[2] = new int[1]; // Tercera fila con 1 columna"
   ]
  },
  {
   "cell_type": "markdown",
   "metadata": {},
   "source": [
    "```{figure} ../../images/triangular.png\n",
    "---\n",
    "width: 70%\n",
    "name: triangular\n",
    "---\n",
    "Here is my figure caption!\n",
    "```"
   ]
  },
  {
   "cell_type": "code",
   "execution_count": null,
   "metadata": {},
   "outputs": [],
   "source": [
    "// Implementa la matriz"
   ]
  },
  {
   "cell_type": "markdown",
   "metadata": {},
   "source": [
    "Algunos ejemplos:\n",
    "\n",
    "\n",
    "::::{grid}\n",
    "\n",
    ":::{grid-item}\n",
    ":margin: auto auto 0 0\n",
    ":columns: 8\n",
    "\n",
    "\n",
    "```{figure} https://upload.wikimedia.org/wikipedia/commons/thumb/c/c2/01_khafre_north.jpg/640px-01_khafre_north.jpg\n",
    "---\n",
    "width: 90%\n",
    "name: \n",
    "---\n",
    "Pirámides.\n",
    "```\n",
    ":::\n",
    "\n",
    ":::{grid-item}\n",
    ":margin: auto auto 0 0\n",
    ":columns: 4\n",
    "\n",
    "\n",
    "```{figure} https://encrypted-tbn0.gstatic.com/images?q=tbn:ANd9GcSVdWoT6w87t7Ql1W2UGwOcpmuJ0PoyGLDPpA&s\n",
    "---\n",
    "width: 100%\n",
    "name: \n",
    "---\n",
    "Edificios.\n",
    "```\n",
    ":::\n",
    "\n",
    "::::\n"
   ]
  },
  {
   "cell_type": "markdown",
   "metadata": {},
   "source": [
    "## Operaciones Básicas en Arreglos Multidimensionales\n",
    "\n",
    "### Inicialización\n",
    "Los arreglos multidimensionales se pueden inicializar explícitamente al declarar los valores dentro de llaves:"
   ]
  },
  {
   "cell_type": "code",
   "execution_count": null,
   "metadata": {},
   "outputs": [],
   "source": [
    "int[][] matriz = {\n",
    "  {1, 2, 3},\n",
    "  {4, 5, 6},\n",
    "  {7, 8, 9}\n",
    "};"
   ]
  },
  {
   "cell_type": "markdown",
   "metadata": {},
   "source": [
    "Ejemplo practico con tablas:\n",
    "\n",
    "```{figure} ../../images/matriz.png\n",
    "---\n",
    "width: 70%\n",
    "name: matriz\n",
    "---\n",
    "Here is my figure caption!\n",
    "```"
   ]
  },
  {
   "cell_type": "code",
   "execution_count": null,
   "metadata": {},
   "outputs": [],
   "source": [
    "double[][] matrix = {\n",
    "  {0, 983, 787, 714, 1375, 967, 1087},    // chicago\n",
    "  {983, 0, 214, 1102, 1763, 1723, 1842},  // boston\n",
    "  {787, 214, 0, 888, 1549, 1548, 1627},   // New York\n",
    "  {714, 1102, 888, 0, 661, 781, 810},     // Atlanta\n",
    "   // Miami\n",
    "     // Dallas\n",
    "   // Houston\n",
    "  };"
   ]
  },
  {
   "cell_type": "markdown",
   "metadata": {},
   "source": [
    "### Acceso a Elementos\n",
    "Para acceder a un elemento de un arreglo bidimensional, se utilizan dos índices: el primero para la fila y el segundo para la columna:\n"
   ]
  },
  {
   "cell_type": "code",
   "execution_count": null,
   "metadata": {},
   "outputs": [],
   "source": [
    "int valor = matriz[1][2]; // Accede al elemento en la fila 2, columna 3 (índice 1,2)\n"
   ]
  },
  {
   "cell_type": "markdown",
   "metadata": {},
   "source": [
    "### Iteración sobre Arreglos\n",
    "El recorrido sobre un arreglo bidimensional se realiza mediante bucles anidados:"
   ]
  },
  {
   "cell_type": "code",
   "execution_count": null,
   "metadata": {},
   "outputs": [
    {
     "name": "stdout",
     "output_type": "stream",
     "text": [
      "1 2 3 \n",
      "4 5 6 \n",
      "7 8 9 \n"
     ]
    }
   ],
   "source": [
    "public void PrintMatrix(int[][] matriz){\n",
    "  for (int i = 0; i < matriz.length; i++) {\n",
    "    for (int j = 0; j < matriz[i].length; j++) {\n",
    "        System.out.print(matriz[i][j] + \" \");\n",
    "    }\n",
    "    System.out.println();\n",
    "  }\n",
    "}\n",
    "\n",
    "PrintMatrix(matriz);"
   ]
  },
  {
   "cell_type": "markdown",
   "metadata": {},
   "source": [
    "\n",
    "## Búsquedas en Arreglos Multidimensionales\n",
    "\n",
    "La búsqueda en un arreglo multidimensional implica iterar sobre sus elementos hasta encontrar el valor deseado. Dependiendo de la estructura del arreglo, se pueden realizar búsquedas lineales o usar otros algoritmos.\n",
    "\n",
    "### Búsqueda Lineal\n",
    "En la búsqueda lineal, se recorre cada fila y columna hasta encontrar el valor:"
   ]
  },
  {
   "cell_type": "code",
   "execution_count": null,
   "metadata": {},
   "outputs": [],
   "source": [
    "public static boolean buscarElemento(int[][] matriz, int valor) {\n",
    "  for (int i = 0; i < matriz.length; i++) {\n",
    "      for (int j = 0; j < matriz[i].length; j++) {\n",
    "          if (matriz[i][j] == valor) {\n",
    "              return true; // Elemento encontrado\n",
    "          }\n",
    "      }\n",
    "  }\n",
    "  return false; // Elemento no encontrado\n",
    "}"
   ]
  },
  {
   "cell_type": "markdown",
   "metadata": {},
   "source": [
    "### Búsqueda Binaria\n",
    "La búsqueda binaria puede aplicarse en cada fila de un arreglo bidimensional si está ordenado. Para cada fila, se realiza la búsqueda binaria:"
   ]
  },
  {
   "cell_type": "code",
   "execution_count": null,
   "metadata": {},
   "outputs": [],
   "source": [
    "public static boolean busquedaBinariaEnFila(int[] fila, int valor) {\n",
    "  int inicio = 0;\n",
    "  int fin = fila.length - 1;\n",
    "\n",
    "  while (inicio <= fin) {\n",
    "      int medio = (inicio + fin) / 2;\n",
    "\n",
    "      if (fila[medio] == valor) {\n",
    "          return true;\n",
    "      } else if (fila[medio] < valor) {\n",
    "          inicio = medio + 1;\n",
    "      } else {\n",
    "          fin = medio - 1;\n",
    "      }\n",
    "  }\n",
    "  return false;\n",
    "}"
   ]
  },
  {
   "cell_type": "markdown",
   "metadata": {},
   "source": [
    "## Aplicaciones de Arreglos Multidimensionales\n",
    "\n",
    "Los arreglos multidimensionales tienen diversas aplicaciones, entre ellas:\n",
    "\n",
    "- **Imágenes y Gráficos:** Los arreglos bidimensionales son utilizados para representar píxeles en imágenes, donde cada posición en la matriz corresponde a un píxel con su respectivo color o valor.\n",
    "  \n",
    "- **Matrices Matemáticas:** Se utilizan en diversas aplicaciones científicas y de ingeniería para representar y realizar cálculos con matrices.\n",
    "\n",
    "- **Tablas de Datos:** Los arreglos bidimensionales son útiles para almacenar y gestionar grandes volúmenes de datos organizados en tablas (por ejemplo, hojas de cálculo).\n",
    "\n",
    "- **Sistemas de Coordenadas:** En simulaciones físicas y videojuegos, los arreglos multidimensionales pueden representar espacios de varias dimensiones, como en un mapa o mundo tridimensional."
   ]
  },
  {
   "cell_type": "markdown",
   "metadata": {},
   "source": [
    "## Conclusiones\n",
    "\n",
    "Los arreglos multidimensionales son una estructura de datos fundamental en Java que permiten almacenar y manipular datos organizados en varias dimensiones, como tablas, matrices y cubos. Su versatilidad y facilidad de uso los hacen ideales para aplicaciones donde es necesario representar datos de forma tabular o manejar estructuras complejas, como imágenes, coordenadas espaciales o datos científicos.\n",
    "\n",
    "A través de la clase, se ha abordado la creación, manipulación y búsqueda de elementos dentro de estos arreglos, cubriendo tanto arreglos bidimensionales como irregulares. La comprensión de estos conceptos permite a los estudiantes resolver problemas prácticos relacionados con la gestión de datos, optimización de recursos y representación de sistemas reales.\n",
    "\n",
    "El taller práctico, que involucra la gestión de horarios de clases, es un ejemplo de cómo los arreglos multidimensionales se pueden aplicar en un contexto real, promoviendo la capacidad de resolver problemas complejos de manera eficiente.\n",
    "\n",
    "\n",
    "## Recursos Adicionales\n",
    "\n",
    "- Oracle Documentation. (n.d.). *Arrays in Java*. Retrieved from [https://docs.oracle.com/javase/tutorial/java/nutsandbolts/arrays.html](https://docs.oracle.com/javase/tutorial/java/nutsandbolts/arrays.html)\n"
   ]
  }
 ],
 "metadata": {
  "colab": {
   "include_colab_link": true,
   "provenance": [],
   "toc_visible": true
  },
  "kernelspec": {
   "display_name": "Java",
   "language": "java",
   "name": "java"
  },
  "language_info": {
   "codemirror_mode": "java",
   "file_extension": ".jshell",
   "mimetype": "text/x-java-source",
   "name": "java",
   "pygments_lexer": "java",
   "version": "21.0.4+7-Ubuntu-1ubuntu224.04"
  }
 },
 "nbformat": 4,
 "nbformat_minor": 0
}
