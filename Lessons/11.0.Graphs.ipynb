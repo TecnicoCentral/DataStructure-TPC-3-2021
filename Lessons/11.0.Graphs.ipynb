{
 "cells": [
  {
   "cell_type": "markdown",
   "metadata": {
    "vscode": {
     "languageId": "plaintext"
    }
   },
   "source": [
    "# Grafos\n",
    "\n",
    "## Objetivos\n",
    "\n",
    "- Comprender la terminología básica de los grafos.\n",
    "- Aprender las diferentes formas de representación de grafos en programación.\n",
    "- Implementar grafos en Java utilizando diferentes representaciones.\n",
    "- Identificar aplicaciones prácticas de los grafos en problemas de la vida real.\n",
    "- Desarrollar habilidades para manipular y recorrer grafos.\n"
   ]
  },
  {
   "cell_type": "markdown",
   "metadata": {},
   "source": [
    "## Conclusiones\n",
    "\n",
    "Los grafos son una estructura de datos poderosa y versátil que permite modelar y resolver una gran variedad de problemas de la vida real. Entender sus representaciones y algoritmos asociados, como la búsqueda en profundidad (DFS) y la búsqueda en anchura (BFS), es esencial para aprovechar su potencial. Implementar grafos en Java proporciona una base sólida para resolver problemas complejos en diversas áreas de la tecnología y la ciencia.\n",
    "\n",
    "## Recursos Adicionales\n",
    "\n",
    "### Tutoriales\n",
    "\n",
    "-  [5.1 Graph Traversals - BFS & DFS -Breadth First Search and Depth First Search ](https://www.youtube.com/watch?v=pcKY4hjDrxk)\n",
    "- GeeksforGeeks. \"Graph and its representations.\" [GeeksforGeeks](https://www.geeksforgeeks.org/graph-and-its-representations/)\n",
    "\n",
    "\n",
    "### Repositorios\n",
    "\n",
    "- [Data-Structures-Algorithms-Java - indraantoor - Github](https://github.com/indraantoor/Data-Structures-Algorithms-Java/tree/master/Non%20Linear%20Data%20Structures/Trees)\n",
    "- [Introduction to Java Programming and Data Structures, Comprehensive Version, 12th Edition Authors: Y. Daniel LiangY. Daniel Liang - Source Code](https://media.pearsoncmg.com/ph/esm/ecs_liang_ijp_12/cw/content/source-code.php)\n",
    "- [Examples from Introduction to Java Programming and Data Structures, Comprehensive 12E, Y. Daniel LiangExamples from Introduction to Java Programming and Data Structures, Comprehensive 12E, Y. Daniel Liang](https://media.pearsoncmg.com/ph/esm/ecs_liang_ijp_12/cw/content/ExampleByChapters.htmlhttps://media.pearsoncmg.com/ph/esm/ecs_liang_ijp_12/cw/content/ExampleByChapters.html)\n",
    "\n",
    "### Videos\n",
    "\n",
    "- [Algorithms: Graph Search, DFS and BFS ](https://www.youtube.com/watch?v=zaBhtODEL0w)\n",
    "- [5.1 Graph Traversals - BFS & DFS -Breadth First Search and Depth First Search ](https://www.youtube.com/watch?v=pcKY4hjDrxk)"
   ]
  }
 ],
 "metadata": {
  "kernelspec": {
   "display_name": "Java",
   "language": "java",
   "name": "java"
  },
  "language_info": {
   "codemirror_mode": "java",
   "file_extension": ".jshell",
   "mimetype": "text/x-java-source",
   "name": "Java",
   "pygments_lexer": "java",
   "version": "21.0.4+7-Ubuntu-1ubuntu224.04"
  }
 },
 "nbformat": 4,
 "nbformat_minor": 2
}
