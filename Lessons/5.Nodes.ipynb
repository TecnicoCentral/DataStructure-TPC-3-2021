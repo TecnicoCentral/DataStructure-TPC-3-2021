{
 "cells": [
  {
   "cell_type": "markdown",
   "metadata": {},
   "source": [
    "# Nodos\n",
    "\n",
    "Recuerden que estas estructuras se suelen colocar en una clase mayor de Java llamada `Collection`.\n",
    "\n",
    "```{figure} ../../images/Figure20.1.png\n",
    "---\n",
    "width: 95%\n",
    "name: Figure20.1\n",
    "---\n",
    "Here is my figure caption!\n",
    "```\n",
    "\n",
    "## Introducción\n",
    "\n",
    "```{figure} ../../images/Figure2.15.png\n",
    "---\n",
    "scale: 70\n",
    "width: 80%\n",
    "align: right\n",
    "name: Figure2.15\n",
    "---\n",
    "Here is my figure caption!\n",
    "```\n",
    "\n",
    "En estructuras de datos, un **nodo** es una unidad que contiene información y una o más **referencias** a otros nodos. Los nodos son fundamentales para la construcción de estructuras como listas enlazadas, árboles y grafos.\n",
    "\n",
    "En Java, un nodo suele implementarse como una clase que contiene dos componentes básicos:\n",
    "- **Dato:** El valor o elemento almacenado en el nodo.\n",
    "- **Referencia:** Un puntero o enlace a otro nodo.\n",
    "\n",
    "## Ejemplo básico de un nodo"
   ]
  },
  {
   "cell_type": "code",
   "execution_count": null,
   "metadata": {},
   "outputs": [],
   "source": [
    "public class Nodo {\n",
    "    int data; // Dato almacenado en el nodo\n",
    "    Nodo siguiente; // Referencia al siguiente nodo\n",
    "\n",
    "    public Nodo(int data) {\n",
    "        this.data = data;\n",
    "        this.siguiente = null; // Inicialmente, no tiene un nodo siguiente\n",
    "    }\n",
    "}"
   ]
  },
  {
   "cell_type": "code",
   "execution_count": 2,
   "metadata": {},
   "outputs": [],
   "source": [
    "// probar nodo aquí"
   ]
  },
  {
   "cell_type": "markdown",
   "metadata": {},
   "source": [
    "## Conclusiones\n",
    "\n",
    "Los nodos y las referencias son componentes fundamentales en la implementación de estructuras de datos como listas enlazadas, listas doblemente enlazadas y grafos. Al dominar estos conceptos, los estudiantes pueden implementar estructuras de datos más complejas y optimizadas, cruciales para la resolución eficiente de problemas en la programación. Las listas permiten manejar datos dinámicos, mientras que los grafos ofrecen una manera poderosa de modelar relaciones entre entidades.\n",
    "\n",
    "\n",
    "## Referencias\n",
    "\n",
    "### Códigos\n",
    "\n",
    "- [Introduction to Java Programming and Data Structures, Comprehensive Version, 12th Edition](https://media.pearsoncmg.com/ph/esm/ecs_liang_ijp_12/cw/content/source-code.php)\n",
    "- [Intro-to-Java-Programming](https://github.com/jsquared21/Intro-to-Java-Programming)\n",
    "\n",
    "\n",
    "### Libros\n",
    "\n",
    "- Y. Daniel Liang. *Introduction to Java Programming and Data Structures, Comprehensive Version*. Addison Wesley. Edición 12 (2019). Capítulo 24.4, página cmlviii-\n",
    "- Koffman, Elliot B.; Wolfgang, Paul A. T. *Data structures : abstraction and design using Java*. Wiley 2016. Capítulo 2.5, página 77.\n",
    "- Michael T. Goodrich, Roberto Tamassia, Michael H. Goldwasser. *Data Structures and Algorithms in Java*. Wiley 2014. Capítulo 3.2, página 122."
   ]
  }
 ],
 "metadata": {
  "kernelspec": {
   "display_name": "Java",
   "language": "java",
   "name": "java"
  },
  "language_info": {
   "codemirror_mode": "java",
   "file_extension": ".jshell",
   "mimetype": "text/x-java-source",
   "name": "java",
   "pygments_lexer": "java",
   "version": "21.0.4+7-Ubuntu-1ubuntu224.04"
  }
 },
 "nbformat": 4,
 "nbformat_minor": 2
}
