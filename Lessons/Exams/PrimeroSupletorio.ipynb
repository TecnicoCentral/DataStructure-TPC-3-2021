{
 "cells": [
  {
   "cell_type": "markdown",
   "metadata": {},
   "source": [
    "# Primer Examen - Estructura de Datos\n",
    "\n",
    "## Objetivo\n",
    "Evaluar la comprensión de los conceptos fundamentales de la Programación Orientada a Objetos (POO) y la correcta aplicación de los arreglos unidimensionales en la resolución de problemas mediante la programación en Java.\n",
    "\n",
    "## Instrucciones Generales\n",
    "1. Lee cuidadosamente cada enunciado antes de desarrollar tu respuesta.\n",
    "2. Desarrolla tus soluciones utilizando los conceptos de POO y arreglos unidimensionales.\n",
    "3. Justifica tu diseño y las decisiones que tomes en cada ejercicio.\n",
    "4. Entregar una solución bien estructurada, clara y coherente.\n",
    "\n",
    "\n",
    "## Punto 1: Programación Orientada a Objetos (50 puntos)\n",
    "\n",
    "Diseña un sistema que modele una biblioteca en Java utilizando los principios de Programación Orientada a Objetos (POO). El sistema debe considerar los siguientes elementos:\n",
    "\n",
    "- **Clases:** Define una clase principal llamada `Libro`, que represente los atributos y métodos necesarios para los libros que se almacenan en la biblioteca. Además, crea otras clases derivadas que hereden de `Libro`, como `Novela` y `Enciclopedia`, para modelar diferentes tipos de libros.\n",
    "  \n",
    "- **Atributos y Métodos:** Cada clase debe tener atributos como el título, el autor, el número de páginas, y el año de publicación. Define métodos para mostrar la información del libro y realizar otras operaciones que consideres necesarias. Al menos 2 atributos por clase y un método por clase.\n",
    "\n",
    "- **Herencia:** Aplica herencia para evitar la duplicación de código y agregar funcionalidades específicas en las subclases, por ejemplo, que una enciclopedia tenga un volumen y una novela un género literario.\n",
    "\n",
    "- **Visibilidad:** Utiliza modificadores de acceso (`private`, `public`, `protected`) adecuados para cada atributo y método de las clases. Justifica por qué ciertos atributos deben ser privados o protegidos y cómo se deben manipular utilizando métodos (getters y setters). De los 6 atributos creados al menos 4 deben ser privados.\n",
    "\n",
    "En tu diseño, describe cómo cada pilar de la POO (Encapsulamiento, Herencia, Polimorfismo y Abstracción) se refleja en tu solución. No es necesario implementar el código, pero describe detalladamente cómo estructurarías cada clase y las relaciones entre ellas.\n"
   ]
  },
  {
   "cell_type": "code",
   "execution_count": null,
   "metadata": {},
   "outputs": [],
   "source": []
  },
  {
   "cell_type": "markdown",
   "metadata": {},
   "source": [
    "## Punto 2: Arreglos Unidimensionales (50 puntos)\n",
    "\n",
    "Imagina que se te ha encargado desarrollar un programa que permita gestionar un inventario de una tienda de tecnología. Para ello, debes diseñar una solución que use arreglos unidimensionales para almacenar los nombres y precios de los productos. En este contexto, se te pide lo siguiente:\n",
    "\n",
    "- **Definición de los Arreglos:** Utiliza dos arreglos unidimensionales, uno para almacenar los nombres de los productos y otro para almacenar los precios correspondientes de cada producto.\n",
    "  \n",
    "- **Búsqueda:** Implementa una función de búsqueda de un producto en el arreglo de nombres y que devuelva el precio asociado desde el otro arreglo.\n",
    "\n",
    "- **Total de Productos:** Implementa una función que dado un producto y una cantidad calculer e imprima o retorne el total de la compra.\n",
    "\n",
    "- **Aplicaciones:** Describe cómo esta solución basada en arreglos podría aplicarse en una tienda con un inventario fijo y pequeño. Reflexiona sobre las limitaciones de los arreglos para este tipo de problemas y posibles alternativas si el número de productos crece.\n"
   ]
  },
  {
   "cell_type": "code",
   "execution_count": null,
   "metadata": {},
   "outputs": [],
   "source": []
  },
  {
   "cell_type": "markdown",
   "metadata": {},
   "source": [
    "## Conclusión\n",
    "\n",
    "Este examen práctico está diseñado para evaluar tu comprensión y capacidad para aplicar los principios de la Programación Orientada a Objetos (POO) y los arreglos unidimensionales en problemas reales. Al resolver los problemas propuestos, demostrarás tu habilidad para diseñar sistemas complejos utilizando clases, herencia, encapsulamiento, y manejar datos de manera eficiente con estructuras como arreglos. Es importante que justifiques tus decisiones de diseño, lo que refleja tu comprensión teórica y práctica de los temas abordados.\n",
    "\n",
    "\n",
    "## Criterios de Calificación\n",
    "\n",
    "**Punto 1: Programación Orientada a Objetos (50 puntos)**\n",
    "- **Clases y Atributos (15 puntos):** Correcta definición de las clases y sus atributos. Uso adecuado de tipos de datos y estructura de herencia.\n",
    "- **Métodos (10 puntos):** Definición clara de los métodos con funcionalidad coherente. Uso adecuado de modificadores de acceso y encapsulamiento.\n",
    "- **Herencia y Polimorfismo (10 puntos):** Implementación correcta de la herencia y explicación de cómo se aplicaría el polimorfismo en el diseño.\n",
    "- **Visibilidad y Encapsulamiento (10 puntos):** Justificación adecuada del uso de modificadores de visibilidad y encapsulamiento. Uso de getters y setters.\n",
    "- **Justificación de Diseño (5 puntos):** Explicación clara de cómo cada pilar de POO (Encapsulamiento, Herencia, Polimorfismo y Abstracción) se refleja en la solución.\n",
    "\n",
    "**Punto 2: Arreglos Unidimensionales (50 puntos)**\n",
    "- **Definición de Arreglos (10 puntos):** Descripción adecuada de cómo se manejarán los datos en los arreglos. Elección correcta de tipos de datos y lógica de estructura.\n",
    "- **Búsqueda (10 puntos):** Explicación detallada del proceso de búsqueda y cómo se obtendrá el precio correspondiente de un producto.\n",
    "- **Ordenamiento (15 puntos):** Descripción precisa del algoritmo de ordenamiento y cómo se ajustarán los nombres y precios.\n",
    "- **Aplicaciones y Reflexión (10 puntos):** Explicación clara de cómo los arreglos se aplicarían a un caso real. Reflexión sobre las limitaciones de los arreglos.\n",
    "- **Justificación de Diseño (5 puntos):** Explicación adecuada de las decisiones tomadas en la solución del problema de inventario.\n",
    "\n",
    "Total: **100 puntos**\n"
   ]
  }
 ],
 "metadata": {
  "kernelspec": {
   "display_name": "Java",
   "language": "java",
   "name": "java"
  },
  "language_info": {
   "name": "java"
  }
 },
 "nbformat": 4,
 "nbformat_minor": 2
}
