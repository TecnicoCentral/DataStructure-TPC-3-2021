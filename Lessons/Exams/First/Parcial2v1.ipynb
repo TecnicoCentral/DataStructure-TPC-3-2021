{
 "cells": [
  {
   "cell_type": "markdown",
   "metadata": {},
   "source": [
    "# <a id='toc1_'></a>[Segundo Parcial - V1](#toc0_)\n",
    "\n",
    "---\n",
    "\n",
    "**Tabla de Contenidos (ToC)**<a id='toc0_'></a>    \n",
    "- [Segundo Parcial - V1](#toc1_)    \n",
    "  - [Instrucciones](#toc1_1_)    \n",
    "  - [Problema 1: Gestión de Tareas en un Sistema](#toc1_2_)    \n",
    "  - [Problema 2: Registro de Llamadas en un Centro de Atención](#toc1_3_)    \n",
    "  - [Consideraciones Adicionales:](#toc1_4_)    \n",
    "\n",
    "<!-- vscode-jupyter-toc-config\n",
    "   numbering=false\n",
    "   anchor=true\n",
    "   flat=false\n",
    "   minLevel=1\n",
    "   maxLevel=6\n",
    "   /vscode-jupyter-toc-config -->\n",
    "<!-- THIS CELL WILL BE REPLACED ON TOC UPDATE. DO NOT WRITE YOUR TEXT IN THIS CELL -->\n",
    "\n",
    "---\n",
    "\n",
    "## <a id='toc1_1_'></a>[Instrucciones](#toc0_)\n",
    "Resuelve los siguientes problemas utilizando las estructuras de datos correctas: pilas o colas. Justifica tu elección y describe el proceso general de cómo manejarías cada acción. Recuerda que no debes escribir código, pero sí detallar cómo usarías los métodos de las clases implementadas.\n",
    "\n",
    ">Como sugerencia, para las clases con las que se llenaran las estructuras de datos coloquen sus atributos públicos para mayor facilidad.\n",
    "\n",
    "## <a id='toc1_2_'></a>[Problema 1: Gestión de Tareas en un Sistema](#toc0_)\n",
    "\n",
    "Un sistema de gestión de tareas permite a los usuarios añadir tareas a una estructura de datos para ser ejecutadas en orden inverso en que fueron recibidas. Las tareas pueden ser de diferentes tipos y, en ciertos casos, pueden requerir atención inmediata.\n",
    "\n",
    "Las tareas son guardadas no como `Strings` sino como objetos de la clase `Tareas` que contienen el nombre de la tarea, el tiempo de duración, la persona que la va a ejecutar, y el costo de cada una.\n",
    "\n",
    "**Acciones:**\n",
    "\n",
    "1. Se añaden las siguientes tareas a la estructura de datos, en este orden:\n",
    "   - Tarea 1: Imprimir documentos\n",
    "   - Tarea 2: Enviar correos electrónicos\n",
    "   - Tarea 3: Compilar informes\n",
    "\n",
    "2. Luego, se recibe una tarea urgente:\n",
    "   - Tarea 4: Procesar una solicitud de emergencia\n",
    "\n",
    "3. El sistema ejecuta la primera tarea en la estructura de datos.\n",
    "\n",
    "4. A continuación, llegan dos tareas más:\n",
    "   - Tarea 5: Actualizar la base de datos\n",
    "   - Tarea 6: Realizar copias de seguridad\n",
    "\n",
    "5. Después, se recibe otra tarea urgente:\n",
    "   - Tarea 7: Responder a un cliente importante\n",
    "\n",
    "6. Finalmente, se ejecutan tres tareas más de la estructura de datos.\n",
    "\n",
    "**Preguntas:**\n",
    "\n",
    "- ¿Qué estructura de datos usarías para gestionar las tareas y cómo manejarías la llegada de tareas urgentes?\n",
    "- Explica el proceso que seguirías para ejecutar las tareas en el orden adecuado utilizando una cola. ¿Cómo manejarías la atención de las tareas urgentes sin alterar el orden de la cola de tareas regulares?\n",
    "- ¿La estructura de datos queda vacía?"
   ]
  },
  {
   "cell_type": "code",
   "execution_count": null,
   "metadata": {
    "vscode": {
     "languageId": "java"
    }
   },
   "outputs": [],
   "source": [
    "// Implementa tu código aquí"
   ]
  },
  {
   "cell_type": "markdown",
   "metadata": {},
   "source": [
    "## <a id='toc1_3_'></a>[Problema 2: Registro de Llamadas en un Centro de Atención](#toc0_)\n",
    "\n",
    "Un centro de atención telefónica gestiona las llamadas de los clientes, registrando la información relevante sobre cada llamada. Las llamadas son atendidas en el orden en que llegan.\n",
    "\n",
    "Las llamadas son guardadas no como `Strings` sino como objetos de la clase `Llamadas` que contienen el número de la llamada, nombre del cliente, motivo de la llamada, número de donde se llama, y genero del cliente.\n",
    "\n",
    "**Acciones:**\n",
    "\n",
    "1. Las siguientes llamadas llegan al centro en este orden:\n",
    "   - Llamada 1: Cliente A, consulta sobre una factura\n",
    "   - Llamada 2: Cliente B, problema técnico\n",
    "   - Llamada 3: Cliente C, solicitud de reembolso\n",
    "\n",
    "2. Luego llega una llamada, pero otra llamada ya se ha atendido:\n",
    "   - Llamada 4: Cliente D, problema crítico con el servicio\n",
    "\n",
    "3. Se atiende a dos llamadas.\n",
    "\n",
    "4. A continuación, llegan dos llamadas más:\n",
    "   - Llamada 5: Cliente E, consulta general\n",
    "   - Llamada 6: Cliente F, pregunta sobre un producto\n",
    "\n",
    "5. Se recibe otra llamada, pero antes se atienden 2:\n",
    "   - Llamada 7: Cliente G, fallo del sistema\n",
    "\n",
    "6. Finalmente, se atienden dos llamadas más.\n",
    "\n",
    "**Preguntas:**\n",
    "\n",
    "- ¿Qué estructura de datos usarías para gestionar las llamadas y cómo manejarías la llegada de llamadas urgentes?\n",
    "- Describe cómo garantizarías que las llamadas se atiendan en el orden correcto utilizando una estructura de datos para las llamadas. \n",
    "- Si existiesen llamadas de emergencia, ¿Cómo se podrían gestionar estos tipos de usuarios?"
   ]
  },
  {
   "cell_type": "code",
   "execution_count": null,
   "metadata": {
    "vscode": {
     "languageId": "java"
    }
   },
   "outputs": [],
   "source": [
    "// Implementa tu código aquí"
   ]
  },
  {
   "cell_type": "markdown",
   "metadata": {},
   "source": [
    "## <a id='toc1_4_'></a>[Consideraciones Adicionales:](#toc0_)\n",
    "\n",
    "- **Problema 1 (Gestión de Tareas):** Detalla cómo se añaden y ejecutan las tareas en la estructura de datos, y cómo se manejan las tareas urgentes para asegurar que sean atendidas sin afectar el flujo de trabajo general.\n",
    "  \n",
    "- **Problema 2 (Registro de Llamadas):** Analiza cómo las llamadas se registran en la estructura de datos y qué métodos utilizarías para garantizar que las llamadas urgentes sean atendidas de manera eficiente, sin perder el orden de las llamadas regulares."
   ]
  }
 ],
 "metadata": {
  "language_info": {
   "name": "python"
  }
 },
 "nbformat": 4,
 "nbformat_minor": 2
}
