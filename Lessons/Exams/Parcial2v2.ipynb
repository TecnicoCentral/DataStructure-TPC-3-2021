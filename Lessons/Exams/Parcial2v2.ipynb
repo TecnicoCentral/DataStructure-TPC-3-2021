{
 "cells": [
  {
   "cell_type": "markdown",
   "metadata": {},
   "source": [
    "# <a id='toc1_'></a>[Segundo Parcial - V2](#toc0_)\n",
    "\n",
    "---\n",
    "\n",
    "**Tabla de Contenidos (ToC)**<a id='toc0_'></a>    \n",
    "- [Segundo Parcial - V2](#toc1_)    \n",
    "  - [Instrucciones](#toc1_1_)    \n",
    "  - [Problema 1: Sistema de Navegación Web](#toc1_2_)    \n",
    "  - [Problema 2: Gestión de Turnos en una Clínica](#toc1_3_)    \n",
    "    - [Consideraciones Adicionales](#toc1_3_1_)    \n",
    "\n",
    "<!-- vscode-jupyter-toc-config\n",
    "   numbering=false\n",
    "   anchor=true\n",
    "   flat=false\n",
    "   minLevel=1\n",
    "   maxLevel=6\n",
    "   /vscode-jupyter-toc-config -->\n",
    "<!-- THIS CELL WILL BE REPLACED ON TOC UPDATE. DO NOT WRITE YOUR TEXT IN THIS CELL -->\n",
    "\n",
    "---\n",
    "\n",
    "\n",
    "## <a id='toc1_1_'></a>[Instrucciones](#toc0_)\n",
    "Resuelve los siguientes problemas utilizando las estructuras de datos correctas: pilas o colas. Justifica tu elección y describe el proceso general de cómo manejarías cada acción. Recuerda que no debes escribir código, pero sí detallar cómo usarías los métodos de las clases implementadas.\n",
    "\n",
    ">Como sugerencia, para las clases con las que se llenaran las estructuras de datos coloquen sus atributos públicos para mayor facilidad.\n",
    "\n",
    "\n",
    "## <a id='toc1_2_'></a>[Problema 1: Sistema de Navegación Web](#toc0_)\n",
    "\n",
    "Un navegador web permite a los usuarios visitar diversas páginas y navegar entre ellas utilizando los botones \"Atrás\" y \"Adelante\". El sistema guarda el historial de las páginas visitadas en el orden en que fueron abiertas.\n",
    "\n",
    "Las páginas son guardadas no como `Strings` sino como objetos de la clase `PaginaWeb` que contienen el url, el nombre de la página web, la fecha de acceso, y cantidad de visitas diarias.\n",
    "\n",
    "**Acciones:**\n",
    "\n",
    "1. El usuario visita las siguientes páginas, en orden:\n",
    "   - [www.google.com](www.google.com)\n",
    "   - [www.wikipedia.org](www.wikipedia.org)\n",
    "   - [www.github.com](www.github.com)\n",
    "   - [www.medium.com](www.medium.com)\n",
    "\n",
    "2. El usuario presiona \"Atrás\" dos veces para regresar a páginas anteriores.\n",
    "\n",
    "3. Luego, el usuario presiona \"Adelante\" una vez.\n",
    "\n",
    "4. Después de eso, visita una nueva página: [www.stackoverflow.com](www.stackoverflow.com).\n",
    "\n",
    "5. Finalmente, intenta presionar \"Adelante\" de nuevo.\n",
    "\n",
    "**Preguntas:**\n",
    "\n",
    "- ¿Qué estructura de datos usarías para manejar el historial de páginas anteriores y por qué?\n",
    "- Describe cómo manejarías cada acción utilizando la estructura seleccionada. ¿Qué pasaría con las páginas al presionar \"Atrás\" y \"Adelante\"? ¿Qué ocurre al visitar una nueva página después de haber retrocedido?\n",
    "- ¿La estructura de datos queda vacía?"
   ]
  },
  {
   "cell_type": "code",
   "execution_count": null,
   "metadata": {},
   "outputs": [],
   "source": [
    "// Implementa tu código aquí"
   ]
  },
  {
   "cell_type": "markdown",
   "metadata": {},
   "source": [
    "## <a id='toc1_3_'></a>[Problema 2: Gestión de Turnos en una Clínica](#toc0_)\n",
    "\n",
    "La clínica \"*Salud Total*\" utiliza un sistema para gestionar los turnos de los pacientes. Los pacientes son atendidos en el orden en que llegan, excepto en casos de emergencia los cuales no tendremos en cuenta. Los pacientes están representados por una clase llamada **Pacientes**, que tiene 6 atributos que describen la información relevante de cada paciente (nombre, edad, número de paciente, triage, categoria, y otro que se inventen). Al llegar, los pacientes son añadidos a una estructura de datos. \n",
    "\n",
    "**Acciones:**\n",
    "\n",
    "1. Los siguientes pacientes llegan a la clínica en este orden:\n",
    "   - Paciente 1: Ana Torres\n",
    "   - Paciente 2: Carlos García\n",
    "   - Paciente 3: Laura Pérez\n",
    "\n",
    "2. Luego llega un paciente más pero antes se atiende otro:\n",
    "   - Paciente 4: José Martínez, emergencia\n",
    "\n",
    "3. El sistema atiende a dos pacientes.\n",
    "\n",
    "4. A continuación, llegan dos pacientes más:\n",
    "   - Paciente 5: María López, consulta regular\n",
    "   - Paciente 6: Juan Morales, consulta regular\n",
    "\n",
    "5. Se atiende a otros dos paciente y después llega otro:\n",
    "   - Paciente 7: Diana Sánchez, emergencia\n",
    "\n",
    "6. Finalmente, se atienden un paciente pacientes más.\n",
    "\n",
    "**Preguntas:**\n",
    "\n",
    "- ¿Qué estructura de datos usarías para gestionar los turnos de los pacientes?\n",
    "- ¿La estructura de datos queda vacía?\n",
    "- Explica el proceso que seguirías para atender a los pacientes en el orden adecuado utilizando la estructura de datos apropiada para los pacientes.\n",
    "- Si existiesen pacientes de emergencia, ¿Cómo se podrían gestionar estos tipos de usuarios?"
   ]
  },
  {
   "cell_type": "code",
   "execution_count": null,
   "metadata": {},
   "outputs": [],
   "source": [
    "// Implementa tu código aquí"
   ]
  },
  {
   "cell_type": "markdown",
   "metadata": {},
   "source": [
    "### <a id='toc1_3_1_'></a>[Consideraciones Adicionales](#toc0_)\n",
    "\n",
    "- **Problema 1 (Navegación Web):** Asegúrate de describir los momentos en que las páginas se agregan o eliminan. Analiza lo que sucede cuando el usuario retrocede y luego visita una nueva página, y cómo afecta eso a la estructura de datos seleccionada de páginas siguientes.\n",
    "  \n",
    "- **Problema 2 (Turnos en Clínica):** Los pacientes deben ser gestionados en una estructura de datos apropiada, pero los casos de emergencia requieren un manejo especial. Explica cómo asegurarte de que el orden de llegada no se vea afectado por las emergencias, y cómo se continúa el proceso de atención luego de atender un caso urgente."
   ]
  }
 ],
 "metadata": {
  "kernelspec": {
   "display_name": "Java",
   "language": "java",
   "name": "java"
  },
  "language_info": {
   "codemirror_mode": "java",
   "file_extension": ".jshell",
   "mimetype": "text/x-java-source",
   "name": "java",
   "pygments_lexer": "java",
   "version": "21.0.4+7-Ubuntu-1ubuntu224.04"
  }
 },
 "nbformat": 4,
 "nbformat_minor": 2
}
