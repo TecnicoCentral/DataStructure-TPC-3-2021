{
 "cells": [
  {
   "cell_type": "markdown",
   "metadata": {},
   "source": [
    "# V2"
   ]
  },
  {
   "cell_type": "markdown",
   "metadata": {},
   "source": [
    "### Punto 1: Representación de los Trabajos de Homero Simpson con un Árbol Binario\n",
    "\n",
    "En un grupo de 3 amigos, uno de ellos programador, recordaban y en listaban algunos de los trabajos que Homero Simpson había tenido. La lista crecio rápidamente y el amigo programador propuso el reto de adivinar uno de los trabajos, que uno de los del grupo pensara un trabajo y alguno de los otros dos lo adivinara por turnos. Para encontrar de forma más optima el trabajador, el programador utilizo la lógica de los árboles binarios para encontrarlo más fácilmente. Cada nodo del árbol representará un trabajo, y las relaciones estarán organizadas jerárquicamente según el nivel de importancia o la conexión entre ellos. La raíz del árbol será Homero y sus trabajos estarán distribuidos en el resto de los nodos.  \n",
    "\n",
    "### Requerimientos \n",
    "\n",
    "#### 1. Estructura del Árbol\n",
    "   - El nodo raíz será **Homero Simpson**.  \n",
    "   - Cada nodo hijo representará un trabajo que Homero ha tenido.  \n",
    "\n",
    "   Cada nodo debe almacenar la siguiente información:  \n",
    "   - **Nombre del trabajo.**  \n",
    "   - **Duración del trabajo (en años o meses).**  \n",
    "   - **Temporada.** En que temporada salio, no tiene que ser un número correcto pero recuerden que van en la temporada 33.  \n",
    "\n",
    "   **Nota:** Utiliza una clase para almacenar estos datos, no strings simples.  \n",
    "\n",
    "(trabajos_homero)=\n",
    "#### 2. Trabajos de Homero**\n",
    "\n",
    "1. Astronauta  \n",
    "2. Boxeador  \n",
    "3. Camionero  \n",
    "4. Diseñador de autos  \n",
    "5. Escritor  \n",
    "6. Granjero  \n",
    "7. Inspector de seguridad nuclear  \n",
    "8. Jefe de sindicato  \n",
    "9. Locutor de radio  \n",
    "10. Pintor  \n",
    "11. Rey del Carnaval  \n",
    "12. Vendedor de azúcar  \n",
    "\n",
    "#### 3. Operaciones a Implementar\n",
    "   - **Agregar trabajos:** Permite añadir nuevos trabajos al árbol, asegurando que se respete la estructura binaria.  \n",
    "   - **Recorridos:** Implementa los recorridos pre-order, in-order y post-order para listar los trabajos.  \n",
    "   - **Contar trabajos:** Devuelve el número total de trabajos en el árbol.  \n",
    "   - **Trabajo con mayor duración:** Encuentra el nodo con el trabajo que Homero desempeñó por más tiempo.  \n",
    "\n",
    "#### 4. Escenario de Ejemplo\n",
    "  Nodo raíz: **Homero Simpson**.  Se deben incluir todos los [trabajos mencionados](trabajos_homero) según el orden en como están enlistados.  \n",
    "\n",
    "#### 5. Entrega esperada\n",
    "   - **Código funcional en Java:** Implementación completa del árbol binario y las operaciones descritas.  \n",
    "   - **Diagramas o imágenes:** Representación visual del árbol, mostrando las relaciones entre los trabajos de Homero y sus niveles.  \n"
   ]
  },
  {
   "cell_type": "markdown",
   "metadata": {},
   "source": [
    "### Solución"
   ]
  },
  {
   "cell_type": "code",
   "execution_count": null,
   "metadata": {},
   "outputs": [],
   "source": [
    "// Agregar código aquí"
   ]
  },
  {
   "cell_type": "markdown",
   "metadata": {},
   "source": [
    "## Punto 2: Representar Centros Comerciales de Bogotá con un Grafo\n",
    "\n",
    "Dos guardias de seguridad de carros de valores deben recoger cantidades inmensas de dinero a algunos centros comerciales de Bogotá, aunque tienen una ruta no están seguros si es la mejor. Para resolver está duda, uno de los estudiantes de estructura de datos modelo este problema usando grafos donde cada centro comercial será un nodo, y cada conexión representará una relación entre ellos (por ejemplo, proximidad física o popularidad compartida). Además, agrega que realizar este modelado tiene una gran ventaja puesto que se podrá calcular una ruta optima donde se visiten todos los centros comerciales una sola vez.\n",
    "\n",
    "### Requerimientos\n",
    "\n",
    "#### 1. Estructura del Grafo\n",
    "   - Cada nodo representa un centro comercial de Bogotá (por ejemplo, \"Unicentro\", \"Titan Plaza\", \"Centro Mayor\").  \n",
    "   - Cada arista representa una conexión directa entre dos centros comerciales (proximidad o rutas frecuentes entre ellos).  \n",
    "   - El grafo será **no ponderado**.  \n",
    "\n",
    "   **Nota:** Utiliza una clase para almacenar estos datos, no strings simples.  \n",
    "\n",
    "#### 2. Operaciones a Implementar\n",
    "   - **Recorridos:** Implementa los algoritmos BFS y DFS para recorrer el grafo.  \n",
    "   - **Agregar centro comercial:** Añade un nuevo nodo al grafo.  \n",
    "   - **Conectar centros comerciales:** Crea una arista entre dos nodos existentes.  \n",
    "   - **Buscar ruta:** Determina si existe una ruta entre dos centros comerciales.  \n",
    "   - **Listar conexiones:** Dado un centro comercial, muestra todos los centros comerciales directamente conectados.  \n",
    "  \n",
    "#### 3. Escenario de Ejemplo\n",
    "   Considera los siguientes centros comerciales y sus conexiones:  \n",
    "\n",
    "   <div align=\"center\">\n",
    "      <iframe src=\"https://www.google.com/maps/d/u/0/embed?mid=1ncsyq7ul6cgYAJjBkPp8iL5xLlOlIVI&ehbc=2E312F\" width=\"90%\" height=\"480\"></iframe>\n",
    "   </div>\n",
    "\n",
    "   Para conocer el número del vértice basta contar click en el y ver el texto asociado. \n",
    "\n",
    "#### 4. Entrega esperada\n",
    "   - **Código funcional en Java:** Implementación completa del grafo y las operaciones descritas.  \n",
    "   - **Diagramas o imágenes:** Representación visual del grafo, destacando nodos (centros comerciales) y sus conexiones.  "
   ]
  },
  {
   "cell_type": "markdown",
   "metadata": {},
   "source": [
    "### Solución"
   ]
  },
  {
   "cell_type": "code",
   "execution_count": null,
   "metadata": {},
   "outputs": [],
   "source": [
    "// Agregar código aquí"
   ]
  }
 ],
 "metadata": {
  "kernelspec": {
   "display_name": "Java",
   "language": "java",
   "name": "java"
  },
  "language_info": {
   "name": "java"
  }
 },
 "nbformat": 4,
 "nbformat_minor": 2
}
