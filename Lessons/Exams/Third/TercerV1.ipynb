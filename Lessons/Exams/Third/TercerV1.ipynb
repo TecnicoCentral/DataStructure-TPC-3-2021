{
 "cells": [
  {
   "cell_type": "markdown",
   "metadata": {},
   "source": [
    "# V1"
   ]
  },
  {
   "cell_type": "markdown",
   "metadata": {},
   "source": [
    "## Punto 1: Representación de la Estructura de Bogotá con un Árbol Binario  \n",
    "\n",
    "El área de recursos humanos de la empresa Mi Bienestar organizo un evento de adivinar una localidad de Bogotá haciendo preguntas. Uno de los integrantes del equipo técnico escucho está petición y pensó en almacenar las localidades en un árbol por la lógica como se ingresan los datos. Cada nodo del árbol representará una localidad, y las relaciones estarán organizadas jerárquicamente según el nivel de ingreso o la conexión entre ellos. La raíz del árbol será Bogotá y sus localidades estarán distribuidos en el resto de los nodos.\n",
    "\n",
    "### Requerimientos  \n",
    "\n",
    "#### 1. Estructura del Árbol\n",
    "   - El nodo raíz debe representar la ciudad: \"Bogotá\".  \n",
    "   - Cada nodo hijo representará una localidad (ejemplo: \"Chapinero\", \"Suba\", \"Usaquén\"). \n",
    "   \n",
    "   Cada nodo debe almacenar la siguiente información:  \n",
    "   - **Nombre:** Localidad.\n",
    "   - **Alcalde:** Nombre del alcalde de la localidad.  \n",
    "   - **Población estimada:** Un número coherente con la cantidad de gente en Bogotá (aprox. 8M), no es necesario que sea preciso.\n",
    "   \n",
    "   **Nota:** Utiliza una clase para almacenar estos datos, no strings simples. \n",
    "\n",
    "(localidades)=\n",
    "#### 2. Localidades\n",
    "\n",
    "   1. Tintalito  \n",
    "   2. San Cristóbal  \n",
    "   3. Cedritos  \n",
    "   4. La Estrada  \n",
    "   5. Quirigua  \n",
    "   6. Bavaria  \n",
    "   7. Fontibón  \n",
    "   8. Usaquén  \n",
    "   9. Chapinero  \n",
    "   10. Villaluz  \n",
    "   11. Lourdes  \n",
    "   12. Normandía\n",
    "\n",
    "#### 3. Operaciones a Implementar\n",
    "   - **Agregar nodos:** Permite añadir localidades, barrios o subniveles al árbol.  \n",
    "   - **Recorridos:** Recorrer el árbol pre-order, in-order, y post-order.\n",
    "   - **Contar divisiones:** Devuelve el número total de divisiones (nodos) en el árbol.  \n",
    "   - **Zona más poblada:** Encuentra el nodo con la mayor población estimada. Esto se puede hacer iterando sobre el árbol y guardando temporalmente el dato con más población.\n",
    "\n",
    "#### 4. Escenario de ejemplo\n",
    "   El nodo raíz es \"Bogotá\". Los nodos siguientes son los de la sección [Localidades](localidades) ingresados en el mismo orden que están ingresados.\n",
    "      \n",
    "\n",
    "#### 5. Entrega esperada\n",
    "   - **Código funcional en Java:** Implementación completa del árbol N-Ario y las operaciones descritas.  \n",
    "   - **Diagramas o imágenes:** Representación visual del árbol, mostrando al menos tres niveles (ciudad, localidades y barrios).  "
   ]
  },
  {
   "cell_type": "markdown",
   "metadata": {},
   "source": [
    "### Solución"
   ]
  },
  {
   "cell_type": "code",
   "execution_count": 1,
   "metadata": {
    "vscode": {
     "languageId": "java"
    }
   },
   "outputs": [],
   "source": [
    "// Agregar código aquí"
   ]
  },
  {
   "cell_type": "markdown",
   "metadata": {},
   "source": [
    "## Punto 2: Modelar el Sistema de Transmilenio con un Grafo  \n",
    "\n",
    "\n",
    "Un turista quiere conocer los portales principales de Bogotá, pero conoce poco y no sabe por cual empezar. Uno de los estudiantes de estructura de datos le sugirió que podría utilizar un grafo para encontrar el camino en el cual recorre algunos portales seleccionados tan solo una vez. Implementa un grafo donde cada estación será un nodo, y cada conexión directa entre estaciones será una arista.  \n",
    "\n",
    "### Requerimientos  \n",
    "\n",
    "#### 1. Estructura del Grafo\n",
    "   - Cada nodo representa una estación del sistema de Transmilenio.  \n",
    "   - Cada arista representa una conexión directa entre dos estaciones.  \n",
    "   - El grafo será no ponderado, ya que no se tendrán en cuenta tiempos o distancias.  \n",
    "\n",
    "   **Nota:** Utiliza una clase para almacenar estos datos, no strings simples.  \n",
    "\n",
    "#### 2. Operaciones a Implementar:\n",
    "   - **Recorrer:** Viajar por el grafo de forma BFS y DFS.\n",
    "   - **Agregar estación:** Añade un nuevo nodo al grafo. \n",
    "   - **Conectar estaciones:** Crea una arista entre dos nodos existentes.  \n",
    "   - **Buscar ruta:** Encuentra la ruta entre la raíz y una estación dad (por ejemplo, de \"Portal Suba\" a \"Av. Jiménez\").  \n",
    "   - **Listar conexiones:** Dada una estación, muestra todas las estaciones directamente conectadas (vecinos).  \n",
    "\n",
    "#### 3. Escenario de ejemplo\n",
    "   Considera las siguientes estaciones y conexiones: \n",
    "\n",
    "   <div align=\"center\">\n",
    "      <iframe src=\"https://www.google.com/maps/d/u/0/embed?mid=1_dEQr6R_Q9dz5Ps5gvKjuc7Q6t023yE&ehbc=2E312F\" width=\"90%\" height=\"480\"></iframe>\n",
    "   </div>\n",
    "\n",
    "   Para conocer el número del vértice basta contar click en el y ver el texto asociado. \n",
    "\n",
    "#### 4. Entrega esperada \n",
    "   - **Código funcional en Java:** Implementación completa del grafo y las operaciones descritas.  \n",
    "   - **Diagramas o imágenes:** Representación visual del grafo, destacando nodos y conexiones.  "
   ]
  },
  {
   "cell_type": "markdown",
   "metadata": {},
   "source": [
    "### Solución"
   ]
  },
  {
   "cell_type": "code",
   "execution_count": 2,
   "metadata": {
    "vscode": {
     "languageId": "java"
    }
   },
   "outputs": [],
   "source": [
    "// Agregar código aquí"
   ]
  }
 ],
 "metadata": {
  "kernelspec": {
   "display_name": "Java",
   "language": "java",
   "name": "java"
  },
  "language_info": {
   "codemirror_mode": "java",
   "file_extension": ".jshell",
   "mimetype": "text/x-java-source",
   "name": "Java",
   "pygments_lexer": "java",
   "version": "23.0.1+11-39"
  }
 },
 "nbformat": 4,
 "nbformat_minor": 2
}
