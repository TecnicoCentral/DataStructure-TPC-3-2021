{
 "cells": [
  {
   "cell_type": "markdown",
   "metadata": {
    "vscode": {
     "languageId": "plaintext"
    }
   },
   "source": [
    "# Grafos Sin Peso\n"
   ]
  },
  {
   "cell_type": "markdown",
   "metadata": {
    "vscode": {
     "languageId": "java"
    }
   },
   "source": [
    "## Introducción\n",
    "\n",
    ">Muchos problemas del mundo real pueden resolverse mediante algoritmos gráficos.\n",
    "\n",
    "Los **grafos** son estructuras de datos fundamentales en ciencias de la computación que permiten modelar relaciones entre distintos elementos. Un grafo está compuesto por **nodos** (o vértices) y **aristas** (o enlaces), que conectan estos nodos. Los grafos son ampliamente utilizados en diversas aplicaciones, desde redes de transporte hasta algoritmos de redes sociales y análisis de redes.\n",
    "\n",
    "```{figure} https://www.researchgate.net/profile/Prohollad-Sarkar-2/publication/321846685/figure/fig1/AS:572036225683456@1513395472028/Graph-theory-analysis-in-social-network-Image-courtesy-of-5.png\n",
    "---\n",
    "width: 100%\n",
    "name: GraphTheory\n",
    "---\n",
    "Ejemplo de un grafo en redes sociales. Imagen tomada de [A Comprehensive Survey of Time Series Anomaly Detection in Online Social Network Data - ResearchGate](https://www.researchgate.net/publication/321846685_A_Comprehensive_Survey_of_Time_Series_Anomaly_Detection_in_Online_Social_Network_Data).\n",
    "```\n",
    "\n",
    "Pero, ¿cómo surgen los grafos? El estudio de los problemas de grafos se conoce como *teoría de grafos*. La teoría de grafos fue fundada por Leonhard Euler en 1736, cuando introdujo la terminología de los grafos para resolver el famoso problema de los Siete Puentes de Königsberg. La ciudad de Königsberg, en Prusia (actualmente Kaliningrado, Rusia), estaba dividida por el río Pregel. En el río había dos islas. La ciudad y las islas estaban conectadas por siete puentes, como se muestra en la Figura 28.2a. La pregunta es: ¿se puede dar un paseo, cruzar cada puente exactamente una vez y volver al punto de partida? Euler demostró que no es posible.\n",
    "\n",
    "```{figure} ../../images/Figure28.2.png\n",
    "---\n",
    "width: 100%\n",
    "name: Figure28.2\n",
    "---\n",
    "Here is my figure caption!\n",
    "```\n",
    "\n",
    "Para establecer una prueba, Euler primero abstrajo el plano de la ciudad de Königsberg eliminando todas las calles, produciendo el esquema que se muestra en la Figura 28.2a un punto, llamado vértice o nodo, y cada puente con una línea, llamada arista, como se muestra en la Figura 28.2b. Esta estructura con vértices y aristas se denomina grafo.\n",
    "\n",
    "<div align=\"center\">\n",
    "\n",
    "[![Interpreted vs Compiled](https://img.youtube.com/vi/nZwSo4vfw6c/hqdefault.jpg)](https://www.youtube.com/watch?v=nZwSo4vfw6c)\n",
    "\n",
    "</div>\n",
    "\n",
    "### Visualización\n",
    "\n",
    "Puedes visualizar los grafos con alguna de las siguientes páginas web: \n",
    "- [GraphLearningTooleBook](https://liveexample.pearsoncmg.com/dsanimation/GraphLearningTooleBook.html)\n",
    "- [Graph Editor - CS Academy](https://csacademy.com/app/graph_editor/)\n",
    "\n",
    "## Aplicaciones de los Grafos\n",
    "\n",
    "Los grafos se utilizan en muchos campos, incluyendo:\n",
    "\n",
    "1. **Redes de comunicación**: Modelan redes de computadoras o Internet.\n",
    "2. **Mapas y rutas**: Representan conexiones entre ubicaciones.\n",
    "3. **Redes sociales**: Modelan relaciones entre personas.\n",
    "4. **Inteligencia artificial**: Representan grafos de búsqueda en IA.\n",
    "5. **Sistemas de recomendaciones**: Modelan preferencias de usuario y relaciones entre productos.\n",
    "\n",
    "Ejemplos de grafo sobre [algunas ciudades de Colombia](https://www.google.com/maps/d/edit?mid=1FNFiumugx3dB7IeZjcI3_rv1RnKpQpk&usp=sharing) y otras de los Estados Unidos.\n",
    "\n",
    "```{figure} ../../images/graphs_example.png\n",
    "---\n",
    "width: 65%\n",
    "name: graphs_example\n",
    "---\n",
    "Un grafo puede utilizarse para representar vuelos entre ciudades.\n",
    "```\n",
    "\n",
    "\n",
    "```{figure} ../../images/Figure28.1.png\n",
    "---\n",
    "width: 90%\n",
    "name: USA_states\n",
    "---\n",
    "Here is my figure caption!\n",
    "```\n",
    "\n",
    "## Terminología de Grafos\n",
    "\n",
    "### Conceptos Básicos\n",
    "\n",
    "1. **Vértices o Nodos**: Elementos individuales que componen el grafo.\n",
    "2. **Aristas o Enlaces**: Conexiones entre nodos.\n",
    "3. **Grafo Dirigido**: Un grafo donde las aristas tienen dirección.\n",
    "4. **Grafo No Dirigido**: Un grafo donde las aristas no tienen dirección, y la conexión es bidireccional.\n",
    "5. **Peso de Arista**: Un valor numérico asociado a una arista que puede representar distancia, costo, etc.\n",
    "6. **Camino**: Secuencia de nodos donde cada par consecutivo de nodos está conectado por una arista.\n",
    "7. **Ciclo**: Camino cerrado en el cual el nodo inicial y final son el mismo.\n",
    "8. **Conectividad**: Propiedad que indica si existe un camino entre cada par de nodos.\n",
    "9. **Grafo Completo**: Grafo en el cual todos los nodos están conectados entre sí.\n",
    "\n",
    "### Definición Formal\n",
    "\n",
    "Dicho de otra forma. Un gráfico es una estructura matemática que representa relaciones entre entidades del mundo real. Por ejemplo, el grafo de la Figura 28.1 representa los vuelos entre ciudades, y el grafo de la Figura 28.2b representa los puentes entre masas de tierra. Un grafo está formado por un conjunto de **vértices** (también conocidos como nodos o puntos) y un conjunto de **aristas** que conectan los vértices. Por conveniencia, definimos un grafo como G = (V, E), donde V representa un conjunto de vértices y E representa un conjunto de aristas. Por ejemplo, V y E para el grafo de la figura 28.1 son los siguientes:\n",
    "\n",
    "```java\n",
    "V = {\"Seattle\", \"San Francisco\", \"Los Angeles\", \"Denver\", \"Kansas City\", \"Chicago\", \"Boston\", \"New York\",\n",
    "\"Atlanta\", \"Miami\", \"Dallas\", \"Houston\"};\n",
    "E = {{\"Seattle\", \"San Francisco\"},{\"Seattle\", \"Chicago\"}, {\"Seattle\", \"Denver\"}, {\"San Francisco\", \"Denver\"},\n",
    "... };\n",
    "```\n",
    "\n",
    "\n",
    "### Otros Términos\n",
    "\n",
    "- Dos vértices de un grafo son *adyacentes* si están conectados por la misma arista.\n",
    "- Del mismo modo, dos aristas son *adyacentes* si están conectadas al mismo vértice. Una arista de un grafo que une dos vértices se dice que es incidente en ambos vértices. El *grado* de un vértice es el número de aristas que inciden en él.\n",
    "- Dos vértices son *vecinos* si son adyacentes. Del mismo modo, dos aristas son vecinas si son adyacentes.\n",
    "- Un *bucle* (loop) es una arista que une un vértice consigo misma. Si dos vértices están conectados por dos o más aristas, éstas se denominan *aristas paralelas*. Un *grafo simple* es aquel que no tiene bucles ni aristas paralelas. En un *grafo completo*, cada dos vértices son adyacentes, como se muestra en la Figura 28.3b.\n",
    "- Un grafo está *conectado* (también conocido como fuertemente conectado) si existe un camino entre cada dos vértices del grafo. Un grafo es *débilmente conectado* si es conectado cuando se considera que el grafo es no dirigido. Un *subgrafo* de un grafo G es un grafo cuyo conjunto de vértices es un subconjunto del de G y cuyo conjunto de aristas es un subconjunto del de G.\n",
    "- Supongamos que el grafo etá conectado y no dirigido. Un *ciclo* es un camino cerrado que parte de un vértice y termina en el mismo vértice. Un grafo conectado es un *árbol* si no tiene ciclos. Un *árbol de expansión* de un grafo G es un subgrafo conectado de G, y el subgrafo es un árbol que contiene todos los vértices de G.\n",
    "\n",
    "## Tipos de Grafos \n",
    "\n",
    "Un grafo puede ser dirigido o no dirigido. En un grafo dirigido, cada arista tiene una dirección, lo que indica que puedes moverte de un vértice a otro a través de la arista. Las relaciones padre-hijo pueden modelarse mediante un grafo dirigido, en el que una arista del vértice A al B indica que A es padre de B.\n",
    "\n",
    "\n",
    "```{figure} ../../images/Figure28.3.png\n",
    "---\n",
    "width: 100%\n",
    "name: Figure28.3\n",
    "---\n",
    "Here is my figure caption!\n",
    "```"
   ]
  },
  {
   "cell_type": "markdown",
   "metadata": {},
   "source": [
    "## Representaciones de Grafos\n",
    "\n",
    "Existen varias formas de representar grafos en programación. A continuación, se explican las representaciones más comunes:\n",
    "\n",
    "### Lista con las Aristas\n",
    "\n",
    "La lista de aristas almacena todas las aristas del grafo como pares de nodos. Es útil para algoritmos que trabajan sobre aristas, como el algoritmo de Kruskal.\n",
    "\n",
    "\n",
    "```{figure} ../../images/Figure28.5.png\n",
    "---\n",
    "width: 90%\n",
    "name: Figure28.5\n",
    "---\n",
    "Here is my figure caption!\n",
    "```\n",
    "\n",
    "#### Ejemplo"
   ]
  },
  {
   "cell_type": "code",
   "execution_count": null,
   "metadata": {
    "vscode": {
     "languageId": "java"
    }
   },
   "outputs": [],
   "source": [
    "String[] vertices = {\"Seattle\", \"San Francisco\", \"Los Angeles\",\n",
    "                     \"Denver\", \"Kansas City\", \"Chicago\", \"Boston\", \"New York\",\n",
    "                     \"Atlanta\", \"Miami\", \"Dallas\", \"Houston\"};"
   ]
  },
  {
   "cell_type": "markdown",
   "metadata": {},
   "source": [
    "Ahora crea una lista donde los elementos sean objetos de la clase `City` y tengan los atributos: Nombre, Poblacion, Alcalde."
   ]
  },
  {
   "cell_type": "code",
   "execution_count": 10,
   "metadata": {
    "vscode": {
     "languageId": "java"
    }
   },
   "outputs": [],
   "source": [
    "// Agregar código aquí\n"
   ]
  },
  {
   "cell_type": "markdown",
   "metadata": {},
   "source": [
    "### Listas de Vertices Adyacentes \n",
    "\n",
    "Una lista de adyacencia es una estructura donde cada nodo tiene una lista de sus nodos adyacentes. Es más eficiente en términos de espacio para grafos dispersos.\n",
    "\n",
    "```{figure} ../../images/Figure28.6.png\n",
    "---\n",
    "width: 90%\n",
    "name: Figure28.6\n",
    "---\n",
    "Here is my figure caption!\n",
    "```"
   ]
  },
  {
   "cell_type": "code",
   "execution_count": null,
   "metadata": {
    "vscode": {
     "languageId": "java"
    }
   },
   "outputs": [
    {
     "name": "stdout",
     "output_type": "stream",
     "text": [
      "5\n"
     ]
    }
   ],
   "source": [
    "int[][] neighbors = { {1, 3, 5},\n",
    "                      {0, 2, 3},\n",
    "                      {1, 3, 4, 10},\n",
    "                      {0, 1, 2, 4, 5},\n",
    "                      {2, 3, 5, 7, 8, 10},\n",
    "                      {0, 3, 4, 6, 7},\n",
    "                      {5, 7},\n",
    "                      {4, 5, 6, 8},\n",
    "                      {4, 7, 9, 10, 11},\n",
    "                      {6, 11},\n",
    "                      {2, 4, 8, 11},\n",
    "                      {8, 9, 10} };\n",
    "\n",
    "System.out.println(neighbors[0][2]);"
   ]
  },
  {
   "cell_type": "markdown",
   "metadata": {},
   "source": [
    "### Listas de Aristas Adyacentes \n",
    "\n",
    "Una lista de adyacencia es una estructura donde cada nodo tiene una lista de sus nodos adyacentes almacenados en nodos. \n",
    "\n",
    "```{figure} ../../images/Figure28.7.png\n",
    "---\n",
    "width: 90%\n",
    "name: Figure28.7\n",
    "---\n",
    "Here is my figure caption!\n",
    "```\n",
    "\n",
    "### Ejemplo"
   ]
  },
  {
   "cell_type": "code",
   "execution_count": 12,
   "metadata": {
    "vscode": {
     "languageId": "java"
    }
   },
   "outputs": [],
   "source": [
    "int[][] edges_USA = {\n",
    "  {0, 1}, {0, 3}, {0, 5},\n",
    "  {1, 0}, {1, 2}, {1, 3},\n",
    "  {2, 1}, {2, 3}, {2, 4}, {2, 10},\n",
    "  {3, 0}, {3, 1}, {3, 2}, {3, 4}, {3, 5},\n",
    "  {4, 2}, {4, 3}, {4, 5}, {4, 7}, {4, 8}, {4, 10},\n",
    "  {5, 0}, {5, 3}, {5, 4}, {5, 6}, {5, 7},\n",
    "  {6, 5}, {6, 7},\n",
    "  {7, 4}, {7, 5}, {7, 6}, {7, 8},\n",
    "  {8, 4}, {8, 7}, {8, 9}, {8, 10}, {8, 11},\n",
    "  {9, 8}, {9, 11},\n",
    "  {10, 2}, {10, 4}, {10, 8}, {10, 11},\n",
    "  {11, 8}, {11, 9}, {11, 10}\n",
    "};"
   ]
  },
  {
   "cell_type": "markdown",
   "metadata": {},
   "source": [
    "O, usando la clase de bordes (edges)"
   ]
  },
  {
   "cell_type": "code",
   "execution_count": 16,
   "metadata": {
    "vscode": {
     "languageId": "java"
    }
   },
   "outputs": [
    {
     "data": {
      "text/plain": [
       "true"
      ]
     },
     "execution_count": 16,
     "metadata": {},
     "output_type": "execute_result"
    }
   ],
   "source": [
    "public class Edge {\n",
    "  int u, v;\n",
    "  public Edge(int u, int v) {\n",
    "      this.u = u;\n",
    "      this.v = v;\n",
    "  }\n",
    "  public boolean equals(Object o) {\n",
    "      return u == ((Edge)o).u && v == ((Edge)o).v;\n",
    "  }\n",
    "}\n",
    "\n",
    "ArrayList<Edge> list = new ArrayList<>();\n",
    "list.add(new Edge(0, 1));\n",
    "\n",
    "List<ArrayList<Edge>> neighbors = new ArrayList<>();\n",
    "neighbors.add(new ArrayList<Edge>());\n",
    "neighbors.get(0).add(new Edge(0, 1));\n",
    "neighbors.get(0).add(new Edge(0, 3));\n",
    "neighbors.get(0).add(new Edge(0, 5));\n",
    "neighbors.add(new ArrayList<Edge>());\n",
    "neighbors.get(1).add(new Edge(1, 0));\n",
    "neighbors.get(1).add(new Edge(1, 2));\n",
    "neighbors.get(1).add(new Edge(1, 3));\n",
    "/// ..."
   ]
  },
  {
   "cell_type": "markdown",
   "metadata": {},
   "source": [
    "### Matriz Adyacente\n",
    "\n",
    "Una matriz de adyacencia es una **matriz cuadrada** donde cada elemento indica si existe una arista entre dos nodos. \n",
    "\n",
    "Representar un grafo es almacenar sus vértices y aristas en un programa. La estructura de datos para almacenar un grafo son las matrices o listas."
   ]
  },
  {
   "cell_type": "code",
   "execution_count": null,
   "metadata": {
    "vscode": {
     "languageId": "java"
    }
   },
   "outputs": [],
   "source": [
    "int[][] adjacencyMatrix = {\n",
    "  {0, 1, 0, 1, 0, 1, 0, 0, 0, 0, 0, 0}, // Seattle\n",
    "  {}, // San Francisco\n",
    "  {}, // Los Angeles\n",
    "  {}, // Denver\n",
    "  {}, // Kansas City\n",
    "  {}, // Chicago\n",
    "  {}, // Boston\n",
    "  {}, // New York\n",
    "  {}, // Atlanta\n",
    "  {}, // Miami\n",
    "  {}, // Dallas\n",
    "  {} // Houston\n",
    "};"
   ]
  },
  {
   "cell_type": "markdown",
   "metadata": {},
   "source": [
    "Ahora implementa el código de la matriz adyacente de la figure {numref}`graphs_example`, cambia los elementos del vector de Vertices por objetos de tipo ciudad."
   ]
  },
  {
   "cell_type": "code",
   "execution_count": null,
   "metadata": {
    "vscode": {
     "languageId": "java"
    }
   },
   "outputs": [],
   "source": [
    "// Agrega aquí el código"
   ]
  },
  {
   "cell_type": "markdown",
   "metadata": {},
   "source": [
    "## Implementación en Java\n",
    "\n",
    "Java no trae una clase de grafos implementada. Existen muchas formas de implementar grafos, sin embargo, utilizaremos la clae creada en el libro guía debido a su robustes y completitud.\n",
    "\n",
    "Esta clase crea la interfaz `Graph.java` que luego es implementada por los grafos con y sin peso. \n",
    "\n",
    "```{figure} ../../images/Figure28.8.png\n",
    "---\n",
    "width: 80%\n",
    "name: Figure28.8\n",
    "---\n",
    "Here is my figure caption!\n",
    "```\n",
    "\n",
    "Las interfaz tiene todos los métodos necesarios que luego son heredados por la clase `UnweightedGraph.java`. Sin embargo, la clase utiliza dos listas para guardar los vertices y los vecinos.\n",
    "\n",
    "```{figure} ../../images/Figure28.9.png\n",
    "---\n",
    "width: 80%\n",
    "name: Figure28.9\n",
    "---\n",
    "Here is my figure caption!\n",
    "```\n"
   ]
  },
  {
   "cell_type": "code",
   "execution_count": null,
   "metadata": {
    "vscode": {
     "languageId": "java"
    }
   },
   "outputs": [],
   "source": [
    "// Implementa aquí la interfaz Graph.java"
   ]
  },
  {
   "cell_type": "code",
   "execution_count": null,
   "metadata": {
    "vscode": {
     "languageId": "java"
    }
   },
   "outputs": [],
   "source": [
    "// Implementa aquí la clase UnweightedGraph.java"
   ]
  },
  {
   "cell_type": "code",
   "execution_count": null,
   "metadata": {
    "vscode": {
     "languageId": "java"
    }
   },
   "outputs": [],
   "source": [
    "// Implementa aquí una prueba de la clase UnweightedGraph.java, TestGraph.java"
   ]
  },
  {
   "cell_type": "markdown",
   "metadata": {},
   "source": [
    "## Recorridos\n",
    "\n",
    "Recorrer un grafo es el proceso de visitar cada vértice del grafo exactamente una vez. Hay dos formas populares de recorrer un grafo: el recorrido en profundidad (o búsqueda en profundidad) y el recorrido en amplitud (o búsqueda en amplitud). Ambas formas dan lugar a un árbol de expansión, que puede modelarse mediante una clase.\n",
    "\n",
    "<center>\n",
    "<table>\n",
    "<tr>\n",
    "<td>\n",
    "\n",
    "[![Interpreted vs Compiled](https://img.youtube.com/vi/Urx87-NMm6c/hqdefault.jpg)](https://www.youtube.com/watch?v=Urx87-NMm6c)\n",
    "\n",
    "</td>\n",
    "<td>\n",
    "\n",
    "[![Interpreted vs Compiled](https://img.youtube.com/vi/HZ5YTanv5QE/hqdefault.jpg)](https://www.youtube.com/watch?v=HZ5YTanv5QE)\n",
    "\n",
    "</td>\n",
    "</tr>\n",
    "</table>\n",
    "</center>\n",
    "\n",
    "\n",
    "### Depth-First Search (DFS)\n",
    "\n",
    "La búsqueda en profundidad de un grafo parte de un vértice del grafo y visita todos los vértices del grafo en la medida de lo posible antes de retroceder.\n",
    "\n",
    "```{figure} ../../images/Figure28.12.png\n",
    "---\n",
    "width: 80%\n",
    "name: Figure28.12\n",
    "---\n",
    "Here is my figure caption!\n",
    "```"
   ]
  },
  {
   "cell_type": "code",
   "execution_count": null,
   "metadata": {
    "vscode": {
     "languageId": "java"
    }
   },
   "outputs": [],
   "source": [
    "// Agrega aquí el código TestDFS.java"
   ]
  },
  {
   "cell_type": "markdown",
   "metadata": {},
   "source": [
    "```{figure} ../../images/Figure28.13.png\n",
    "---\n",
    "width: 80%\n",
    "name: Figure28.13\n",
    "---\n",
    "Here is my figure caption!\n",
    "```\n",
    "\n",
    "#### Aplicaciones de la DFS\n",
    "La búsqueda en profundidad primero se puede utilizar para resolver muchos problemas, como los siguientes:\n",
    "\n",
    "- Detectar si un grafo está conectado. Buscar en el grafo empezando por cualquier vértice. Si el número de vértices buscados es el mismo que el número de vértices del grafo, el grafo está conectado. En caso contrario, el grafo no está conectado. \n",
    "- Detectar si existe un camino entre dos vértices. \n",
    "- Encontrar un camino entre dos vértices.\n",
    "- Encontrar todas las componentes conexas. Una componente conexa es un subgrafo conectado maximal en el que cada par de vértices está conectado por un camino.\n",
    "- Detectar si hay un ciclo en el grafo.\n",
    "- Encontrar un ciclo en el grafo.\n",
    "- Encontrar una *trayectoria/ciclo hamiltoniano*. Un camino hamiltoniano en un grafo es un camino que visita cada vértice del grafo exactamente una vez. Un ciclo hamiltoniano visita cada vértice del grafo exactamente una vez y vuelve al vértice inicial."
   ]
  },
  {
   "cell_type": "markdown",
   "metadata": {},
   "source": [
    "### Breadth-First Search (BFS)\n",
    "\n",
    "La búsqueda exhaustiva de un grafo visita los vértices nivel por nivel. El primer nivel está formado por el vértice inicial. Cada nivel siguiente está formado por los vértices adyacentes a los vértices del nivel anterior.\n",
    "\n",
    "```{figure} ../../images/Figure28.15.png\n",
    "---\n",
    "width: 80%\n",
    "name: Figure28.15\n",
    "---\n",
    "Here is my figure caption!\n",
    "```"
   ]
  },
  {
   "cell_type": "code",
   "execution_count": null,
   "metadata": {
    "vscode": {
     "languageId": "java"
    }
   },
   "outputs": [],
   "source": [
    "// Agrega aquí el código TestBFS.java"
   ]
  },
  {
   "cell_type": "markdown",
   "metadata": {},
   "source": [
    "```{figure} ../../images/Figure28.16.png\n",
    "---\n",
    "width: 80%\n",
    "name: Figure28.16\n",
    "---\n",
    "Here is my figure caption!\n",
    "```\n",
    "\n",
    "#### Aplicaciones de la BFS\n",
    "\n",
    "Muchos de los problemas que resuelve la DFS también pueden resolverse con la BFS. En concreto, el BFS se puede utilizar para resolver los siguientes problemas:\n",
    "\n",
    "- Detectar si un grafo es conectado. Un grafo está conectado si existe un camino entre dos vértices cualesquiera del grafo.\n",
    "- Detectar si hay un camino entre dos vértices.\n",
    "- Encontrar el camino más corto entre dos vértices. Se puede demostrar que el camino entre la raíz y cualquier nodo del árbol BFS es el camino más corto entre la raíz y el nodo. \n",
    "- Encontrar todos los componentes conectados. Una componente conexa es un subgrafo conectado máximo en el que cada par de vértices está conectado por un camino.\n",
    "- Detectar si hay un ciclo en el grafo.\n",
    "- Encontrar un ciclo en el grafo.\n",
    "- Comprobar si un grafo es bipartito. (Un grafo es bipartito si los vértices del grafo pueden dividirse en dos conjuntos disjuntos tales que no existan aristas entre vértices del mismo conjunto)."
   ]
  }
 ],
 "metadata": {
  "kernelspec": {
   "display_name": "Java",
   "language": "java",
   "name": "java"
  },
  "language_info": {
   "codemirror_mode": "java",
   "file_extension": ".jshell",
   "mimetype": "text/x-java-source",
   "name": "Java",
   "pygments_lexer": "java",
   "version": "21.0.4+7-Ubuntu-1ubuntu224.04"
  }
 },
 "nbformat": 4,
 "nbformat_minor": 2
}
