{
 "cells": [
  {
   "cell_type": "markdown",
   "metadata": {},
   "source": [
    "# Iteradores\n",
    "\n",
    "## Patrón Iterador\n",
    "\n",
    ">Cada colección es Iterable. Puede obtener su objeto Iterator para recorrer todos los elementos de la colección.\n",
    "\n",
    "El **patrón iterador** permite recorrer una colección de elementos sin exponer su representación interna. Proporciona una manera de acceder secuencialmente a los elementos de una colección.\n",
    "\n",
    "### Clases en el Patrón Iterador\n",
    "1. **Iterador**: Define una interfaz para acceder y recorrer los elementos de una colección.\n",
    "2. **Agregado**: Define una interfaz para crear un iterador asociado a su colección.\n",
    "\n",
    "### Implementaciones Concretas\n",
    "1. **Iterador-Concreto**: Implementa la interfaz `Iterador` para recorrer una colección específica.\n",
    "2. **Agregado-Concreto**: Implementa la interfaz `Agregado` y devuelve una instancia de su iterador asociado.\n",
    "\n",
    "Ejemplo de un iterador y agregado en Java:"
   ]
  },
  {
   "cell_type": "code",
   "execution_count": null,
   "metadata": {},
   "outputs": [],
   "source": [
    "import java.util.ArrayList;\n",
    "import java.util.Iterator;\n",
    "\n",
    "class ColeccionNumeros implements Iterable<Integer> {\n",
    "    private ArrayList<Integer> numeros = new ArrayList<>();\n",
    "\n",
    "    public void agregarNumero(int numero) {\n",
    "        numeros.add(numero);\n",
    "    }\n",
    "\n",
    "    @Override\n",
    "    public Iterator<Integer> iterator() {\n",
    "        return numeros.iterator();\n",
    "    }\n",
    "}\n",
    "\n",
    "public class Main {\n",
    "    public static void main(String[] args) {\n",
    "        ColeccionNumeros coleccion = new ColeccionNumeros();\n",
    "        coleccion.agregarNumero(1);\n",
    "        coleccion.agregarNumero(2);\n",
    "        coleccion.agregarNumero(3);\n",
    "\n",
    "        for (int numero : coleccion) {\n",
    "            System.out.println(numero);\n",
    "        }\n",
    "    }\n",
    "}"
   ]
  },
  {
   "cell_type": "markdown",
   "metadata": {},
   "source": [
    "En este ejemplo, `ColeccionNumeros` implementa la interfaz `Iterable`, lo que permite que se pueda iterar usando un `for-each`."
   ]
  },
  {
   "cell_type": "code",
   "execution_count": 18,
   "metadata": {},
   "outputs": [],
   "source": [
    "// Probar los códigos aquí"
   ]
  },
  {
   "cell_type": "markdown",
   "metadata": {},
   "source": [
    "```{figure} ../../images/Figure20.2.png\n",
    "---\n",
    "width: 90%\n",
    "name: Figure20.2\n",
    "---\n",
    "Here is my figure caption!\n",
    "```"
   ]
  },
  {
   "cell_type": "code",
   "execution_count": 19,
   "metadata": {},
   "outputs": [],
   "source": [
    "import java.util.*;\n",
    "public class TestIterator {\n",
    "  public static void main(String[] args) {\n",
    "  Collection<String> collection = new ArrayList<>();\n",
    "  collection.add(\"New York\");\n",
    "  collection.add(\"Atlanta\");\n",
    "  collection.add(\"Dallas\");\n",
    "  collection.add(\"Madison\");\n",
    "  Iterator<String> iterator = collection.iterator();\n",
    "  while (iterator.hasNext()) {\n",
    "    System.out.print(iterator.next().toUpperCase() + \" \");\n",
    "  }\n",
    "  System.out.println();\n",
    "  }\n",
    "}"
   ]
  },
  {
   "cell_type": "code",
   "execution_count": 20,
   "metadata": {},
   "outputs": [],
   "source": [
    "// Probar el código aquí"
   ]
  },
  {
   "cell_type": "markdown",
   "metadata": {},
   "source": [
    "### Iteraciones sobre Arreglos\n",
    "\n",
    "Las iteraciones sobre arreglos en Java pueden realizarse mediante estructuras de control como `for`, `while`, o bien usando los iteradores.\n",
    "\n",
    "Ejemplo de iteración sobre un arreglo:"
   ]
  },
  {
   "cell_type": "code",
   "execution_count": null,
   "metadata": {},
   "outputs": [],
   "source": [
    "public class IteracionArreglos {\n",
    "  public static void main(String[] args) {\n",
    "      int[] numeros = {1, 2, 3, 4, 5};\n",
    "\n",
    "      // Iteración usando un bucle for\n",
    "      for (int i = 0; i < numeros.length; i++) {\n",
    "          System.out.println(\"Número: \" + numeros[i]);\n",
    "      }\n",
    "\n",
    "      // Iteración usando for-each\n",
    "      for (int numero : numeros) {\n",
    "          System.out.println(\"Número: \" + numero);\n",
    "      }\n",
    "  }\n",
    "}"
   ]
  },
  {
   "cell_type": "code",
   "execution_count": 22,
   "metadata": {},
   "outputs": [],
   "source": [
    "// Probar los códigos aquí"
   ]
  },
  {
   "cell_type": "markdown",
   "metadata": {},
   "source": [
    "### Iteraciones sobre Matrices\n",
    "\n",
    "Las **matrices** o arreglos bidimensionales también pueden ser iterados utilizando bucles anidados.\n",
    "\n",
    "Ejemplo de iteración sobre una matriz:"
   ]
  },
  {
   "cell_type": "code",
   "execution_count": null,
   "metadata": {},
   "outputs": [],
   "source": [
    "public class IteracionMatrices {\n",
    "  public static void main(String[] args) {\n",
    "      int[][] matriz = {\n",
    "          {1, 2, 3},\n",
    "          {4, 5, 6},\n",
    "          {7, 8, 9}\n",
    "      };\n",
    "\n",
    "      // Iteración sobre una matriz\n",
    "      for (int i = 0; i < matriz.length; i++) {\n",
    "          for (int j = 0; j < matriz[i].length; j++) {\n",
    "              System.out.println(\"Elemento en [\" + i + \"][\" + j + \"]: \" + matriz[i][j]);\n",
    "          }\n",
    "      }\n",
    "  }\n",
    "}"
   ]
  },
  {
   "cell_type": "markdown",
   "metadata": {},
   "source": [
    "\n",
    "En este código, la primera iteración recorre las filas de la matriz y la segunda recorre las columnas de cada fila."
   ]
  },
  {
   "cell_type": "code",
   "execution_count": 24,
   "metadata": {},
   "outputs": [],
   "source": [
    "// Probar los códigos aquí"
   ]
  },
  {
   "cell_type": "markdown",
   "metadata": {},
   "source": [
    "## Conclusión\n",
    "El uso de genéricos, interfaces e iteradores es fundamental en la programación orientada a objetos en Java, permitiendo crear soluciones más flexibles, reutilizables y mantenibles. El patrón iterador, en particular, facilita la navegación por colecciones sin exponer su implementación interna. Estas herramientas son esenciales para gestionar la complejidad en programas más grandes y modulares.\n",
    "\n",
    "\n",
    "## Recursos Adicionales\n",
    "\n",
    "- [Iterator - Refactoring Guru](https://refactoring.guru/design-patterns/iterator)"
   ]
  }
 ],
 "metadata": {
  "kernelspec": {
   "display_name": "Java",
   "language": "java",
   "name": "java"
  },
  "language_info": {
   "codemirror_mode": "java",
   "file_extension": ".jshell",
   "mimetype": "text/x-java-source",
   "name": "java",
   "pygments_lexer": "java",
   "version": "21.0.4+7-Ubuntu-1ubuntu224.04"
  }
 },
 "nbformat": 4,
 "nbformat_minor": 2
}
