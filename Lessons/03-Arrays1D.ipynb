{
 "cells": [
  {
   "cell_type": "markdown",
   "metadata": {},
   "source": [
    "# Arreglos Unidimensionales\n",
    "\n",
    "Un arreglo de una dimensión es una lista lineal de elementos. Se define siguiendo la estructura:\n",
    "\n",
    "```java\n",
    "elementType[] arrayRefVar = {content};\n",
    "```"
   ]
  },
  {
   "cell_type": "code",
   "execution_count": null,
   "metadata": {},
   "outputs": [
    {
     "name": "stdout",
     "output_type": "stream",
     "text": [
      "3\n"
     ]
    }
   ],
   "source": [
    "// Declaración y inicialización de un arreglo de enteros\n",
    "int[] numeros = {1, 2, 3, 4, 5};\n",
    "\n",
    "// Acceso a elementos\n",
    "System.out.println(numeros[2]); // Imprime 3"
   ]
  },
  {
   "cell_type": "code",
   "execution_count": 135,
   "metadata": {},
   "outputs": [
    {
     "name": "stdout",
     "output_type": "stream",
     "text": [
      "2\n"
     ]
    }
   ],
   "source": [
    "// Declaración y inicialización de un arreglo de enteros\n",
    "String[] letras = {\"1\", \"2\", \"3\", \"4\", \"5\"};\n",
    "\n",
    "// Acceso a elementos\n",
    "System.out.println(letras[1]); // Imprime 2"
   ]
  },
  {
   "cell_type": "markdown",
   "metadata": {},
   "source": [
    "```{figure} ../../images/vector3.png\n",
    "---\n",
    "width: 70%\n",
    "name: vector3\n",
    "---\n",
    "Here is my figure caption!\n",
    "```"
   ]
  },
  {
   "cell_type": "code",
   "execution_count": 9,
   "metadata": {
    "colab": {
     "base_uri": "https://localhost:8080/"
    },
    "id": "agVlpnPDxwXh",
    "outputId": "c629b730-99fb-4613-8141-bc25c48644d2"
   },
   "outputs": [
    {
     "name": "stdout",
     "output_type": "stream",
     "text": [
      "1.0\n"
     ]
    }
   ],
   "source": [
    "// Poblar una lista\n",
    "double[] myList = new double[10];\n",
    "myList[0] = 5.6;\n",
    "myList[1] = 4.5;\n",
    "myList[2] = 3.3;\n",
    "myList[3] = 13.2;\n",
    "myList[4] = Double.parseDouble(\"1\");\n",
    "myList[5] = 34.33;\n",
    "myList[6] = 34.0;\n",
    "myList[7] = 45.45;\n",
    "myList[8] = 99.993;\n",
    "myList[9] = 11123;\n",
    "//myList.getClass();\n",
    "System.out.println(myList[4]);"
   ]
  },
  {
   "cell_type": "markdown",
   "metadata": {},
   "source": [
    "¿Se puede imprimir una lista completa usando la función `print`, es decir, funciona el siguiente comando?\n",
    "\n",
    "```java\n",
    "System.out.println(myList);\n",
    "```"
   ]
  },
  {
   "cell_type": "code",
   "execution_count": 10,
   "metadata": {
    "colab": {
     "base_uri": "https://localhost:8080/"
    },
    "id": "kefKGS-t0Nl1",
    "outputId": "6ed811ff-a555-4e96-c05f-89d5e222e80f"
   },
   "outputs": [
    {
     "name": "stdout",
     "output_type": "stream",
     "text": [
      "0.0\n",
      "1.0\n",
      "2.0\n",
      "3.0\n",
      "4.0\n",
      "5.0\n",
      "6.0\n",
      "7.0\n",
      "8.0\n",
      "9.0\n"
     ]
    }
   ],
   "source": [
    "double[] myList  = new double[10]; \n",
    "for (int i = 0; i < myList.length; i++) {\n",
    "  myList[i] = i;\n",
    "  System.out.println(myList[i]);\n",
    "  }"
   ]
  },
  {
   "cell_type": "code",
   "execution_count": 18,
   "metadata": {},
   "outputs": [
    {
     "name": "stdout",
     "output_type": "stream",
     "text": [
      "Enter 10 values: \n",
      "  0: 0,292375\n",
      "  1: 0,368750\n",
      "  2: 0,998823\n",
      "  3: 0,112420\n",
      "  4: 0,978296\n",
      "  5: 0,828690\n",
      "  6: 0,692995\n",
      "  7: 0,506902\n",
      "  8: 0,699041\n",
      "  9: 0,577386\n"
     ]
    }
   ],
   "source": [
    "// java.util.Scanner input = new java.util.Scanner(System.in);\n",
    "import java.util.*;\n",
    "\n",
    "System.out.print(\"Enter \" + myList.length + \" values: \\n\");\n",
    "for (int i = 0; i < myList.length; i++){\n",
    "  // myList[i] = input.nextDouble();\n",
    "  myList[i] = Math.random();\n",
    "  System.out.println(\"  %d: %f\".formatted(i,myList[i]));\n",
    "}"
   ]
  },
  {
   "cell_type": "markdown",
   "metadata": {},
   "source": [
    "Implementa un método que imprima de forma \"bonita\" un vector"
   ]
  },
  {
   "cell_type": "code",
   "execution_count": 145,
   "metadata": {},
   "outputs": [],
   "source": [
    "// Agrega el código aquí"
   ]
  },
  {
   "cell_type": "markdown",
   "metadata": {},
   "source": [
    "## Búsquedas\n",
    "\n",
    "::::{grid}\n",
    "\n",
    ":::{grid-item}\n",
    ":margin: auto auto 0 0\n",
    ":columns: 6\n",
    "\n",
    "<iframe width=\"100%\" height=\"280px\" src=\"https://www.youtube.com/embed/MFhxShGxHWc?si=mah-TNsY5II3gJcu\" title=\"YouTube video player\" frameborder=\"0\" allow=\"accelerometer; autoplay; clipboard-write; encrypted-media; gyroscope; picture-in-picture; web-share\" referrerpolicy=\"strict-origin-when-cross-origin\" allowfullscreen></iframe>\n",
    "\n",
    ":::\n",
    "\n",
    ":::{grid-item}\n",
    ":margin: auto auto 0 0\n",
    ":columns: 6\n",
    "\n",
    "<iframe width=\"100%\" height=\"280px\" src=\"https://www.youtube.com/embed/eVuPCG5eIr4?si=WpWwI9loujryw3eo\" title=\"YouTube video player\" frameborder=\"0\" allow=\"accelerometer; autoplay; clipboard-write; encrypted-media; gyroscope; picture-in-picture; web-share\" referrerpolicy=\"strict-origin-when-cross-origin\" allowfullscreen></iframe>\n",
    ":::\n",
    "\n",
    "::::\n",
    "\n",
    "- **Búsqueda Lineal:** Se recorre el arreglo elemento por elemento hasta encontrar el valor deseado."
   ]
  },
  {
   "cell_type": "code",
   "execution_count": null,
   "metadata": {},
   "outputs": [],
   "source": [
    "public static int busquedaLineal(int[] arreglo, int valor) {\n",
    "  for (int i = 0; i < arreglo.length; i++) {\n",
    "      if (arreglo[i] == valor) {\n",
    "          return i; // Retorna la posición del valor\n",
    "      }\n",
    "  }\n",
    "  return -1; // Si no se encuentra el valor\n",
    "}\n",
    "\n",
    "// Prueba la clase con un arreglo y buscando 3 elementos de esta"
   ]
  },
  {
   "cell_type": "markdown",
   "metadata": {},
   "source": [
    "- **Búsqueda Binaria:** Requiere que el arreglo esté ordenado. Divide el arreglo en mitades para encontrar el valor de manera más eficiente.\n",
    "\n",
    "```{figure} ../../images/binarysearch.png\n",
    "---\n",
    "width: 70%\n",
    "name: binarysearch\n",
    "---\n",
    "Here is my figure caption!\n",
    "```"
   ]
  },
  {
   "cell_type": "code",
   "execution_count": 136,
   "metadata": {},
   "outputs": [],
   "source": [
    "public static int busquedaBinaria(int[] arreglo, int valor) {\n",
    "  int inicio = 0;\n",
    "  int fin = arreglo.length - 1;\n",
    "  \n",
    "  while (inicio <= fin) {\n",
    "      int medio = (inicio + fin) / 2;\n",
    "      if (arreglo[medio] == valor) {\n",
    "          return medio;\n",
    "      } else if (arreglo[medio] < valor) {\n",
    "          inicio = medio + 1;\n",
    "      } else {\n",
    "          fin = medio - 1;\n",
    "      }\n",
    "  }\n",
    "  return -1;\n",
    "}\n",
    "\n",
    "// Prueba la clase con un arreglo y buscando 3 elementos de esta"
   ]
  },
  {
   "cell_type": "markdown",
   "metadata": {},
   "source": [
    "## Aplicaciones\n",
    "\n",
    "- **Almacenamiento de Datos:** Los arreglos se utilizan comúnmente para almacenar listas de elementos, como números, nombres, o cualquier otro tipo de datos homogéneos.\n",
    "  \n",
    "- **Matrices en Matemáticas:** Los arreglos bidimensionales (matrices) se utilizan en aplicaciones matemáticas, tales como la resolución de sistemas de ecuaciones o transformaciones en gráficos.\n",
    "\n",
    "- **Tablas de Datos:** Las matrices también se usan para representar tablas de datos, como una hoja de cálculo.\n",
    "\n",
    "## Ejemplo"
   ]
  },
  {
   "cell_type": "code",
   "execution_count": null,
   "metadata": {},
   "outputs": [],
   "source": [
    "import java.util.Scanner;\n",
    "public class AnalyzeNumbers {\n",
    "  public static void main(String[] args) {\n",
    "    // Scanner input = new Scanner(System.in);\n",
    "    System.out.print(\"Enter the number of items: \");\n",
    "    // int n = input.nextInt();\n",
    "    int n = 15;\n",
    "    double[] numbers = new double[n];\n",
    "    double sum = 0;\n",
    "\n",
    "    System.out.print(\"Enter the numbers: \");\n",
    "    for (int i = 0; i < n; i++) {\n",
    "      numbers[i] = input.nextDouble();\n",
    "      sum += numbers[i];\n",
    "    }\n",
    "    \n",
    "    double average = sum / n;\n",
    "\n",
    "    int count = 0; // The numbers of elements above average\n",
    "    for (int i = 0; i < n; i++) \n",
    "      if (numbers[i] > average)\n",
    "        count++;\n",
    "\n",
    "    System.out.println(\"Average is \" + average);\n",
    "    System.out.println(\"Number of elements above the average is \"\n",
    "      + count);\n",
    "  }\n",
    "}\n",
    "\n",
    "// Prueba la clase: crea un objeto y llama el método main"
   ]
  },
  {
   "cell_type": "markdown",
   "metadata": {},
   "source": [
    "## Clases Predefinidas\n",
    "\n",
    "### Arrays\n",
    "\n",
    "La clase `java.util.Arrays` contiene métodos útiles para operaciones comunes con matrices, como la ordenación y la búsqueda."
   ]
  },
  {
   "cell_type": "code",
   "execution_count": null,
   "metadata": {},
   "outputs": [],
   "source": [
    "// Sorting Arrays\n",
    "import java.util.Arrays;\n",
    "double[] numbers = {6.0, 4.4, 1.9, 2.9, 3.4, 3.5};\n",
    "\n",
    "Arrays.sort(numbers); // Sort the whole array\n",
    "Arrays.parallelSort(numbers); // Sort the whole array\n",
    "char[] chars = {'a', 'A', '4', 'F', 'D', 'P'};\n",
    "\n",
    "Arrays.sort(chars, 1, 3); // Sort part of the array\n",
    "Arrays.parallelSort(chars, 1, 3); // Sort part of the array"
   ]
  },
  {
   "cell_type": "code",
   "execution_count": 142,
   "metadata": {},
   "outputs": [
    {
     "name": "stdout",
     "output_type": "stream",
     "text": [
      "1. Index is 4\n",
      "2. Index is -6\n",
      "3. Index is 0\n",
      "4. Index is -4\n"
     ]
    }
   ],
   "source": [
    "// Searching in an Arrays\n",
    "int[] list = {2, 4, 7, 10, 11, 45, 50, 59, 60, 66, 69, 70, 79};\n",
    "System.out.println(\"1. Index is \" + Arrays.binarySearch(list, 11));\n",
    "System.out.println(\"2. Index is \" + Arrays.binarySearch(list, 12));\n",
    "\n",
    "char[] chars = {'a', 'c', 'g', 'x', 'y', 'z'};\n",
    "System.out.println(\"3. Index is \" + Arrays.binarySearch(chars, 'a'));\n",
    "System.out.println(\"4. Index is \" + Arrays.binarySearch(chars, 't'));"
   ]
  },
  {
   "cell_type": "code",
   "execution_count": 143,
   "metadata": {},
   "outputs": [
    {
     "name": "stdout",
     "output_type": "stream",
     "text": [
      "true\n",
      "false\n"
     ]
    }
   ],
   "source": [
    "// Comparing Arrays\n",
    "int[] list1 = {2, 4, 7, 10};\n",
    "int[] list2 = {2, 4, 7, 10};\n",
    "int[] list3 = {4, 2, 7, 10};\n",
    "System.out.println(java.util.Arrays.equals(list1, list2)); // true\n",
    "System.out.println(java.util.Arrays.equals(list2, list3)); // false"
   ]
  },
  {
   "cell_type": "code",
   "execution_count": 144,
   "metadata": {},
   "outputs": [],
   "source": [
    "// Filling Arrays\n",
    "int[] list1 = {2, 4, 7, 10};\n",
    "int[] list2 = {2, 4, 7, 7, 7, 10};\n",
    "java.util.Arrays.fill(list1, 5); // Fill 5 to the whole array\n",
    "java.util.Arrays.fill(list2, 1, 5, 8); // Fill 8 to a partial array"
   ]
  },
  {
   "cell_type": "markdown",
   "metadata": {},
   "source": [
    "Para mayor información revisa la clase de java [Arrays.java](https://github.com/openjdk/jdk/blob/master/src/java.base/share/classes/java/util/Arrays.java).\n",
    "\n",
    "### ArrayList\n",
    "\n",
    "Un ArrayList se utiliza para representar una lista dinámica. Mientras que la clase Array de Java crea vectores de tamaño fijo (el tamaño no se puede modificar), una ArrayList permite flexibilidad al poder añadir y eliminar elementos.\n",
    "\n",
    "En su comportamiento la clase ArrayList es muy similar a la clase Array. Para mayor información revisa la clase de java [ArrayList.java](https://github.com/openjdk/jdk/blob/master/src/java.base/share/classes/java/util/ArrayList.java).\n"
   ]
  },
  {
   "cell_type": "markdown",
   "metadata": {},
   "source": [
    "## Conclusión\n",
    "\n",
    "En esta clase, los estudiantes han aprendido sobre la estructura y manipulación de arreglos y cadenas en Java, tanto en una como en varias dimensiones. Estos conceptos son fundamentales para la programación en Java, ya que permiten organizar y procesar grandes cantidades de datos de manera eficiente. A través de aplicaciones prácticas y algoritmos de búsqueda, los estudiantes han adquirido las habilidades necesarias para aplicar estos conceptos en la resolución de problemas reales.\n",
    "\n",
    "## Ejercicio \n",
    "\n",
    "::::{admonition} Taller 3\n",
    "\n",
    "Elige un tema de tu interés, como una película, un deporte, un videojuego, una banda musical, etc. Con base en ese tema, desarrollarás un programa en Java que utilice arreglos y cadenas unidimensionales para realizar una tarea relacionada.\n",
    "\n",
    "**Instrucciones**\n",
    "\n",
    "1. **Definición del Tema:**\n",
    "   - Escoge un tema que te apasione o te interese. Por ejemplo, si te gusta el cine, podrías trabajar con una lista de tus películas favoritas; si prefieres los deportes, podrías utilizar los nombres de los equipos de fútbol o los jugadores.\n",
    "\n",
    "2. **Diseño del Programa:**\n",
    "   - **Arreglo de Cadenas:** Crea un arreglo unidimensional para almacenar una lista de nombres relacionados con tu tema (por ejemplo, títulos de películas, nombres de jugadores, etc.).\n",
    "   - **Arreglo de Enteros:** Si es relevante para tu tema, crea un segundo arreglo para almacenar números asociados a cada elemento del primer arreglo (por ejemplo, el año de lanzamiento de cada película o las puntuaciones de los jugadores).\n",
    "   \n",
    "      Si requieres crear más arreglos o variables eres libre de agregar el código que deseas y creas pertinente.\n",
    "\n",
    "3. **Funcionalidades del Programa:**\n",
    "   - **Buscar en el Arreglo:** Implementa un método que permita buscar un elemento en el arreglo de cadenas y muestre información relacionada (por ejemplo, buscar una película por nombre y mostrar su año de lanzamiento).\n",
    "   - **Agregar y Eliminar Elementos:** Crea funcionalidades que permitan al usuario agregar nuevos elementos al arreglo o eliminar elementos existentes.\n",
    "   - **Mostrar el Contenido:** Implementa un método para mostrar todos los elementos del arreglo y su información asociada.\n",
    "\n",
    "4. **Desarrollo del Código:**\n",
    "   - Escribe el código en Java para implementar las funcionalidades descritas. Asegúrate de manejar correctamente los índices y las posibles excepciones (como intentar acceder a un índice fuera de los límites del arreglo).\n",
    "\n",
    "5. **Prueba del Programa:**\n",
    "   - Prueba el programa con diferentes entradas para asegurarte de que todas las funcionalidades funcionan correctamente.\n",
    "\n",
    "**Entregables**\n",
    "- Código fuente en Java (o notebook) que implemente el ejercicio de acuerdo con el tema elegido.\n",
    "- Un documento breve que describa el tema seleccionado, las funcionalidades implementadas, y cómo el programa maneja los datos. Esto se puede hacer en el notebook fácilmente o comentando los códigos.\n",
    "\n",
    "**(Opcional)** Resolver alguno de los siguientes problemas utilizando clases, métodos, arreglos, cadenas, etc.\n",
    "\n",
    "- [rotate-string](https://www.codeabbey.com/index/task_view/rotate-string)\n",
    "- [palindromes](https://www.codeabbey.com/index/task_view/palindromes)\n",
    "- [reverse-string](https://www.codeabbey.com/index/task_view/reverse-string)\n",
    "\n",
    "\n",
    ":::{tip}\n",
    "Pueden implentar todo desde cero pero sería un trabajo arduo, lo mejor es que utilicen las clases `Array` o `ArrayList` que ya tiene todos los métodos implementados. \n",
    ":::\n",
    "\n",
    ":::{important}\n",
    "Pueden trabajar en grupo pero **NO** deben tener el mismo tema, como todos tenemos gustos diferentes todos tendremos códigos diferentes.\n",
    ":::\n",
    "\n",
    "\n",
    "::::"
   ]
  }
 ],
 "metadata": {
  "colab": {
   "include_colab_link": true,
   "provenance": []
  },
  "kernelspec": {
   "display_name": "Java",
   "language": "java",
   "name": "java"
  },
  "language_info": {
   "codemirror_mode": "java",
   "file_extension": ".jshell",
   "mimetype": "text/x-java-source",
   "name": "java",
   "pygments_lexer": "java",
   "version": "21.0.4+7-Ubuntu-1ubuntu224.04"
  }
 },
 "nbformat": 4,
 "nbformat_minor": 0
}
