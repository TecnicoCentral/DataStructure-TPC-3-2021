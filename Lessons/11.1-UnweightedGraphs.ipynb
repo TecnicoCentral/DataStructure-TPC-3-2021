{
 "cells": [
  {
   "cell_type": "markdown",
   "metadata": {
    "vscode": {
     "languageId": "plaintext"
    }
   },
   "source": [
    "# Sin Peso\n",
    "\n",
    "## Introducción\n",
    "\n",
    "Los grafos sin peso son una estructura de datos fundamental en ciencias de la computación y matemáticas, utilizada para modelar relaciones entre objetos de manera simple. A diferencia de los grafos ponderados, en los grafos sin peso no se asigna un valor cuantitativo a las aristas; solo se representa la existencia de una conexión entre dos nodos. Este tipo de grafos es ideal para problemas donde las relaciones son cualitativas o donde el costo de las conexiones no es relevante, como en redes sociales, sistemas de recomendación y exploración de grafos.\n",
    "\n",
    "Su simplicidad los convierte en una herramienta versátil para resolver problemas como el cálculo de caminos mínimos (usando algoritmos como BFS o DFS), la detección de ciclos, y la verificación de conectividad entre nodos. En esta clase, exploraremos las propiedades, aplicaciones y métodos de implementación de grafos sin peso, destacando su importancia en diversas áreas como informática, biología y ciencias sociales."
   ]
  },
  {
   "cell_type": "markdown",
   "metadata": {
    "vscode": {
     "languageId": "java"
    }
   },
   "source": [
    "## Ejemplos\n",
    "\n",
    "(ciudadesCol)=\n",
    "### Ciudades de Colombia\n",
    "\n",
    "::::{grid}\n",
    "\n",
    ":::{grid-item}\n",
    ":margin: 0 auto 0 auto\n",
    ":columns: 6\n",
    "<iframe src=\"https://www.google.com/maps/d/u/1/embed?mid=1Uv5IG88ODEyttG8DCnKBfD1SSwG_PeY&ehbc=2E312F\" width=\"100%\" height=\"400px\"></iframe>\n",
    ":::\n",
    ":::{grid-item}\n",
    ":margin: auto auto 0 0\n",
    ":columns: 6\n",
    "```{figure} ../../images/ciudades.png\n",
    "---\n",
    "width: 100%\n",
    "name: graphs_example\n",
    "---\n",
    "Ejemplo de grafo para representar vuelos entre ciudades de Colombia. \n",
    "```\n",
    ":::\n",
    "::::\n",
    "\n",
    "### Ciudades de EEUU\n",
    "\n",
    "(mapaEEUU)=\n",
    "```{figure} ../../images/Figure28.1.png\n",
    "---\n",
    "width: 90%\n",
    "name: USA_states\n",
    "---\n",
    "Ejemplo de grafo representando vuelos entre diferentes ciudades.\n",
    "```\n",
    "\n",
    "## Terminología de Grafos\n",
    "\n",
    "### Conceptos Básicos\n",
    "\n",
    "1. **Vértices o Nodos**: Elementos individuales que componen el grafo.\n",
    "2. **Aristas o Enlaces**: Conexiones entre nodos.\n",
    "3. **Grafo Dirigido**: Un grafo donde las aristas tienen dirección.\n",
    "4. **Grafo No Dirigido**: Un grafo donde las aristas no tienen dirección, y la conexión es bidireccional.\n",
    "5. **Peso de Arista**: Un valor numérico asociado a una arista que puede representar distancia, costo, etc.\n",
    "6. **Camino**: Secuencia de nodos donde cada par consecutivo de nodos está conectado por una arista.\n",
    "7. **Ciclo**: Camino cerrado en el cual el nodo inicial y final son el mismo.\n",
    "8. **Conectividad**: Propiedad que indica si existe un camino entre cada par de nodos.\n",
    "9. **Grafo Completo**: Grafo en el cual todos los nodos están conectados entre sí.\n",
    "\n",
    "### Definición Formal\n",
    "\n",
    "Dicho de otra forma. Un gráfico es una estructura matemática que representa relaciones entre entidades del mundo real. Por ejemplo, el grafo de la {numref}`mapaEEUU` representa los vuelos entre ciudades, y el grafo de la {numref}`Konigsberg`(b) representa los puentes entre masas de tierra. Un grafo está formado por un conjunto de **vértices** (también conocidos como nodos o puntos) y un conjunto de **aristas** que conectan los vértices. Por conveniencia, definimos un grafo como G = (V, E), donde V representa un conjunto de vértices y E representa un conjunto de aristas. Por ejemplo, V y E para el grafo de la {numref}`mapaEEUU`  son los siguientes:\n",
    "\n",
    "```java\n",
    "V = {\"Seattle\", \"San Francisco\", \"Los Angeles\", \"Denver\", \"Kansas City\", \"Chicago\", \"Boston\", \"New York\",\n",
    "\"Atlanta\", \"Miami\", \"Dallas\", \"Houston\"};\n",
    "E = {{\"Seattle\", \"San Francisco\"},{\"Seattle\", \"Chicago\"}, {\"Seattle\", \"Denver\"}, {\"San Francisco\", \"Denver\"},\n",
    "... };\n",
    "```\n",
    "\n",
    "### Otros Términos\n",
    "\n",
    "- Dos vértices de un grafo son *adyacentes* si están conectados por la misma arista.\n",
    "- Del mismo modo, dos aristas son *adyacentes* si están conectadas al mismo vértice. Una arista de un grafo que une dos vértices se dice que es incidente en ambos vértices. El *grado* de un vértice es el número de aristas que inciden en él.\n",
    "- Dos vértices son *vecinos* si son adyacentes. Del mismo modo, dos aristas son vecinas si son adyacentes.\n",
    "- Un *bucle* (loop) es una arista que une un vértice consigo misma. Si dos vértices están conectados por dos o más aristas, éstas se denominan *aristas paralelas*. Un *grafo simple* es aquel que no tiene bucles ni aristas paralelas. En un *grafo completo*, cada dos vértices son adyacentes, como se muestra en la Figura 28.3b.\n",
    "- Un grafo está *conectado* (también conocido como fuertemente conectado) si existe un camino entre cada dos vértices del grafo. Un grafo es *débilmente conectado* si es conectado cuando se considera que el grafo es no dirigido. Un *subgrafo* de un grafo G es un grafo cuyo conjunto de vértices es un subconjunto del de G y cuyo conjunto de aristas es un subconjunto del de G.\n",
    "- Supongamos que el grafo etá conectado y no dirigido. Un *ciclo* es un camino cerrado que parte de un vértice y termina en el mismo vértice. Un grafo conectado es un *árbol* si no tiene ciclos. Un *árbol de expansión* de un grafo G es un subgrafo conectado de G, y el subgrafo es un árbol que contiene todos los vértices de G.\n",
    "\n",
    "## Tipos de Grafos \n",
    "\n",
    "Un grafo puede ser dirigido o no dirigido. En un grafo dirigido, cada arista tiene una dirección, lo que indica que puedes moverte de un vértice a otro a través de la arista. Las relaciones padre-hijo pueden modelarse mediante un grafo dirigido, en el que una arista del vértice A al B indica que A es padre de B.\n",
    "\n",
    "\n",
    "```{figure} ../../images/Figure28.3.png\n",
    "---\n",
    "width: 100%\n",
    "name: Figure28.3\n",
    "---\n",
    "Clasificación de los grafos.\n",
    "```"
   ]
  },
  {
   "cell_type": "markdown",
   "metadata": {},
   "source": [
    "(representaciongrafos)=\n",
    "## Representaciones de Grafos\n",
    "\n",
    "Existen varias formas de representar grafos en programación. A continuación, se explican las representaciones más comunes:\n",
    "\n",
    "### Lista con las Aristas\n",
    "\n",
    "La lista de aristas almacena todas las aristas del grafo como pares de nodos. Es útil para algoritmos que trabajan sobre aristas, como el algoritmo de Kruskal.\n",
    "\n",
    "\n",
    "```{figure} ../../images/Figure28.5.png\n",
    "---\n",
    "width: 70%\n",
    "name: Figure28.5\n",
    "---\n",
    "Una lista para almacenar los nombres de los vertices.\n",
    "```\n",
    "\n",
    "#### Ejemplo"
   ]
  },
  {
   "cell_type": "code",
   "execution_count": null,
   "metadata": {
    "vscode": {
     "languageId": "java"
    }
   },
   "outputs": [],
   "source": [
    "String[] vertices = {\"Seattle\", \"San Francisco\", \"Los Angeles\",\n",
    "                     \"Denver\", \"Kansas City\", \"Chicago\", \"Boston\", \"New York\",\n",
    "                     \"Atlanta\", \"Miami\", \"Dallas\", \"Houston\"};"
   ]
  },
  {
   "cell_type": "markdown",
   "metadata": {},
   "source": [
    "Ahora crea una lista donde los elementos sean objetos de la clase `City` y tengan los atributos: Nombre, Poblacion, Alcalde."
   ]
  },
  {
   "cell_type": "code",
   "execution_count": null,
   "metadata": {
    "vscode": {
     "languageId": "java"
    }
   },
   "outputs": [],
   "source": [
    "// Agregar código aquí"
   ]
  },
  {
   "cell_type": "markdown",
   "metadata": {},
   "source": [
    "### Listas de Vertices Adyacentes \n",
    "\n",
    "Una lista de adyacencia es una estructura donde cada nodo tiene una lista de sus nodos adyacentes. Es más eficiente en términos de espacio para grafos dispersos.\n",
    "\n",
    "```{figure} ../../images/Figure28.6.png\n",
    "---\n",
    "width: 90%\n",
    "name: Figure28.6\n",
    "---\n",
    "Matriz que guarda los vecinos de cada vértice.\n",
    "```"
   ]
  },
  {
   "cell_type": "code",
   "execution_count": null,
   "metadata": {
    "vscode": {
     "languageId": "java"
    }
   },
   "outputs": [
    {
     "name": "stdout",
     "output_type": "stream",
     "text": [
      "5\n"
     ]
    }
   ],
   "source": [
    "int[][] neighbors = { {1, 3, 5},\n",
    "                      {0, 2, 3},\n",
    "                      {1, 3, 4, 10},\n",
    "                      {0, 1, 2, 4, 5},\n",
    "                      {2, 3, 5, 7, 8, 10},\n",
    "                      {0, 3, 4, 6, 7},\n",
    "                      {5, 7},\n",
    "                      {4, 5, 6, 8},\n",
    "                      {4, 7, 9, 10, 11},\n",
    "                      {6, 11},\n",
    "                      {2, 4, 8, 11},\n",
    "                      {8, 9, 10} };\n",
    "\n",
    "System.out.println(neighbors[0][2]);"
   ]
  },
  {
   "cell_type": "markdown",
   "metadata": {},
   "source": [
    "### Listas de Aristas Adyacentes \n",
    "\n",
    "Una lista de adyacencia es una estructura donde cada nodo tiene una lista de sus nodos adyacentes almacenados en nodos. \n",
    "\n",
    "```{figure} ../../images/Figure28.7.png\n",
    "---\n",
    "width: 100%\n",
    "name: Figure28.7\n",
    "---\n",
    "Matriz que guarda los vecinos de cada vértice utilizando la clase nodo.\n",
    "```\n",
    "\n",
    "### Ejemplo"
   ]
  },
  {
   "cell_type": "code",
   "execution_count": 12,
   "metadata": {
    "vscode": {
     "languageId": "java"
    }
   },
   "outputs": [],
   "source": [
    "int[][] edges_USA = {\n",
    "  {0, 1}, {0, 3}, {0, 5},\n",
    "  {1, 0}, {1, 2}, {1, 3},\n",
    "  {2, 1}, {2, 3}, {2, 4}, {2, 10},\n",
    "  {3, 0}, {3, 1}, {3, 2}, {3, 4}, {3, 5},\n",
    "  {4, 2}, {4, 3}, {4, 5}, {4, 7}, {4, 8}, {4, 10},\n",
    "  {5, 0}, {5, 3}, {5, 4}, {5, 6}, {5, 7},\n",
    "  {6, 5}, {6, 7},\n",
    "  {7, 4}, {7, 5}, {7, 6}, {7, 8},\n",
    "  {8, 4}, {8, 7}, {8, 9}, {8, 10}, {8, 11},\n",
    "  {9, 8}, {9, 11},\n",
    "  {10, 2}, {10, 4}, {10, 8}, {10, 11},\n",
    "  {11, 8}, {11, 9}, {11, 10}\n",
    "};"
   ]
  },
  {
   "cell_type": "markdown",
   "metadata": {},
   "source": [
    "O, usando la clase de bordes (edges)"
   ]
  },
  {
   "cell_type": "code",
   "execution_count": 16,
   "metadata": {
    "vscode": {
     "languageId": "java"
    }
   },
   "outputs": [
    {
     "data": {
      "text/plain": [
       "true"
      ]
     },
     "execution_count": 16,
     "metadata": {},
     "output_type": "execute_result"
    }
   ],
   "source": [
    "public class Edge {\n",
    "  int u, v;\n",
    "  public Edge(int u, int v) {\n",
    "      this.u = u;\n",
    "      this.v = v;\n",
    "  }\n",
    "  public boolean equals(Object o) {\n",
    "      return u == ((Edge)o).u && v == ((Edge)o).v;\n",
    "  }\n",
    "}\n",
    "\n",
    "ArrayList<Edge> list = new ArrayList<>();\n",
    "list.add(new Edge(0, 1));\n",
    "\n",
    "List<ArrayList<Edge>> neighbors = new ArrayList<>();\n",
    "neighbors.add(new ArrayList<Edge>());\n",
    "neighbors.get(0).add(new Edge(0, 1));\n",
    "neighbors.get(0).add(new Edge(0, 3));\n",
    "neighbors.get(0).add(new Edge(0, 5));\n",
    "neighbors.add(new ArrayList<Edge>());\n",
    "neighbors.get(1).add(new Edge(1, 0));\n",
    "neighbors.get(1).add(new Edge(1, 2));\n",
    "neighbors.get(1).add(new Edge(1, 3));\n",
    "/// ..."
   ]
  },
  {
   "cell_type": "markdown",
   "metadata": {},
   "source": [
    "### Matriz Adyacente\n",
    "\n",
    "Una matriz de adyacencia es una **matriz cuadrada** donde cada elemento indica si existe una arista entre dos nodos. \n",
    "\n",
    "Representar un grafo es almacenar sus vértices y aristas en un programa. La estructura de datos para almacenar un grafo son las matrices o listas."
   ]
  },
  {
   "cell_type": "code",
   "execution_count": null,
   "metadata": {
    "vscode": {
     "languageId": "java"
    }
   },
   "outputs": [],
   "source": [
    "int[][] adjacencyMatrix = {\n",
    "  {0, 1, 0, 1, 0, 1, 0, 0, 0, 0, 0, 0}, // Seattle\n",
    "  {}, // San Francisco\n",
    "  {}, // Los Angeles\n",
    "  {}, // Denver\n",
    "  {}, // Kansas City\n",
    "  {}, // Chicago\n",
    "  {}, // Boston\n",
    "  {}, // New York\n",
    "  {}, // Atlanta\n",
    "  {}, // Miami\n",
    "  {}, // Dallas\n",
    "  {} // Houston\n",
    "};"
   ]
  },
  {
   "cell_type": "markdown",
   "metadata": {},
   "source": [
    "Ahora implementa el código de la matriz adyacente de la figure {numref}`graphs_example`, cambia los elementos del vector de Vertices por objetos de tipo ciudad."
   ]
  },
  {
   "cell_type": "code",
   "execution_count": null,
   "metadata": {
    "vscode": {
     "languageId": "java"
    }
   },
   "outputs": [],
   "source": [
    "// Agrega aquí el código"
   ]
  },
  {
   "cell_type": "markdown",
   "metadata": {},
   "source": [
    "(implementaciongrafo)=\n",
    "## Implementación en Java\n",
    "\n",
    "Java no trae una clase de grafos implementada. Existen muchas formas de implementar grafos, sin embargo, utilizaremos la clae creada en el libro guía debido a su robustes y completitud.\n",
    "\n",
    "Esta clase crea la interfaz `Graph.java` que luego es implementada por los grafos con y sin peso. \n",
    "\n",
    "```{figure} ../../images/Figure28.8.png\n",
    "---\n",
    "width: 100%\n",
    "name: Figure28.8\n",
    "---\n",
    "Relación entre la interfaz de grafo y las clases de grafo con y sin pesos.\n",
    "```\n",
    "\n",
    "Las interfaz tiene todos los métodos necesarios que luego son heredados por la clase `UnweightedGraph.java`. Sin embargo, la clase utiliza dos listas para guardar los vertices y los vecinos.\n",
    "\n",
    "```{figure} ../../images/Figure28.9.png\n",
    "---\n",
    "width: ¡90%\n",
    "name: Figure28.9\n",
    "---\n",
    "Diagrama de clase de la interfaz `Graph` y de la clase genérica de grafo sin pesos, `UnweightedGraph`.\n",
    "```\n",
    "\n",
    "::::{tip}\n",
    "Para ejecutar correctamente las siguientes clases deben ejecutarse en el siguiente orden:\n",
    "\n",
    "`Edge` > `Graph` (saldrá un error de dependencia con `UnweightedGraph`) > `UnweightedGraph` > de nuevo `Graph` > `TestGraph` > finalmente crear un objeto de la clase `TestGraph` y ejecutar su método main.\n",
    "\n",
    "El error que sale es porque `Graph` depende de `UnweightedGraph` y viceversa.\n",
    "::::"
   ]
  },
  {
   "cell_type": "code",
   "execution_count": 1,
   "metadata": {
    "vscode": {
     "languageId": "java"
    }
   },
   "outputs": [],
   "source": [
    "// Edge.java  \n",
    "public class Edge {\n",
    "  int u, v;\n",
    "  public Edge(int u, int v) {\n",
    "      this.u = u;\n",
    "      this.v = v;\n",
    "  }\n",
    "  public boolean equals(Object o) {\n",
    "      return u == ((Edge)o).u && v == ((Edge)o).v;\n",
    "  }\n",
    "}"
   ]
  },
  {
   "cell_type": "code",
   "execution_count": 7,
   "metadata": {
    "vscode": {
     "languageId": "java"
    }
   },
   "outputs": [],
   "source": [
    "// Implementa aquí la interfaz Graph.java\n"
   ]
  },
  {
   "cell_type": "code",
   "execution_count": 8,
   "metadata": {
    "vscode": {
     "languageId": "java"
    }
   },
   "outputs": [],
   "source": [
    "// Implementa aquí la clase UnweightedGraph.java\n"
   ]
  },
  {
   "cell_type": "code",
   "execution_count": 9,
   "metadata": {
    "vscode": {
     "languageId": "java"
    }
   },
   "outputs": [],
   "source": [
    "// Implementa aquí una prueba de la clase UnweightedGraph.java, TestGraph.java\n"
   ]
  },
  {
   "cell_type": "code",
   "execution_count": 10,
   "metadata": {
    "vscode": {
     "languageId": "java"
    }
   },
   "outputs": [],
   "source": [
    "// Crear y objeto de tipo TestGraph y ejecutar su método main\n"
   ]
  },
  {
   "cell_type": "markdown",
   "metadata": {},
   "source": [
    "## Recorridos\n",
    "\n",
    "Recorrer un grafo es el proceso de visitar cada vértice del grafo exactamente una vez. Hay dos formas populares de recorrer un grafo: el recorrido en profundidad (o búsqueda en profundidad) y el recorrido en amplitud (o búsqueda en amplitud). Ambas formas dan lugar a un árbol de expansión, que puede modelarse mediante una clase.\n",
    "\n",
    "::::{grid}\n",
    "\n",
    ":::{grid-item}\n",
    ":margin: auto auto 0 0\n",
    ":columns: 6\n",
    "\n",
    "<iframe width=\"100%\" height=\"280px\" src=\"https://www.youtube.com/embed/Urx87-NMm6c?si=rJ6nAOLts5HZHpXw\" title=\"YouTube video player\" frameborder=\"0\" allow=\"accelerometer; autoplay; clipboard-write; encrypted-media; gyroscope; picture-in-picture; web-share\" referrerpolicy=\"strict-origin-when-cross-origin\" allowfullscreen></iframe>\n",
    "\n",
    ":::\n",
    "\n",
    ":::{grid-item}\n",
    ":margin: auto auto 0 0\n",
    ":columns: 6\n",
    "\n",
    "<iframe width=\"100%\" height=\"280px\" src=\"https://www.youtube.com/embed/HZ5YTanv5QE?si=G_IpbnnQbsK2jxng\" title=\"YouTube video player\" frameborder=\"0\" allow=\"accelerometer; autoplay; clipboard-write; encrypted-media; gyroscope; picture-in-picture; web-share\" referrerpolicy=\"strict-origin-when-cross-origin\" allowfullscreen></iframe>\n",
    "\n",
    ":::\n",
    "\n",
    "::::\n",
    "\n",
    "### Depth-First Search (DFS)\n",
    "\n",
    "La búsqueda en profundidad de un grafo parte de un vértice del grafo y visita todos los vértices del grafo en la medida de lo posible antes de retroceder.\n",
    "\n",
    "```{figure} ../../images/Figure28.12.png\n",
    "---\n",
    "width: 80%\n",
    "name: Figure28.12\n",
    "---\n",
    "Ejemplo de búsqueda en profundidad para un grafo simple.\n",
    "```\n",
    "\n",
    ":::{tip}\n",
    "Se suele utilizar una **Pila** y un árbol no binario (**Spanning Tree**) para hacer este recorrido. Al terminar de recorrer todo el grafo la pila debe estar vacía.\n",
    ":::"
   ]
  },
  {
   "cell_type": "code",
   "execution_count": null,
   "metadata": {
    "vscode": {
     "languageId": "java"
    }
   },
   "outputs": [],
   "source": [
    "// Agrega aquí el código TestDFS.java"
   ]
  },
  {
   "cell_type": "markdown",
   "metadata": {},
   "source": [
    "```{figure} ../../images/Figure28.13.png\n",
    "---\n",
    "width: 80%\n",
    "name: Figure28.13\n",
    "---\n",
    "Ejemplo de búsqueda en profundidad para el grafo de EEUU iniciando en Chicago (5).\n",
    "```\n",
    "\n",
    "#### Aplicaciones de la DFS\n",
    "La búsqueda en profundidad primero se puede utilizar para resolver muchos problemas, como los siguientes:\n",
    "\n",
    "- Detectar si un grafo está conectado. Buscar en el grafo empezando por cualquier vértice. Si el número de vértices buscados es el mismo que el número de vértices del grafo, el grafo está conectado. En caso contrario, el grafo no está conectado. \n",
    "- Detectar si existe un camino entre dos vértices. \n",
    "- Encontrar un camino entre dos vértices.\n",
    "- Encontrar todas las componentes conexas. Una componente conexa es un subgrafo conectado maximal en el que cada par de vértices está conectado por un camino.\n",
    "- Detectar si hay un ciclo en el grafo.\n",
    "- Encontrar un ciclo en el grafo.\n",
    "- Encontrar una *trayectoria/ciclo hamiltoniano*. Un camino hamiltoniano en un grafo es un camino que visita cada vértice del grafo exactamente una vez. Un ciclo hamiltoniano visita cada vértice del grafo exactamente una vez y vuelve al vértice inicial."
   ]
  },
  {
   "cell_type": "markdown",
   "metadata": {},
   "source": [
    "### Breadth-First Search (BFS)\n",
    "\n",
    "La búsqueda exhaustiva de un grafo visita los vértices nivel por nivel. El primer nivel está formado por el vértice inicial. Cada nivel siguiente está formado por los vértices adyacentes a los vértices del nivel anterior.\n",
    "\n",
    ":::{important}\n",
    "Se deben recorrer, o explorar, todos los vértices adyacentes antes de pasar a la siguiente iteración.\n",
    ":::\n",
    "\n",
    "```{figure} ../../images/Figure28.15.png\n",
    "---\n",
    "width: 80%\n",
    "name: Figure28.15\n",
    "---\n",
    "Ejemplo de búsqueda en amplitud para un grafo simple.\n",
    "```\n",
    "\n",
    ":::{tip}\n",
    "Se suele utilizar una **Cola** y un árbol binario (**Spanning Tree**) para hacer este recorrido. Al terminar de recorrer todo el árbol la cola debe estar llena. Tanto el árbol resultante como el recorrido son de tipo Pre-Order.\n",
    ":::"
   ]
  },
  {
   "cell_type": "code",
   "execution_count": null,
   "metadata": {
    "vscode": {
     "languageId": "java"
    }
   },
   "outputs": [],
   "source": [
    "// Agrega aquí el código TestBFS.java"
   ]
  },
  {
   "cell_type": "markdown",
   "metadata": {},
   "source": [
    "```{figure} ../../images/Figure28.16.png\n",
    "---\n",
    "width: 80%\n",
    "name: Figure28.16\n",
    "---\n",
    "Ejemplo de búsqueda en amplitud para el grafo de EEUU iniciando en Chicago (5).\n",
    "```\n",
    "\n",
    "#### Aplicaciones de la BFS\n",
    "\n",
    "Muchos de los problemas que resuelve la DFS también pueden resolverse con la BFS. En concreto, el BFS se puede utilizar para resolver los siguientes problemas:\n",
    "\n",
    "- Detectar si un grafo es conectado. Un grafo está conectado si existe un camino entre dos vértices cualesquiera del grafo.\n",
    "- Detectar si hay un camino entre dos vértices.\n",
    "- Encontrar el camino más corto entre dos vértices. Se puede demostrar que el camino entre la raíz y cualquier nodo del árbol BFS es el camino más corto entre la raíz y el nodo. \n",
    "- Encontrar todos los componentes conectados. Una componente conexa es un subgrafo conectado máximo en el que cada par de vértices está conectado por un camino.\n",
    "- Detectar si hay un ciclo en el grafo.\n",
    "- Encontrar un ciclo en el grafo.\n",
    "- Comprobar si un grafo es bipartito. (Un grafo es bipartito si los vértices del grafo pueden dividirse en dos conjuntos disjuntos tales que no existan aristas entre vértices del mismo conjunto)."
   ]
  },
  {
   "cell_type": "markdown",
   "metadata": {},
   "source": [
    "## Conclusión\n",
    "\n",
    "Los grafos sin peso son una representación esencial para modelar relaciones entre entidades de manera directa y sin complicaciones. Al no considerar valores asociados a las conexiones, son ideales para problemas donde la prioridad es la topología de la red en lugar del análisis cuantitativo. Comprender su funcionamiento y aplicación es crucial para abordar una amplia variedad de problemas, desde la navegación en redes hasta la simulación de relaciones biológicas. Su implementación en lenguajes como Java ofrece una base sólida para extender su funcionalidad a grafos ponderados y otros modelos más complejos.\n",
    "\n",
    "## Ejercicio\n",
    "\n",
    "::::{admonition} Taller 7\n",
    "De la sección de [Ejemplos](ciudadesCol), implementar el viaje por las ciudades (grafo) utilizando la clase `UnweightedGraph.java` descrita en el capitulo de [Implementación en java](implementaciongrafo). Después, recorrer el grafo de forma DFS y BFS utilizando los métodos de las clases. Deben dibujar el grafo utilizando cualquier herramienta de la sección de [Visualización](visualizacion_grafos).\n",
    "\n",
    "**Deben subir pantallazos de los dos recorridos.**\n",
    "\n",
    ":::{tip}\n",
    "Primero deben implementar los arreglos de vértices, nodos, y matriz adyacente. La clase de `UnweightedGraph.java` los requiere (edges y vertices), revisen la sección de [Representación de Grafos](representaciongrafos). Para los vértices deben crear dos arreglos, uno con los nombres de los países y otro donde sus elementos sean de la clase `City`.\n",
    ":::\n",
    "\n",
    "::::\n",
    "\n",
    "\n",
    "## Recursos Adicionales\n",
    "\n",
    "- [Graph Traversals - Depth First Search (DFS) Animated](https://www.youtube.com/watch?v=r0JBs6xsIlo)\n",
    "- [5.1 Graph Traversals - BFS & DFS -Breadth First Search and Depth First Search](https://www.youtube.com/watch?v=pcKY4hjDrxk&t=747s)"
   ]
  }
 ],
 "metadata": {
  "kernelspec": {
   "display_name": "Java",
   "language": "java",
   "name": "java"
  },
  "language_info": {
   "codemirror_mode": "java",
   "file_extension": ".jshell",
   "mimetype": "text/x-java-source",
   "name": "Java",
   "pygments_lexer": "java",
   "version": "21.0.5+11-Ubuntu-1ubuntu124.04"
  }
 },
 "nbformat": 4,
 "nbformat_minor": 2
}
