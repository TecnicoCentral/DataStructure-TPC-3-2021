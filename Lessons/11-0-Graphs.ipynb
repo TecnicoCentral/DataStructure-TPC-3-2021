{
 "cells": [
  {
   "cell_type": "markdown",
   "metadata": {
    "vscode": {
     "languageId": "plaintext"
    }
   },
   "source": [
    "# Grafos\n",
    "\n",
    "## Objetivos\n",
    "\n",
    "- Comprender la terminología básica de los grafos.\n",
    "- Aprender las diferentes formas de representación de grafos en programación.\n",
    "- Implementar grafos en Java utilizando diferentes representaciones.\n",
    "- Identificar aplicaciones prácticas de los grafos en problemas de la vida real.\n",
    "- Desarrollar habilidades para manipular y recorrer grafos.\n",
    "\n",
    "## Introducción\n",
    "\n",
    ">Muchos problemas del mundo real pueden resolverse mediante algoritmos gráficos.\n",
    "\n",
    "Los **grafos** son estructuras de datos fundamentales en ciencias de la computación que permiten modelar relaciones entre distintos elementos. Un grafo está compuesto por **nodos** (o vértices) y **aristas** (o enlaces), que conectan estos nodos. Los grafos son ampliamente utilizados en diversas aplicaciones, desde redes de transporte hasta algoritmos de redes sociales y análisis de redes.\n",
    "\n",
    "```{figure} https://www.researchgate.net/profile/Prohollad-Sarkar-2/publication/321846685/figure/fig1/AS:572036225683456@1513395472028/Graph-theory-analysis-in-social-network-Image-courtesy-of-5.png\n",
    "---\n",
    "width: 100%\n",
    "name: GraphTheory\n",
    "---\n",
    "Ejemplo de un grafo en redes sociales. Imagen tomada de [A Comprehensive Survey of Time Series Anomaly Detection in Online Social Network Data - ResearchGate](https://www.researchgate.net/publication/321846685_A_Comprehensive_Survey_of_Time_Series_Anomaly_Detection_in_Online_Social_Network_Data).\n",
    "```\n",
    "\n",
    "## Origen\n",
    "\n",
    "### ¿Cómo surgen los grafos? \n",
    "\n",
    "El estudio de los problemas de grafos se conoce como *teoría de grafos*. La teoría de grafos fue fundada por Leonhard Euler en 1736, cuando introdujo la terminología de los grafos para resolver el famoso problema de los Siete Puentes de Königsberg. La ciudad de Königsberg, en Prusia (actualmente Kaliningrado, Rusia), estaba dividida por el río Pregel. En el río había dos islas. La ciudad y las islas estaban conectadas por siete puentes, como se muestra en la Figura 28.2a. La pregunta es: ¿se puede dar un paseo, cruzar cada puente exactamente una vez y volver al punto de partida? Euler demostró que no es posible.\n",
    "\n",
    "(Konigsberg)=\n",
    "```{figure} ../../images/Figure28.2.png\n",
    "---\n",
    "width: 100%\n",
    "name: Figure28.2\n",
    "---\n",
    "El problema de los siete puentes de Königsberg.\n",
    "```\n",
    "### Solución al problema de Königsberg\n",
    "\n",
    "Para establecer una prueba, Euler primero abstrajo el plano de la ciudad de Königsberg eliminando todas las calles, produciendo el esquema que se muestra en la Figura 28.2a un punto, llamado vértice o nodo, y cada puente con una línea, llamada arista, como se muestra en la Figura 28.2b. Esta estructura con vértices y aristas se denomina grafo.\n",
    "\n",
    "<p align=\"center\">\n",
    "<iframe width=\"80%\" height=\"350px\" src=\"https://www.youtube.com/embed/nZwSo4vfw6c?si=pU82FAffPZWExk_k\" title=\"YouTube video player\" frameborder=\"0\" allow=\"accelerometer; autoplay; clipboard-write; encrypted-media; gyroscope; picture-in-picture; web-share\" referrerpolicy=\"strict-origin-when-cross-origin\" allowfullscreen></iframe>\n",
    "</p>\n",
    "\n",
    "(visualizacion_grafos)=\n",
    "## Visualización\n",
    "\n",
    "Herramientas para visualizar los grafos: \n",
    "\n",
    "- [Graph Online](https://graphonline.ru/en/)\n",
    "- [Graph Learning Tool eBook](https://liveexample.pearsoncmg.com/dsanimation/GraphLearningTooleBook.html)\n",
    "- [Weighted GraphLearning Tool eBook](http://liveexample.pearsoncmg.com/dsanimation/WeightedGraphLearningTooleBook.html)\n",
    "- [Graph Editor - CS Academy](https://csacademy.com/app/graph_editor/)\n",
    "- Clase `GraphView.java` del libro guía {cite}`ydaniel`, Listing 28.6.\n",
    "  \n",
    "\n",
    "## Aplicaciones\n",
    "\n",
    "Los grafos se utilizan en muchos campos, incluyendo:\n",
    "\n",
    "- **Redes de comunicación**: Modelan redes de computadoras o Internet.\n",
    "- **Mapas y rutas**: Representan conexiones entre ubicaciones.\n",
    "- **Redes sociales**: Modelan relaciones entre personas.\n",
    "- **Inteligencia artificial**: Representan grafos de búsqueda en IA.\n",
    "- **Sistemas de recomendaciones**: Modelan preferencias de usuario y relaciones entre productos.\n"
   ]
  },
  {
   "cell_type": "markdown",
   "metadata": {},
   "source": [
    "## Recursos Adicionales\n",
    "\n",
    "### Tutoriales\n",
    "\n",
    "-  [5.1 Graph Traversals - BFS & DFS -Breadth First Search and Depth First Search ](https://www.youtube.com/watch?v=pcKY4hjDrxk)\n",
    "- 'Graph and its representations' - [GeeksforGeeks](https://www.geeksforgeeks.org/graph-and-its-representations/)\n",
    "\n",
    "### Videos\n",
    "\n",
    "- [Algorithms: Graph Search, DFS and BFS ](https://www.youtube.com/watch?v=zaBhtODEL0w)\n",
    "- [5.1 Graph Traversals - BFS & DFS -Breadth First Search and Depth First Search ](https://www.youtube.com/watch?v=pcKY4hjDrxk)"
   ]
  }
 ],
 "metadata": {
  "kernelspec": {
   "display_name": "Java",
   "language": "java",
   "name": "java"
  },
  "language_info": {
   "codemirror_mode": "java",
   "file_extension": ".jshell",
   "mimetype": "text/x-java-source",
   "name": "Java",
   "pygments_lexer": "java",
   "version": "21.0.4+7-Ubuntu-1ubuntu224.04"
  }
 },
 "nbformat": 4,
 "nbformat_minor": 2
}
