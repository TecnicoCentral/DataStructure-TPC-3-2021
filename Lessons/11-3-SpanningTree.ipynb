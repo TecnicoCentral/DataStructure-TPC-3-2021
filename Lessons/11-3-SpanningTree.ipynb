{
 "cells": [
  {
   "cell_type": "markdown",
   "metadata": {},
   "source": [
    "# Árboles de Expansión Mínima (MST)\n",
    "\n",
    ">Un árbol de expansión mínima de un grafo es un árbol de expansión con los pesos totales mínimos.\n",
    "\n",
    ":::{figure} ../../images/Figure29.5.png\n",
    "---\n",
    "width: 90%\n",
    "name: SPT\n",
    "---\n",
    "Ejemplos de árboles de expansión mínima para el árbol de la Figura (a).\n",
    ":::"
   ]
  },
  {
   "cell_type": "code",
   "execution_count": null,
   "metadata": {},
   "outputs": [],
   "source": [
    "// TestMinimumSpanningTree.java"
   ]
  },
  {
   "cell_type": "code",
   "execution_count": null,
   "metadata": {},
   "outputs": [],
   "source": []
  },
  {
   "cell_type": "markdown",
   "metadata": {},
   "source": [
    "## Recorridos\n",
    "\n",
    "### Algoritmo del MST de Prim\n",
    "\n",
    "```{prf:algorithm} Prim's Minimum Spanning Tree\n",
    ":label: prim\n",
    "\n",
    "**Entrada**: Un $G = (V, E)$ ponderado no dirigido conectado con pesos no negativos.\n",
    "\n",
    "**Salida**: MST (un árbol de mínima extensión con el vértice $s$ como raíz)\n",
    "\n",
    ":::{code}\n",
    "MST getMinimumSpanningTree(s) {\n",
    "      Sea $T$ un conjunto para los vértices del árbol de expansión;\n",
    "      Inicialmente, añade el vértice inicial, $s$, a $T$;\n",
    "\n",
    "      While (size of T < n) {\n",
    "            Encuentra x en T e y en V-T con el menor peso en la arista (x, y).\n",
    "            Añade y a T y establece padre[y] = x;\n",
    "      }\n",
    " }\n",
    ":::\n",
    "```\n",
    "\n",
    "\n",
    ":::{figure} ../../images/Figure29.7.png\n",
    "---\n",
    "width: 80%\n",
    "name: Figure29.7\n",
    "---\n",
    ":::\n",
    "\n",
    "#### Implementación\n",
    "\n",
    ":::{figure} ../../images/Figure29.8.png\n",
    "---\n",
    "width: 90%\n",
    "name: Figure29.8\n",
    "---\n",
    ":::"
   ]
  },
  {
   "cell_type": "code",
   "execution_count": null,
   "metadata": {},
   "outputs": [],
   "source": [
    "// TestMinimumSpanningTree.java"
   ]
  },
  {
   "cell_type": "markdown",
   "metadata": {},
   "source": [
    "#### Ejemplo\n",
    "\n",
    ":::{figure} ../../images/Figure29.9.png\n",
    "---\n",
    "width: 100%\n",
    "name: Figure29.9\n",
    "---\n",
    ":::"
   ]
  },
  {
   "cell_type": "markdown",
   "metadata": {},
   "source": [
    "## Encontrar el camino más corto\n",
    "\n",
    ">El camino más corto entre dos vértices es un camino con los pesos totales mínimos.\n",
    "\n",
    "### El camino más corto de Dijkstra\n",
    "\n",
    "\n",
    "```{prf:algorithm} Dijkstra's Single-Source Shortest-Path\n",
    ":label: my-algorithm\n",
    "\n",
    "**Entradas** Dada una red $G=(V,E)$ con capacidad de flujo $c$, un nodo origen $s$, y un nodo sumidero $t$.\n",
    "\n",
    "**Salida** Calcular un flujo $f$ de $s$ a $t$ de valor máximo\n",
    "\n",
    ":::{code}\n",
    "ShortestPathTree getShortestPath(s) {\n",
    "    Sea $T$ un conjunto que contiene los vértices cuyos \n",
    "      caminos a s son conocidos; Inicialmente T está vacío;\n",
    "    Establecer $costs[s] = 0$; y $costs[v]$ = infinito$ \n",
    "      para todos los demás vértices en $V$;\n",
    "    \n",
    "    While (size of T < n) {\n",
    "        Encuentra u que no esté en T con el menor costs[u];\n",
    "        Añade u a T;\n",
    "        for (each v not in T and (u, v) in E)\n",
    "        if (cost[v] > cost[u] + w(u, v)) {\n",
    "          cost[v] = cost[u] + w(u, v); parent[v] = u;\n",
    "        }\n",
    "    }\n",
    "}\n",
    ":::\n",
    "```\n",
    "\n",
    "<div align=\"center\">\n",
    "  <iframe src=\"https://docs.google.com/presentation/d/e/2PACX-1vSotS2hKv-kVCjcC28UkqQ6AhESRohKA4B6FKMSFMkGYTN4VXO22PAL2fTuxWVRjNIZvhjFKcnabYSc/embed?start=false&loop=false&delayms=3000\" frameborder=\"0\" width=\"100%\" height=\"420px\" allowfullscreen=\"true\" mozallowfullscreen=\"true\" webkitallowfullscreen=\"true\"></iframe>\n",
    "</div>\n",
    "\n",
    "#### Implementación\n",
    "\n",
    ":::{figure} ../../images/Figure29.19.png\n",
    "---\n",
    "width: 90%\n",
    "name: Figure29.19\n",
    "---\n",
    ":::"
   ]
  },
  {
   "cell_type": "code",
   "execution_count": null,
   "metadata": {},
   "outputs": [],
   "source": [
    "// TestShortestPath.java"
   ]
  },
  {
   "cell_type": "markdown",
   "metadata": {},
   "source": [
    "#### Ejemplo\n",
    "\n",
    ":::{figure} ../../images/Figure29.20.png\n",
    "---\n",
    "width: 100%\n",
    "name: Figure29.20\n",
    "---\n",
    ":::"
   ]
  }
 ],
 "metadata": {
  "kernelspec": {
   "display_name": "Java",
   "language": "java",
   "name": "java"
  },
  "language_info": {
   "name": "java"
  }
 },
 "nbformat": 4,
 "nbformat_minor": 2
}
