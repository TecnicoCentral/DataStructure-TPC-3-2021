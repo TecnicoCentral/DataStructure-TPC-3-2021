{
 "cells": [
  {
   "cell_type": "markdown",
   "metadata": {
    "vscode": {
     "languageId": "plaintext"
    }
   },
   "source": [
    "# Ponderados\n",
    "\n",
    "## Introducción\n",
    "\n",
    "Los grafos ponderados son una extensión de los grafos clásicos en los que las aristas (o conexiones) tienen un peso asociado. Este peso puede representar costos, distancias, capacidades u otros valores que cuantifican la relación entre dos nodos. Los grafos ponderados son ampliamente utilizados en problemas de optimización y simulación en diversas áreas como redes, logística y análisis de datos.\n",
    "\n",
    "En esta clase exploraremos los conceptos fundamentales de los grafos ponderados, sus tipos, aplicaciones y cómo implementarlos en Java, proporcionando ejemplos prácticos que faciliten su comprensión.\n",
    "\n",
    "## Objetivos\n",
    "\n",
    "- Comprender qué son los grafos ponderados y sus características principales.  \n",
    "- Identificar los tipos de grafos ponderados y sus aplicaciones prácticas.  \n",
    "- Implementar grafos ponderados en Java, utilizando estructuras de datos adecuadas.  \n",
    "- Resolver problemas utilizando algoritmos relacionados con grafos ponderados.  "
   ]
  },
  {
   "cell_type": "markdown",
   "metadata": {},
   "source": [
    "## Ejemplos \n",
    "\n",
    "(ejemplos_pesados)=\n",
    "### Grafo Sencillo\n",
    "\n",
    "```{figure} ../../images/Figure29.3.png\n",
    "---\n",
    "width: 80%\n",
    "name: Figure29.3\n",
    "---\n",
    "Ejemplo simple de un grafo con 4 vértices.\n",
    "```\n",
    "(ejemplos_pesados_EEUU)=\n",
    "### Estados Unidos\n",
    "\n",
    "```{figure} ../../images/Figure29.1.png\n",
    "---\n",
    "width: 90%\n",
    "name: Figure29.1\n",
    "---\n",
    "Vuelos entre ciudades de EEUU. Los pesos son las distancias entre las ciudades.\n",
    "```\n",
    "\n",
    "(ejemplos_pesados_col)=\n",
    "### Colombia\n",
    "\n",
    "```{figure} ../../images/ciudades_con_pesos.png\n",
    "---\n",
    "width: 80%\n",
    "name: graphs_example\n",
    "---\n",
    "Ejemplo de grafo ponderado para representar vuelos entre ciudades de Colombia. Los pesos son los precios de los vuelos. \n",
    "```\n",
    "\n",
    "## Representación\n",
    "\n",
    "### Aristas y Vertices"
   ]
  },
  {
   "cell_type": "code",
   "execution_count": 2,
   "metadata": {
    "vscode": {
     "languageId": "java"
    }
   },
   "outputs": [],
   "source": [
    "// Ejemplo sencillo\n",
    "String[] vertices_figure;\n",
    "int[][] edges_figure;"
   ]
  },
  {
   "cell_type": "code",
   "execution_count": null,
   "metadata": {
    "vscode": {
     "languageId": "java"
    }
   },
   "outputs": [],
   "source": [
    "// Ejemplo mapa de EEUU\n",
    "String[] vertices_USA;\n",
    "int[][] edges_weighted_USA; "
   ]
  },
  {
   "cell_type": "code",
   "execution_count": null,
   "metadata": {
    "vscode": {
     "languageId": "java"
    }
   },
   "outputs": [],
   "source": [
    "// Ejemplo mapa de Colombia\n",
    "String[] vertices_COL;\n",
    "int[][] edges_weighted_COL; "
   ]
  },
  {
   "cell_type": "markdown",
   "metadata": {},
   "source": [
    "### Matriz Adyacente\n",
    "\n",
    "```{list-table} Matriz adyacente para el grafo del [mapa de EEUU](ejemplos_pesados_EEUU).\n",
    ":header-rows: 1\n",
    ":name: matriz_adyacente_EEUU\n",
    ":width: 70%\n",
    "* - \n",
    "  - 0\n",
    "  - 1\n",
    "  - 2\n",
    "  - 3\n",
    "  - 4\n",
    "* - 0\n",
    "  - null\n",
    "  - 2\n",
    "  - null\n",
    "  - 8\n",
    "  - null\n",
    "* - 1\n",
    "  - 2\n",
    "  - null\n",
    "  - 7\n",
    "  - 3\n",
    "  - null\n",
    "* - 2\n",
    "  - null\n",
    "  - 7\n",
    "  - null\n",
    "  - 4\n",
    "  - 5\n",
    "* - 3\n",
    "  - 8\n",
    "  - 3\n",
    "  - 4\n",
    "  - null\n",
    "  - 6\n",
    "* - 4\n",
    "  - null\n",
    "  - null\n",
    "  - 5\n",
    "  - 6\n",
    "  - null\n",
    "```\n"
   ]
  },
  {
   "cell_type": "code",
   "execution_count": null,
   "metadata": {
    "vscode": {
     "languageId": "java"
    }
   },
   "outputs": [],
   "source": [
    "// Implementar la matriz adyacente"
   ]
  },
  {
   "cell_type": "markdown",
   "metadata": {},
   "source": [
    "### Lista de Vecinos\n",
    "\n",
    "```{figure} ../../images/listas_weighted.png\n",
    "---\n",
    "width: 100%\n",
    "name: listas_weighted\n",
    "---\n",
    "\n",
    "```"
   ]
  },
  {
   "cell_type": "code",
   "execution_count": null,
   "metadata": {
    "vscode": {
     "languageId": "java"
    }
   },
   "outputs": [],
   "source": [
    "// WeightedEdge.java"
   ]
  },
  {
   "cell_type": "markdown",
   "metadata": {},
   "source": [
    "## Implementación en Java\n",
    "\n",
    "### Diagrama UML de Clases\n",
    "```{figure} ../../images/Figure29.4.png\n",
    "---\n",
    "width: 100%\n",
    "name: Figure29.4\n",
    "---\n",
    "Diagrama de clases para la clase `WeightedGraph`.\n",
    "```\n",
    "\n",
    "### Clase `WeightedGraph`"
   ]
  },
  {
   "cell_type": "code",
   "execution_count": null,
   "metadata": {
    "vscode": {
     "languageId": "java"
    }
   },
   "outputs": [],
   "source": [
    "// WeightedEdge.java"
   ]
  },
  {
   "cell_type": "code",
   "execution_count": null,
   "metadata": {
    "vscode": {
     "languageId": "java"
    }
   },
   "outputs": [],
   "source": [
    "// WeightedGraph.java"
   ]
  },
  {
   "cell_type": "code",
   "execution_count": null,
   "metadata": {
    "vscode": {
     "languageId": "java"
    }
   },
   "outputs": [],
   "source": [
    "// TestWeightedGraph.java"
   ]
  },
  {
   "cell_type": "markdown",
   "metadata": {},
   "source": [
    "## Ejercicio\n",
    "\n",
    "::::{admonition} Taller\n",
    "Implementar todos los grafos de la sección de [ejemplos](ejemplos_pesados). Además, crear los diagramas de los árboles utilizando cualquier herramienta de la sección de [Visualización](visualizacion_grafos).\n",
    "::::\n",
    "\n",
    "## Conclusiones\n",
    "\n",
    "Los grafos ponderados son una herramienta poderosa para modelar problemas complejos que involucran relaciones cuantitativas entre entidades. Comprender su estructura y funcionamiento es esencial para resolver problemas en campos como logística, redes y análisis de datos. Su implementación en Java permite aprovechar estructuras de datos eficientes y algoritmos especializados para optimización y análisis.\n",
    "\n",
    "\n",
    "## Recursos Adicionales\n",
    "\n",
    "- [What is Weighted Graph with Applications, Advantages and Disadvantages](https://www.geeksforgeeks.org/applications-advantages-and-disadvantages-of-weighted-graph/)\n",
    "- [Basic definitions and examples](https://hyperskill.org/learn/step/5645)\n",
    "- [Weighted Graphs - Data Structures & Algorithms](https://courses.cs.vt.edu/~cs3114/Fall10/Notes/T22.WeightedGraphs.pdf)"
   ]
  }
 ],
 "metadata": {
  "kernelspec": {
   "display_name": "Java",
   "language": "java",
   "name": "java"
  },
  "language_info": {
   "codemirror_mode": "java",
   "file_extension": ".jshell",
   "mimetype": "text/x-java-source",
   "name": "Java",
   "pygments_lexer": "java",
   "version": "23.0.1+11-39"
  }
 },
 "nbformat": 4,
 "nbformat_minor": 2
}
