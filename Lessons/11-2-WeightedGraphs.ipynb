{
 "cells": [
  {
   "cell_type": "markdown",
   "metadata": {
    "vscode": {
     "languageId": "plaintext"
    }
   },
   "source": [
    "# Ponderados\n",
    "\n",
    "## Introducción\n",
    "\n",
    "Los grafos ponderados son una extensión de los grafos clásicos en los que las aristas (o conexiones) tienen un peso asociado. Este peso puede representar costos, distancias, capacidades u otros valores que cuantifican la relación entre dos nodos. Los grafos ponderados son ampliamente utilizados en problemas de optimización y simulación en diversas áreas como redes, logística y análisis de datos.\n",
    "\n",
    "En esta clase exploraremos los conceptos fundamentales de los grafos ponderados, sus tipos, aplicaciones y cómo implementarlos en Java, proporcionando ejemplos prácticos que faciliten su comprensión.\n",
    "\n",
    "## Objetivos\n",
    "\n",
    "- Comprender qué son los grafos ponderados y sus características principales.  \n",
    "- Identificar los tipos de grafos ponderados y sus aplicaciones prácticas.  \n",
    "- Implementar grafos ponderados en Java, utilizando estructuras de datos adecuadas.  \n",
    "- Resolver problemas utilizando algoritmos relacionados con grafos ponderados.  "
   ]
  },
  {
   "cell_type": "markdown",
   "metadata": {},
   "source": [
    "## Ejemplos \n",
    "\n",
    "(ejemplos_pesados)=\n",
    "### Grafo Sencillo\n",
    "\n",
    "```{figure} ../../images/Figure29.3.png\n",
    "---\n",
    "width: 80%\n",
    "name: Figure29.3\n",
    "---\n",
    "Ejemplo simple de un grafo con 4 vértices.\n",
    "```\n",
    "\n",
    "### Estados Unidos\n",
    "\n",
    "```{figure} ../../images/Figure29.1.png\n",
    "---\n",
    "width: 90%\n",
    "name: Figure29.1\n",
    "---\n",
    "Vuelos entre ciudades de EEUU. Los pesos son las distancias entre las ciudades.\n",
    "```\n",
    "\n",
    "(ejemplos_pesados_col)=\n",
    "### Colombia\n",
    "\n",
    "```{figure} ../../images/ciudades_con_pesos.png\n",
    "---\n",
    "width: 80%\n",
    "name: graphs_example\n",
    "---\n",
    "Ejemplo de grafo ponderado para representar vuelos entre ciudades de Colombia. Los pesos son los precios de los vuelos. \n",
    "```\n",
    "\n",
    "## Visualización\n",
    "\n",
    "Herramientas para dibujar grafos ponderados:\n",
    "\n",
    "- [http://liveexample.pearsoncmg.com/dsanimation/WeightedGraphLearningTooleBook.html](http://liveexample.pearsoncmg.com/dsanimation/WeightedGraphLearningTooleBook.html)\n",
    "- [https://graphonline.ru/en/](https://graphonline.ru/en/)\n",
    "\n",
    "## Representación\n",
    "\n",
    "### Aristas y Vertices"
   ]
  },
  {
   "cell_type": "code",
   "execution_count": null,
   "metadata": {},
   "outputs": [],
   "source": [
    "// Ejemplo sencillo\n",
    "int[][] edges_figure = {\n",
    "    {0, 1, 2}, {0, 3, 8},\n",
    "    {1, 0, 2}, {1, 2, 7}, {1, 3, 3},\n",
    "    {2, 1, 7}, {2, 3, 4}, {2, 4, 5},\n",
    "    {3, 0, 8}, {3, 1, 3}, {3, 2, 4}, {3, 4, 6},\n",
    "    {4, 2, 5}, {4, 3, 6}\n",
    "};\n",
    "\n",
    "String[] vertices_figure = {\"V0\", \"V1\", \"V2\", \"V3\", \"V4\"};"
   ]
  },
  {
   "cell_type": "code",
   "execution_count": null,
   "metadata": {},
   "outputs": [],
   "source": [
    "// Ejemplo mapa de EEUU\n",
    "String[] vertices = {\"Seattle\", \"San Francisco\", \"Los Angeles\", \"Denver\", \"Kansas City\", \n",
    "                     \"Chicago\", \"Boston\", \"New York\", \"Atlanta\", \"Miami\", \"Dallas\", \"Houston\"};\n",
    "int[][] edges_weighted = {\n",
    "    {0, 1, 807}, {0, 3, 1331}, {0, 5, 2097},\n",
    "    {1, 0, 807}, {1, 2, 381}, {1, 3, 1267},\n",
    "    {2, 1, 381}, {2, 3, 1015}, {2, 4, 1663}, {2, 10, 1435},\n",
    "    {3, 0, 1331}, {3, 1, 1267}, {3, 2, 1015}, {3, 4, 599},\n",
    "    {3, 5, 1003},\n",
    "    {4, 2, 1663}, {4, 3, 599}, {4, 5, 533}, {4, 7, 1260},\n",
    "    {4, 8, 864}, {4, 10, 496},\n",
    "    {5, 0, 2097}, {5, 3, 1003}, {5, 4, 533},\n",
    "    {5, 6, 983}, {5, 7, 787},\n",
    "    {6, 5, 983}, {6, 7, 214},\n",
    "    {7, 4, 1260}, {7, 5, 787}, {7, 6, 214}, {7, 8, 888},\n",
    "    {8, 4, 864}, {8, 7, 888}, {8, 9, 661},\n",
    "    {8, 10, 781}, {8, 11, 810},\n",
    "    {9, 8, 661}, {9, 11, 1187},\n",
    "    {10, 2, 1435}, {10, 4, 496}, {10, 8, 781}, {10, 11, 239},\n",
    "    {11, 8, 810}, {11, 9, 1187}, {11, 10, 239}\n",
    "};"
   ]
  },
  {
   "cell_type": "markdown",
   "metadata": {},
   "source": [
    "### Matriz Adyacente\n",
    "\n",
    "|   | 0    | 1    | 2    | 3    | 4    |\n",
    "|---|------|------|------|------|------|\n",
    "| 0 | null | 2    | null | 8    | null |\n",
    "| 1 | 2    | null | 7    | 3    | null |\n",
    "| 2 | null | 7    | null | 4    | 5    |\n",
    "| 3 | 8    | 3    | 4    | null | 6    |\n",
    "| 4 | null | null | 5    | 6    | null |"
   ]
  },
  {
   "cell_type": "code",
   "execution_count": null,
   "metadata": {},
   "outputs": [],
   "source": [
    "Integer[][] adjacencyMatrix_figure = {\n",
    "  {null, 2, null, 8, null},\n",
    "  {2, null, 7, 3, null},\n",
    "  {null, 7, null, 4, 5},\n",
    "  {8, 3, 4, null, 6},\n",
    "  {null, null, 5, 6, null}\n",
    "  };"
   ]
  },
  {
   "cell_type": "markdown",
   "metadata": {},
   "source": [
    "### Lista de Vecinos\n",
    "\n",
    "```{figure} ../../images/listas_weighted.png\n",
    "---\n",
    "width: 100%\n",
    "name: listas_weighted\n",
    "---\n",
    "\n",
    "```\n",
    "\n",
    "## Implementación en Java\n",
    "\n",
    "### Diagrama UML de Clases\n",
    "```{figure} ../../images/Figure29.4.png\n",
    "---\n",
    "width: 100%\n",
    "name: Figure29.4\n",
    "---\n",
    "Diagrama de clases para la clase `WeightedGraph`.\n",
    "```\n",
    "\n",
    "### Clase `WeightedGraph`"
   ]
  },
  {
   "cell_type": "code",
   "execution_count": null,
   "metadata": {},
   "outputs": [],
   "source": [
    "// WeightedEdge.java"
   ]
  },
  {
   "cell_type": "code",
   "execution_count": null,
   "metadata": {},
   "outputs": [],
   "source": [
    "// WeightedGraph.java"
   ]
  },
  {
   "cell_type": "code",
   "execution_count": null,
   "metadata": {},
   "outputs": [],
   "source": [
    "// TestWeightedGraph.java"
   ]
  },
  {
   "cell_type": "markdown",
   "metadata": {},
   "source": [
    "## Ejercicio\n",
    "\n",
    "::::{admonition} Taller\n",
    "Implementar todos los grafos de la sección de [ejemplos](ejemplos_pesados). Además, crear los diagramas de los árboles utilizando cualquier herramienta de la sección de [Visualización](visualizacion_grafos).\n",
    "::::\n",
    "\n",
    "## Conclusiones\n",
    "\n",
    "Los grafos ponderados son una herramienta poderosa para modelar problemas complejos que involucran relaciones cuantitativas entre entidades. Comprender su estructura y funcionamiento es esencial para resolver problemas en campos como logística, redes y análisis de datos. Su implementación en Java permite aprovechar estructuras de datos eficientes y algoritmos especializados para optimización y análisis.\n",
    "\n",
    "\n",
    "## Recursos Adicionales\n",
    "\n",
    "- [What is Weighted Graph with Applications, Advantages and Disadvantages](https://www.geeksforgeeks.org/applications-advantages-and-disadvantages-of-weighted-graph/)\n",
    "- [Basic definitions and examples](https://hyperskill.org/learn/step/5645)\n",
    "- [Weighted Graphs - Data Structures & Algorithms](https://courses.cs.vt.edu/~cs3114/Fall10/Notes/T22.WeightedGraphs.pdf)"
   ]
  }
 ],
 "metadata": {
  "kernelspec": {
   "display_name": "Java",
   "language": "java",
   "name": "java"
  },
  "language_info": {
   "codemirror_mode": "java",
   "file_extension": ".jshell",
   "mimetype": "text/x-java-source",
   "name": "java",
   "pygments_lexer": "java",
   "version": "21.0.4+7-Ubuntu-1ubuntu224.04"
  }
 },
 "nbformat": 4,
 "nbformat_minor": 2
}
