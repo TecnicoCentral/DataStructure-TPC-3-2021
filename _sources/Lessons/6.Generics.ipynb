{
 "cells": [
  {
   "cell_type": "markdown",
   "metadata": {},
   "source": [
    "# Genéricos\n",
    "\n",
    "## Clases e Iterfaces Genéricas\n",
    "\n",
    ">Los genéricos permiten detectar errores en tiempo de compilación en lugar de en tiempo de ejecución.\n",
    "\n",
    "Los **genéricos** permiten definir clases, interfaces y métodos que funcionen con cualquier tipo de dato (primitivo o complejo) sin perder la seguridad de tipos en tiempo de compilación. Esto mejora la reutilización de código y evita el uso excesivo de conversiones de tipo (`casting`).\n",
    "\n",
    "```{figure} ../../images/Figure19.3.png\n",
    "---\n",
    "width: 90%\n",
    "name: Figure19.3\n",
    "---\n",
    "Here is my figure caption!\n",
    "```\n",
    "\n",
    "Ejemplo de genérico en una clase:"
   ]
  },
  {
   "cell_type": "code",
   "execution_count": null,
   "metadata": {},
   "outputs": [],
   "source": [
    "public class Caja<T> {\n",
    "  private T objeto;\n",
    "\n",
    "  public void setObjeto(T objeto) {\n",
    "      this.objeto = objeto;\n",
    "  }\n",
    "\n",
    "  public T getObjeto() {\n",
    "      return objeto;\n",
    "  }\n",
    "\n",
    "  public static void main(String[] args) {\n",
    "      Caja<String> caja1 = new Caja<>();\n",
    "      caja1.setObjeto(\"Hola Mundo\");\n",
    "      System.out.println(caja1.getObjeto());\n",
    "\n",
    "      Caja<Integer> caja2 = new Caja<>();\n",
    "      caja2.setObjeto(123);\n",
    "      System.out.println(caja2.getObjeto());\n",
    "  }\n",
    "}"
   ]
  },
  {
   "cell_type": "markdown",
   "metadata": {},
   "source": [
    "En este ejemplo, `Caja` es una clase genérica que puede almacenar cualquier tipo de objeto, ya sea un `String` o un `Integer`.\n",
    "\n",
    "Aquí, <T> representa un tipo genérico formal, que puede ser sustituido más tarde por un tipo concreto real. La sustitución de un tipo genérico se denomina instanciación genérica. Por convención, una sola mayúscula, como E o T, para denotar un tipo genérico formal."
   ]
  },
  {
   "cell_type": "code",
   "execution_count": 2,
   "metadata": {},
   "outputs": [],
   "source": [
    "// Probar los códigos aquí"
   ]
  },
  {
   "cell_type": "markdown",
   "metadata": {},
   "source": [
    "**Ejemplo clase stack genérica:**\n",
    "\n",
    "Un tipo genérico puede definirse para una clase o una interfaz. Se debe especificar un tipo concreto cuando se utiliza la clase para crear un objeto o cuando se utiliza la clase o la interfaz para declarar una variable de referencia.\n",
    "\n",
    "```{figure} ../../images/Figure19.4.png\n",
    "---\n",
    "width: 90%\n",
    "name: Figure19.4\n",
    "---\n",
    "Here is my figure caption!\n",
    "```"
   ]
  },
  {
   "cell_type": "code",
   "execution_count": 3,
   "metadata": {},
   "outputs": [],
   "source": [
    "import java.util.ArrayList;\n",
    "public class GenericStack<E> {\n",
    "  private ArrayList<E> list = new ArrayList<>();\n",
    "  \n",
    "  public int getSize() {\n",
    "    return list.size();\n",
    "  } //getSize\n",
    "  \n",
    "  public E peek() {\n",
    "    return list.get(getSize() - 1);\n",
    "  } //peek\n",
    "  public void push(E o) {\n",
    "    list.add(o);\n",
    "  } //push\n",
    "  public E pop() {\n",
    "    E o = list.get(getSize() - 1);\n",
    "    list.remove(getSize() - 1);\n",
    "    return o;\n",
    "  } //pop\n",
    "  public boolean isEmpty() {\n",
    "    return list.isEmpty();\n",
    "  } //isEmpty\n",
    "  @Override\n",
    "  public String toString() {\n",
    "    return \"stack: \" + list.toString();\n",
    "  }\n",
    "}"
   ]
  },
  {
   "cell_type": "code",
   "execution_count": 4,
   "metadata": {},
   "outputs": [],
   "source": [
    "// Probar código aquí"
   ]
  },
  {
   "cell_type": "markdown",
   "metadata": {},
   "source": [
    "Los constructores no llevan el tipo de dato, esta mal escribir `new Stack<E>()`, solamente basta con definirlo `new Stack<>()`."
   ]
  },
  {
   "cell_type": "markdown",
   "metadata": {},
   "source": [
    "### Métodos Genéricos\n",
    "\n",
    "Se puede definir un tipo genérico para un método estático."
   ]
  },
  {
   "cell_type": "code",
   "execution_count": null,
   "metadata": {},
   "outputs": [],
   "source": [
    "public class GenericMethodDemo {\n",
    "  public static void main(String[] args ) {\n",
    "    Integer[] integers = {1, 2, 3, 4, 5};\n",
    "    String[] strings = {\"London\", \"Paris\", \"New York\", \"Austin\"};\n",
    "    GenericMethodDemo.<Integer>print(integers);\n",
    "    GenericMethodDemo.<String>print(strings);\n",
    "  }\n",
    "  public static <E> void print(E[] list) {\n",
    "    for (int i = 0; i < list.length; i++)\n",
    "    System.out.print(list[i] + \" \");\n",
    "    System.out.println();\n",
    "  }\n",
    "}"
   ]
  },
  {
   "cell_type": "code",
   "execution_count": 6,
   "metadata": {},
   "outputs": [],
   "source": [
    "// Probar código aquí"
   ]
  },
  {
   "cell_type": "markdown",
   "metadata": {},
   "source": [
    "## Conclusión\n",
    "El uso de genéricos, interfaces e iteradores es fundamental en la programación orientada a objetos en Java, permitiendo crear soluciones más flexibles, reutilizables y mantenibles. El patrón iterador, en particular, facilita la navegación por colecciones sin exponer su implementación interna. Estas herramientas son esenciales para gestionar la complejidad en programas más grandes y modulares.\n",
    "\n",
    "\n",
    "## Referencias\n",
    "\n",
    "### Libros\n",
    "\n",
    "- Y. Daniel Liang. \"*Introduction to Java Programming and Data Structures, Comprehensive Version*\". Addison Wesley. Edición 12 (2019).\n",
    "- Koffman, Elliot B.; Wolfgang, Paul A. T.\"*Data structures : abstraction and design using Java*\". Wiley. Tercera edición (2016).\n",
    "\n",
    "### Guias y Tutoriales\n",
    "\n",
    "- [Iterator - Refactoring Guru](https://refactoring.guru/design-patterns/iterator)"
   ]
  }
 ],
 "metadata": {
  "kernelspec": {
   "display_name": "Java",
   "language": "java",
   "name": "java"
  },
  "language_info": {
   "codemirror_mode": "java",
   "file_extension": ".jshell",
   "mimetype": "text/x-java-source",
   "name": "java",
   "pygments_lexer": "java",
   "version": "21.0.4+7-Ubuntu-1ubuntu224.04"
  }
 },
 "nbformat": 4,
 "nbformat_minor": 2
}
