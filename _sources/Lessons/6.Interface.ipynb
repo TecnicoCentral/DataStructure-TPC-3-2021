{
 "cells": [
  {
   "cell_type": "markdown",
   "metadata": {},
   "source": [
    "# Interfaces\n",
    "\n",
    "Una **interfaz** es un tipo de contrato que define métodos que una clase debe implementar. Las interfaces permiten a las clases que no están relacionadas heredar comportamientos comunes.\n",
    "\n",
    "Ejemplo de una interfaz en Java:"
   ]
  },
  {
   "cell_type": "code",
   "execution_count": null,
   "metadata": {},
   "outputs": [],
   "source": [
    "interface Volador {\n",
    "  void volar();\n",
    "}\n",
    "\n",
    "class Pajaro implements Volador {\n",
    "  public void volar() {\n",
    "      System.out.println(\"El pájaro está volando.\");\n",
    "  }\n",
    "}\n",
    "\n",
    "class Avion implements Volador {\n",
    "  public void volar() {\n",
    "      System.out.println(\"El avión está volando.\");\n",
    "  }\n",
    "}\n",
    "\n",
    "public class Main {\n",
    "  public static void main(String[] args) {\n",
    "      Volador pajaro = new Pajaro();\n",
    "      pajaro.volar();\n",
    "\n",
    "      Volador avion = new Avion();\n",
    "      avion.volar();\n",
    "  }\n",
    "}"
   ]
  },
  {
   "cell_type": "markdown",
   "metadata": {},
   "source": [
    "Aquí, tanto `Pajaro` como `Avion` implementan la interfaz `Volador`, asegurando que ambos tengan el comportamiento `volar()`."
   ]
  },
  {
   "cell_type": "code",
   "execution_count": 8,
   "metadata": {},
   "outputs": [],
   "source": [
    "// Probar los códigos aquí"
   ]
  },
  {
   "cell_type": "markdown",
   "metadata": {},
   "source": [
    "## Características en detalle:\n",
    "\n",
    "### Definición de métodos\n",
    "   - Las interfaces permiten declarar métodos sin proporcionar una implementación. Estos métodos son **abstractos** por defecto, aunque desde Java 8 también pueden contener **métodos predeterminados** (con implementación) y **métodos estáticos**.\n",
    "   - Las clases que implementan una interfaz están obligadas a proporcionar la implementación de estos métodos abstractos.\n",
    "   - Ejemplo de un método abstracto en una interfaz:\n"
   ]
  },
  {
   "cell_type": "code",
   "execution_count": null,
   "metadata": {},
   "outputs": [],
   "source": [
    "interface Animal {\n",
    "  void hacerSonido();  // método abstracto\n",
    "}"
   ]
  },
  {
   "cell_type": "markdown",
   "metadata": {},
   "source": [
    "### Métodos predeterminados (default)\n",
    "- Desde Java 8, las interfaces pueden contener métodos con una implementación usando la palabra clave `default`. Esto permite extender las interfaces sin romper las clases que las implementan.\n",
    "- Ejemplo:"
   ]
  },
  {
   "cell_type": "code",
   "execution_count": null,
   "metadata": {},
   "outputs": [],
   "source": [
    "interface Animal {\n",
    "  default void respirar() {\n",
    "      System.out.println(\"Este animal respira.\");\n",
    "  }\n",
    "  void hacerSonido();  // método abstracto\n",
    "}"
   ]
  },
  {
   "cell_type": "markdown",
   "metadata": {},
   "source": [
    "### Métodos estáticos\n",
    "   - También desde Java 8, las interfaces pueden definir métodos estáticos que pueden ser invocados sin necesidad de una instancia de la interfaz.\n",
    "   - Ejemplo:"
   ]
  },
  {
   "cell_type": "code",
   "execution_count": null,
   "metadata": {},
   "outputs": [],
   "source": [
    "interface Animal {\n",
    "  static void informacionGeneral() {\n",
    "      System.out.println(\"Los animales son seres vivos.\");\n",
    "  }\n",
    "}\n",
    "\n",
    "public class Main {\n",
    "  public static void main(String[] args) {\n",
    "      Animal.informacionGeneral();  // llamada a método estático\n",
    "  }\n",
    "}"
   ]
  },
  {
   "cell_type": "markdown",
   "metadata": {},
   "source": [
    "### Atributos en una interfaz\n",
    "  - Los atributos en una interfaz son **siempre públicos, estáticos y finales** (`public static final`). Esto significa que son constantes que no pueden cambiar su valor una vez asignados.\n",
    "  - Ejemplo:\n",
    "    "
   ]
  },
  {
   "cell_type": "code",
   "execution_count": null,
   "metadata": {},
   "outputs": [],
   "source": [
    "interface Constantes {\n",
    "  int MAX_VELOCIDAD = 120;  // public static final automáticamente\n",
    "}"
   ]
  },
  {
   "cell_type": "markdown",
   "metadata": {},
   "source": [
    "### Herencia múltiple\n",
    "- Una clase en Java no puede heredar de más de una clase, pero puede implementar múltiples interfaces. Esto permite la simulación de herencia múltiple, proporcionando más flexibilidad en el diseño del código.\n",
    "- Ejemplo:"
   ]
  },
  {
   "cell_type": "code",
   "execution_count": null,
   "metadata": {},
   "outputs": [],
   "source": [
    "interface Volador {\n",
    "  void volar();\n",
    "}\n",
    "interface Nadador {\n",
    "  void nadar();\n",
    "}\n",
    "class Pato implements Volador, Nadador {\n",
    "  public void volar() {\n",
    "      System.out.println(\"El pato vuela.\");\n",
    "  }\n",
    "  public void nadar() {\n",
    "      System.out.println(\"El pato nada.\");\n",
    "  }\n",
    "}"
   ]
  },
  {
   "cell_type": "markdown",
   "metadata": {},
   "source": [
    "### No se pueden instanciar\n",
    "- Las interfaces **no pueden ser instanciadas** directamente. No es posible crear un objeto de una interfaz, ya que no tiene una implementación completa de sus métodos. Sin embargo, se puede hacer referencia a un objeto de una clase que implementa la interfaz.\n",
    "- Ejemplo:"
   ]
  },
  {
   "cell_type": "code",
   "execution_count": null,
   "metadata": {},
   "outputs": [],
   "source": [
    "interface Animal {\n",
    "  void hacerSonido();\n",
    "}\n",
    "\n",
    "class Perro implements Animal {\n",
    "  public void hacerSonido() {\n",
    "      System.out.println(\"Guau Guau\");\n",
    "  }\n",
    "}\n",
    "\n",
    "public class Main {\n",
    "  public static void main(String[] args) {\n",
    "      Animal perro = new Perro();  // una interfaz referenciando a su implementación\n",
    "      perro.hacerSonido();\n",
    "  }\n",
    "}"
   ]
  },
  {
   "cell_type": "markdown",
   "metadata": {},
   "source": [
    "### Polimorfismo\n",
    "   - Las interfaces permiten el uso del **polimorfismo**, lo que significa que una referencia de tipo interfaz puede apuntar a cualquier objeto de una clase que implemente dicha interfaz.\n",
    "   - Este es un aspecto crucial para diseñar sistemas extensibles y modulares.\n",
    "\n",
    "### Herencia en interfaces\n",
    "   - Las interfaces pueden heredar de otras interfaces. Esto permite extender el comportamiento de una interfaz base en una interfaz derivada.\n",
    "   - Ejemplo:"
   ]
  },
  {
   "cell_type": "code",
   "execution_count": null,
   "metadata": {},
   "outputs": [],
   "source": [
    "interface Volador {\n",
    "  void volar();\n",
    "}\n",
    "\n",
    "interface SuperVolador extends Volador {\n",
    "  void volarRapido();\n",
    "}"
   ]
  },
  {
   "cell_type": "markdown",
   "metadata": {},
   "source": [
    "### Interfaces funcionales\n",
    "- Una **interfaz funcional** es aquella que tiene un único método abstracto, lo que la hace apta para expresiones lambda y métodos de referencia. Estas se introdujeron como parte de Java 8 para facilitar el desarrollo funcional.\n",
    "- Ejemplo:\n",
    "    "
   ]
  },
  {
   "cell_type": "code",
   "execution_count": null,
   "metadata": {},
   "outputs": [],
   "source": [
    "@FunctionalInterface\n",
    "interface Operacion {\n",
    "    int calcular(int a, int b);\n",
    "}\n",
    "\n",
    "public class Main {\n",
    "    public static void main(String[] args) {\n",
    "        Operacion suma = (a, b) -> a + b;\n",
    "        System.out.println(suma.calcular(3, 5));\n",
    "    }\n",
    "}"
   ]
  },
  {
   "cell_type": "markdown",
   "metadata": {},
   "source": [
    "### Ventajas del uso de interfaces\n",
    "   - **Flexibilidad**: Las interfaces permiten definir múltiples comportamientos que pueden ser implementados por clases no relacionadas entre sí.\n",
    "   - **Desacoplamiento**: Al definir contratos (interfaces), el código se vuelve más desacoplado y modular. El desarrollo se puede realizar independientemente de la implementación concreta.\n",
    "   - **Mantenimiento**: Las interfaces ayudan a organizar el código y facilitan su mantenimiento, ya que permiten sustituir implementaciones sin alterar el contrato."
   ]
  },
  {
   "cell_type": "markdown",
   "metadata": {},
   "source": [
    "## Conclusión\n",
    "Las interfaces, por lo tanto, son un pilar clave para la programación orientada a objetos, ya que permiten abstracción, polimorfismo, herencia múltiple y un diseño flexible y escalable.\n",
    "\n",
    "## Referencias\n",
    "\n",
    "### Libros\n",
    "\n",
    "- Y. Daniel Liang. \"*Introduction to Java Programming and Data Structures, Comprehensive Version*\". Addison Wesley. Edición 12 (2019).\n",
    "- Koffman, Elliot B.; Wolfgang, Paul A. T.\"*Data structures : abstraction and design using Java*\". Wiley. Tercera edición (2016).\n"
   ]
  }
 ],
 "metadata": {
  "kernelspec": {
   "display_name": "Java",
   "language": "java",
   "name": "java"
  },
  "language_info": {
   "codemirror_mode": "java",
   "file_extension": ".jshell",
   "mimetype": "text/x-java-source",
   "name": "java",
   "pygments_lexer": "java",
   "version": "21.0.4+7-Ubuntu-1ubuntu224.04"
  }
 },
 "nbformat": 4,
 "nbformat_minor": 2
}
