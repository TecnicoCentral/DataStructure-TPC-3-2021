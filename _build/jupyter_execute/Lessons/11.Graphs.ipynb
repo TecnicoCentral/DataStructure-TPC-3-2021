{
 "cells": [
  {
   "cell_type": "markdown",
   "metadata": {
    "vscode": {
     "languageId": "plaintext"
    }
   },
   "source": [
    "# Grafos\n",
    "\n",
    "## Objetivos\n",
    "\n",
    "- Comprender la terminología básica de los grafos.\n",
    "- Aprender las diferentes formas de representación de grafos en programación.\n",
    "- Implementar grafos en Java utilizando diferentes representaciones.\n",
    "- Identificar aplicaciones prácticas de los grafos en problemas de la vida real.\n",
    "- Desarrollar habilidades para manipular y recorrer grafos.\n",
    "\n",
    "## Introducción\n",
    "\n",
    ">Muchos problemas del mundo real pueden resolverse mediante algoritmos gráficos.\n",
    "\n",
    "Los **grafos** son estructuras de datos fundamentales en ciencias de la computación que permiten modelar relaciones entre distintos elementos. Un grafo está compuesto por **nodos** (o vértices) y **aristas** (o enlaces), que conectan estos nodos. Los grafos son ampliamente utilizados en diversas aplicaciones, desde redes de transporte hasta algoritmos de redes sociales y análisis de redes.\n",
    "\n",
    "Esta clase abordará los conceptos básicos de grafos, su terminología, las formas de representarlos en programación, ejemplos de código en Java y aplicaciones comunes en el mundo real.\n",
    "\n",
    "Ejemplos de grafo sobre [algunas ciudades de Colombia](https://www.google.com/maps/d/edit?mid=1FNFiumugx3dB7IeZjcI3_rv1RnKpQpk&usp=sharing) y otras de USA.\n",
    "\n",
    "```{figure} ../../images/Figure28.1.png\n",
    "---\n",
    "width: 80%\n",
    "name: USA_states\n",
    "---\n",
    "Here is my figure caption!\n",
    "```\n",
    "\n",
    "```{figure} ../../images/graphs_example.png\n",
    "---\n",
    "width: 80%\n",
    "name: graphs_example\n",
    "---\n",
    "Un grafo puede utilizarse para representar vuelos entre ciudades.\n",
    "```\n",
    "\n",
    "Pero, ¿cómo surgen los grafos? El estudio de los problemas de grafos se conoce como *teoría de grafos*. La teoría de grafos fue fundada por Leonhard Euler en 1736, cuando introdujo la terminología de los grafos para resolver el famoso problema de los Siete Puentes de Königsberg. La ciudad de Königsberg, en Prusia (actualmente Kaliningrado, Rusia), estaba dividida por el río Pregel. En el río había dos islas. La ciudad y las islas estaban conectadas por siete puentes, como se muestra en la Figura 28.2a. La pregunta es: ¿se puede dar un paseo, cruzar cada puente exactamente una vez y volver al punto de partida? Euler demostró que no es posible.\n",
    "\n",
    "```{figure} ../../images/Figure28.2.png\n",
    "---\n",
    "width: 80%\n",
    "name: Figure28.2\n",
    "---\n",
    "Here is my figure caption!\n",
    "```\n",
    "\n",
    "Para establecer una prueba, Euler primero abstrajo el plano de la ciudad de Königsberg eliminando todas las calles, produciendo el esquema que se muestra en la Figura 28.2a un punto, llamado vértice o nodo, y cada puente con una línea, llamada arista, como se muestra en la Figura 28.2b. Esta estructura con vértices y aristas se denomina grafo.\n",
    "\n",
    "<div align=\"center\">\n",
    "\n",
    "[![Interpreted vs Compiled](https://img.youtube.com/vi/nZwSo4vfw6c/hqdefault.jpg)](https://www.youtube.com/watch?v=nZwSo4vfw6c)\n",
    "\n",
    "</div>"
   ]
  },
  {
   "cell_type": "markdown",
   "metadata": {},
   "source": [
    "## Terminología de Grafos\n",
    "\n",
    "1. **Vértices o Nodos**: Elementos individuales que componen el grafo.\n",
    "2. **Aristas o Enlaces**: Conexiones entre nodos.\n",
    "3. **Grafo Dirigido**: Un grafo donde las aristas tienen dirección.\n",
    "4. **Grafo No Dirigido**: Un grafo donde las aristas no tienen dirección, y la conexión es bidireccional.\n",
    "5. **Peso de Arista**: Un valor numérico asociado a una arista que puede representar distancia, costo, etc.\n",
    "6. **Camino**: Secuencia de nodos donde cada par consecutivo de nodos está conectado por una arista.\n",
    "7. **Ciclo**: Camino cerrado en el cual el nodo inicial y final son el mismo.\n",
    "8. **Conectividad**: Propiedad que indica si existe un camino entre cada par de nodos.\n",
    "9. **Grafo Completo**: Grafo en el cual todos los nodos están conectados entre sí.\n",
    "\n",
    "\n",
    "Dicho de otra forma. Un gráfico es una estructura matemática que representa relaciones entre entidades del mundo real. Por ejemplo, el grafo de la Figura 28.1 representa los vuelos entre ciudades, y el grafo de la Figura 28.2b representa los puentes entre masas de tierra. Un grafo está formado por un conjunto de **vértices** (también conocidos como nodos o puntos) y un conjunto de **aristas** que conectan los vértices. Por conveniencia, definimos un grafo como G = (V, E), donde V representa un conjunto de vértices y E representa un conjunto de aristas. Por ejemplo, V y E para el grafo de la figura 28.1 son los siguientes:\n",
    "\n",
    "```java\n",
    "V = {\"Seattle\", \"San Francisco\", \"Los Angeles\", \"Denver\", \"Kansas City\", \"Chicago\", \"Boston\", \"New York\",\n",
    "\"Atlanta\", \"Miami\", \"Dallas\", \"Houston\"};\n",
    "E = {{\"Seattle\", \"San Francisco\"},{\"Seattle\", \"Chicago\"}, {\"Seattle\", \"Denver\"}, {\"San Francisco\", \"Denver\"},\n",
    "...,\n",
    "};\n",
    "```\n",
    "\n",
    "\n",
    "Un grafo puede ser dirigido o no dirigido. En un grafo dirigido, cada arista tiene una dirección, lo que indica que puedes moverte de un vértice a otro a través de la arista. Las relaciones padre-hijo pueden modelarse mediante un grafo dirigido, en el que una arista del vértice A al B indica que A es padre de B.\n",
    "\n",
    "\n",
    "```{figure} ../../images/Figure28.3.png\n",
    "---\n",
    "width: 80%\n",
    "name: Figure28.3\n",
    "---\n",
    "Here is my figure caption!\n",
    "```\n",
    "\n",
    "\n",
    "Algunos conceptos adicionales:\n",
    "- Dos vértices de un grafo son *adyacentes* si están conectados por la misma arista.\n",
    "- Del mismo modo, dos aristas son *adyacentes* si están conectadas al mismo vértice. Una arista de un grafo que une dos vértices se dice que es incidente en ambos vértices. El *grado* de un vértice es el número de aristas que inciden en él.\n",
    "- Dos vértices son *vecinos* si son adyacentes. Del mismo modo, dos aristas son vecinas si son adyacentes.\n",
    "- Un *bucle* (loop) es una arista que une un vértice consigo misma. Si dos vértices están conectados por dos o más aristas, éstas se denominan *aristas paralelas*. Un *grafo simple* es aquel que no tiene bucles ni aristas paralelas. En un *grafo completo*, cada dos vértices son adyacentes, como se muestra en la Figura 28.3b.\n",
    "- Un grafo está *conectado* (también conocido como fuertemente conectado) si existe un camino entre cada dos vértices del grafo. Un grafo es *débilmente conectado* si es conectado cuando se considera que el grafo es no dirigido. Un *subgrafo* de un grafo G es un grafo cuyo conjunto de vértices es un subconjunto del de G y cuyo conjunto de aristas es un subconjunto del de G.\n",
    "- Supongamos que el grafo etá conectado y no dirigido. Un *ciclo* es un camino cerrado que parte de un vértice y termina en el mismo vértice. Un grafo conectado es un *árbol* si no tiene ciclos. Un *árbol de expansión* de un grafo G es un subgrafo conectado de G, y el subgrafo es un árbol que contiene todos los vértices de G.\n",
    "\n",
    "Páginas de ayuda para visualización de grafos: [https://liveexample.pearsoncmg.com/dsanimation/GraphLearningTooleBook.html](https://liveexample.pearsoncmg.com/dsanimation/GraphLearningTooleBook.html)\n",
    "\n",
    "## Representaciones de Grafos en Java\n",
    "\n",
    "Existen varias formas de representar grafos en programación. A continuación, se explican las representaciones más comunes:\n",
    "\n",
    "### 1. Matriz de Adyacencia\n",
    "\n",
    "Una matriz de adyacencia es una **matriz cuadrada** donde cada elemento indica si existe una arista entre dos nodos. \n",
    "\n",
    "Ejemplo de matriz de adyacencia en Java:"
   ]
  },
  {
   "cell_type": "code",
   "execution_count": 1,
   "metadata": {
    "vscode": {
     "languageId": "java"
    }
   },
   "outputs": [
    {
     "data": {
      "text/plain": [
       "1"
      ]
     },
     "execution_count": 1,
     "metadata": {},
     "output_type": "execute_result"
    }
   ],
   "source": [
    "int vertices = 4;\n",
    "int[][] grafo = new int[vertices][vertices];\n",
    "\n",
    "// Agregar aristas\n",
    "grafo[0][1] = 1;\n",
    "grafo[1][2] = 1;\n",
    "grafo[2][3] = 1;\n",
    "grafo[3][0] = 1;"
   ]
  },
  {
   "cell_type": "markdown",
   "metadata": {},
   "source": [
    "Ahora implementa el código de la matriz adyacente de la figure {numref}`graphs_example`, cambia los elementos del vector de Vertices por objetos de tipo ciudad."
   ]
  },
  {
   "cell_type": "code",
   "execution_count": 2,
   "metadata": {
    "vscode": {
     "languageId": "java"
    }
   },
   "outputs": [],
   "source": [
    "// Agrega aquí el código"
   ]
  },
  {
   "cell_type": "markdown",
   "metadata": {
    "vscode": {
     "languageId": "java"
    }
   },
   "source": [
    "### 2. Lista de Adyacencia\n",
    "\n",
    "Una lista de adyacencia es una estructura donde cada nodo tiene una lista de sus nodos adyacentes. Es más eficiente en términos de espacio para grafos dispersos.\n",
    "\n",
    "Ejemplo de lista de adyacencia en Java usando `ArrayList`:"
   ]
  },
  {
   "cell_type": "code",
   "execution_count": 3,
   "metadata": {
    "vscode": {
     "languageId": "java"
    }
   },
   "outputs": [],
   "source": [
    "import java.util.ArrayList;\n",
    "import java.util.LinkedList;\n",
    "\n",
    "class GrafoLista {\n",
    "    int vertices;\n",
    "    ArrayList<LinkedList<Integer>> lista;\n",
    "\n",
    "    public GrafoLista(int vertices) {\n",
    "        this.vertices = vertices;\n",
    "        lista = new ArrayList<>();\n",
    "        for (int i = 0; i < vertices; i++) {\n",
    "            lista.add(new LinkedList<>());\n",
    "        }\n",
    "    }\n",
    "\n",
    "    void agregarArista(int src, int dest) {\n",
    "        lista.get(src).add(dest);\n",
    "        lista.get(dest).add(src); // Para grafo no dirigido\n",
    "    }\n",
    "\n",
    "    void mostrarGrafo() {\n",
    "        for (int i = 0; i < vertices; i++) {\n",
    "            System.out.print(\"Vértice \" + i + \":\");\n",
    "            for (int adj : lista.get(i)) {\n",
    "                System.out.print(\" -> \" + adj);\n",
    "            }\n",
    "            System.out.println();\n",
    "        }\n",
    "    }\n",
    "}\n",
    "\n",
    "// Ejemplo de uso\n",
    "public class Main {\n",
    "    public static void main(String[] args) {\n",
    "        GrafoLista grafo = new GrafoLista(4);\n",
    "        grafo.agregarArista(0, 1);\n",
    "        grafo.agregarArista(1, 2);\n",
    "        grafo.agregarArista(2, 3);\n",
    "        grafo.agregarArista(3, 0);\n",
    "        grafo.mostrarGrafo();\n",
    "    }\n",
    "}"
   ]
  },
  {
   "cell_type": "markdown",
   "metadata": {},
   "source": []
  },
  {
   "cell_type": "code",
   "execution_count": null,
   "metadata": {
    "vscode": {
     "languageId": "java"
    }
   },
   "outputs": [],
   "source": []
  },
  {
   "cell_type": "markdown",
   "metadata": {},
   "source": [
    "### 3. Lista de Aristas\n",
    "\n",
    "La lista de aristas almacena todas las aristas del grafo como pares de nodos. Es útil para algoritmos que trabajan sobre aristas, como el algoritmo de Kruskal.\n",
    "\n",
    "Ejemplo en Java:"
   ]
  },
  {
   "cell_type": "code",
   "execution_count": 4,
   "metadata": {
    "vscode": {
     "languageId": "java"
    }
   },
   "outputs": [],
   "source": [
    "import java.util.ArrayList;\n",
    "\n",
    "class Arista {\n",
    "    int src, dest;\n",
    "\n",
    "    Arista(int src, int dest) {\n",
    "        this.src = src;\n",
    "        this.dest = dest;\n",
    "    }\n",
    "}\n",
    "\n",
    "class GrafoAristas {\n",
    "    int vertices;\n",
    "    ArrayList<Arista> aristas;\n",
    "\n",
    "    public GrafoAristas(int vertices) {\n",
    "        this.vertices = vertices;\n",
    "        aristas = new ArrayList<>();\n",
    "    }\n",
    "\n",
    "    void agregarArista(int src, int dest) {\n",
    "        aristas.add(new Arista(src, dest));\n",
    "    }\n",
    "\n",
    "    void mostrarAristas() {\n",
    "        for (Arista arista : aristas) {\n",
    "            System.out.println(\"Arista: \" + arista.src + \" -> \" + arista.dest);\n",
    "        }\n",
    "    }\n",
    "}\n",
    "\n",
    "// Ejemplo de uso\n",
    "public class Main {\n",
    "    public static void main(String[] args) {\n",
    "        GrafoAristas grafo = new GrafoAristas(4);\n",
    "        grafo.agregarArista(0, 1);\n",
    "        grafo.agregarArista(1, 2);\n",
    "        grafo.agregarArista(2, 3);\n",
    "        grafo.agregarArista(3, 0);\n",
    "        grafo.mostrarAristas();\n",
    "    }\n",
    "}"
   ]
  },
  {
   "cell_type": "markdown",
   "metadata": {},
   "source": [
    "## Aplicaciones de los Grafos\n",
    "\n",
    "Los grafos se utilizan en muchos campos, incluyendo:\n",
    "\n",
    "1. **Redes de comunicación**: Modelan redes de computadoras o Internet.\n",
    "2. **Mapas y rutas**: Representan conexiones entre ubicaciones.\n",
    "3. **Redes sociales**: Modelan relaciones entre personas.\n",
    "4. **Inteligencia artificial**: Representan grafos de búsqueda en IA.\n",
    "5. **Sistemas de recomendaciones**: Modelan preferencias de usuario y relaciones entre productos.\n",
    "\n",
    "## Ejemplos de Implementación en Java\n",
    "\n",
    "### Ejemplo de búsqueda en profundidad (DFS)\n"
   ]
  },
  {
   "cell_type": "code",
   "execution_count": 5,
   "metadata": {
    "vscode": {
     "languageId": "java"
    }
   },
   "outputs": [],
   "source": [
    "import java.util.ArrayList;\n",
    "import java.util.List;\n",
    "\n",
    "class GrafoDFS {\n",
    "    private List<List<Integer>> adjList;\n",
    "    private boolean[] visitado;\n",
    "\n",
    "    public GrafoDFS(int vertices) {\n",
    "        adjList = new ArrayList<>();\n",
    "        visitado = new boolean[vertices];\n",
    "        for (int i = 0; i < vertices; i++) {\n",
    "            adjList.add(new ArrayList<>());\n",
    "        }\n",
    "    }\n",
    "\n",
    "    public void agregarArista(int src, int dest) {\n",
    "        adjList.get(src).add(dest);\n",
    "    }\n",
    "\n",
    "    public void dfs(int v) {\n",
    "        visitado[v] = true;\n",
    "        System.out.print(v + \" \");\n",
    "        for (int adyacente : adjList.get(v)) {\n",
    "            if (!visitado[adyacente]) {\n",
    "                dfs(adyacente);\n",
    "            }\n",
    "        }\n",
    "    }\n",
    "}\n",
    "\n",
    "// Ejemplo de uso\n",
    "public class Main {\n",
    "    public static void main(String[] args) {\n",
    "        GrafoDFS grafo = new GrafoDFS(4);\n",
    "        grafo.agregarArista(0, 1);\n",
    "        grafo.agregarArista(0, 2);\n",
    "        grafo.agregarArista(1, 2);\n",
    "        grafo.agregarArista(2, 0);\n",
    "        grafo.agregarArista(2, 3);\n",
    "        \n",
    "        System.out.println(\"Recorrido DFS a partir del nodo 2:\");\n",
    "        grafo.dfs(2);\n",
    "    }\n",
    "}"
   ]
  },
  {
   "cell_type": "markdown",
   "metadata": {},
   "source": [
    "## Conclusiones\n",
    "\n",
    "Los grafos son una estructura de datos poderosa y versátil que permite modelar y resolver una gran variedad de problemas de la vida real. Entender sus representaciones y algoritmos asociados, como la búsqueda en profundidad (DFS) y la búsqueda en anchura (BFS), es esencial para aprovechar su potencial. Implementar grafos en Java proporciona una base sólida para resolver problemas complejos en diversas áreas de la tecnología y la ciencia.\n",
    "\n",
    "## Referencias\n",
    "\n",
    "- Cormen, T. H., Leiserson, C. E., Rivest, R. L., & Stein, C. (2009). **Introduction to Algorithms**. MIT Press.\n",
    "- Sedgewick, R., & Wayne, K. (2011). **Algorithms** (4th ed.). Addison-Wesley.\n",
    "- Documentation on Java Collections Framework for Lists and Arrays: [Java Docs](https://docs.oracle.com/en/java/javase/11/docs/api/java.base/java/util/package-summary.html)\n",
    "- GeeksforGeeks. \"Graph and its representations.\" [GeeksforGeeks](https://www.geeksforgeeks.org/graph-and-its-representations/)\n",
    "```"
   ]
  }
 ],
 "metadata": {
  "kernelspec": {
   "display_name": "Java",
   "language": "java",
   "name": "java"
  },
  "language_info": {
   "codemirror_mode": "java",
   "file_extension": ".jshell",
   "mimetype": "text/x-java-source",
   "name": "Java",
   "pygments_lexer": "java",
   "version": "21.0.4+7-Ubuntu-1ubuntu224.04"
  }
 },
 "nbformat": 4,
 "nbformat_minor": 2
}