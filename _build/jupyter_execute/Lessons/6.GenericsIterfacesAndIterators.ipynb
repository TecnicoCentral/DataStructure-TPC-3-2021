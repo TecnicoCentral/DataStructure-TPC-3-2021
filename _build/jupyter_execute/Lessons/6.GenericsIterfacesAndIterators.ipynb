{
 "cells": [
  {
   "cell_type": "markdown",
   "metadata": {},
   "source": [
    "# Genéricos, Interfaces e Iteradores en Java\n",
    "\n",
    "\n",
    "## Objetivo\n",
    "Comprender el concepto de genéricos e interfaces, así como el patrón iterador en Java. Aprenderán a aplicar estas herramientas para mejorar la flexibilidad, reutilización y organización del código. Además, realizarán iteraciones sobre estructuras como arreglos y matrices.\n",
    "\n",
    "## Genéricos en Java\n",
    "\n",
    "### Clases e Iterfaces Genéricas\n",
    "\n",
    ">Los genéricos permiten detectar errores en tiempo de compilación en lugar de en tiempo de ejecución.\n",
    "\n",
    "Los **genéricos** permiten definir clases, interfaces y métodos que funcionen con cualquier tipo de dato (primitivo o complejo) sin perder la seguridad de tipos en tiempo de compilación. Esto mejora la reutilización de código y evita el uso excesivo de conversiones de tipo (`casting`).\n",
    "\n",
    "```{figure} ../../images/Figure19.3.png\n",
    "---\n",
    "width: 90%\n",
    "name: Figure19.3\n",
    "---\n",
    "Here is my figure caption!\n",
    "```\n",
    "\n",
    "Ejemplo de genérico en una clase:"
   ]
  },
  {
   "cell_type": "code",
   "execution_count": 1,
   "metadata": {},
   "outputs": [],
   "source": [
    "public class Caja<T> {\n",
    "  private T objeto;\n",
    "\n",
    "  public void setObjeto(T objeto) {\n",
    "      this.objeto = objeto;\n",
    "  }\n",
    "\n",
    "  public T getObjeto() {\n",
    "      return objeto;\n",
    "  }\n",
    "\n",
    "  public static void main(String[] args) {\n",
    "      Caja<String> caja1 = new Caja<>();\n",
    "      caja1.setObjeto(\"Hola Mundo\");\n",
    "      System.out.println(caja1.getObjeto());\n",
    "\n",
    "      Caja<Integer> caja2 = new Caja<>();\n",
    "      caja2.setObjeto(123);\n",
    "      System.out.println(caja2.getObjeto());\n",
    "  }\n",
    "}"
   ]
  },
  {
   "cell_type": "markdown",
   "metadata": {},
   "source": [
    "En este ejemplo, `Caja` es una clase genérica que puede almacenar cualquier tipo de objeto, ya sea un `String` o un `Integer`.\n",
    "\n",
    "Aquí, <T> representa un tipo genérico formal, que puede ser sustituido más tarde por un tipo concreto real. La sustitución de un tipo genérico se denomina instanciación genérica. Por convención, una sola mayúscula, como E o T, para denotar un tipo genérico formal."
   ]
  },
  {
   "cell_type": "code",
   "execution_count": 2,
   "metadata": {},
   "outputs": [],
   "source": [
    "// Probar los códigos aquí"
   ]
  },
  {
   "cell_type": "markdown",
   "metadata": {},
   "source": [
    "**Ejemplo clase stack genérica:**\n",
    "\n",
    "Un tipo genérico puede definirse para una clase o una interfaz. Se debe especificar un tipo concreto cuando se utiliza la clase para crear un objeto o cuando se utiliza la clase o la interfaz para declarar una variable de referencia.\n",
    "\n",
    "```{figure} ../../images/Figure19.4.png\n",
    "---\n",
    "width: 90%\n",
    "name: Figure19.4\n",
    "---\n",
    "Here is my figure caption!\n",
    "```"
   ]
  },
  {
   "cell_type": "code",
   "execution_count": 3,
   "metadata": {},
   "outputs": [],
   "source": [
    "import java.util.ArrayList;\n",
    "public class GenericStack<E> {\n",
    "  private ArrayList<E> list = new ArrayList<>();\n",
    "  \n",
    "  public int getSize() {\n",
    "    return list.size();\n",
    "  } //getSize\n",
    "  \n",
    "  public E peek() {\n",
    "    return list.get(getSize() - 1);\n",
    "  } //peek\n",
    "  public void push(E o) {\n",
    "    list.add(o);\n",
    "  } //push\n",
    "  public E pop() {\n",
    "    E o = list.get(getSize() - 1);\n",
    "    list.remove(getSize() - 1);\n",
    "    return o;\n",
    "  } //pop\n",
    "  public boolean isEmpty() {\n",
    "    return list.isEmpty();\n",
    "  } //isEmpty\n",
    "  @Override\n",
    "  public String toString() {\n",
    "    return \"stack: \" + list.toString();\n",
    "  }\n",
    "}"
   ]
  },
  {
   "cell_type": "code",
   "execution_count": 4,
   "metadata": {},
   "outputs": [],
   "source": [
    "// Probar código aquí"
   ]
  },
  {
   "cell_type": "markdown",
   "metadata": {},
   "source": [
    "Los constructores no llevan el tipo de dato, esta mal escribir `new Stack<E>()`, solamente basta con definirlo `new Stack<>()`."
   ]
  },
  {
   "cell_type": "markdown",
   "metadata": {},
   "source": [
    "### Métodos Genéricos\n",
    "\n",
    "Se puede definir un tipo genérico para un método estático."
   ]
  },
  {
   "cell_type": "code",
   "execution_count": 5,
   "metadata": {},
   "outputs": [],
   "source": [
    "public class GenericMethodDemo {\n",
    "  public static void main(String[] args ) {\n",
    "    Integer[] integers = {1, 2, 3, 4, 5};\n",
    "    String[] strings = {\"London\", \"Paris\", \"New York\", \"Austin\"};\n",
    "    GenericMethodDemo.<Integer>print(integers);\n",
    "    GenericMethodDemo.<String>print(strings);\n",
    "  }\n",
    "  public static <E> void print(E[] list) {\n",
    "    for (int i = 0; i < list.length; i++)\n",
    "    System.out.print(list[i] + \" \");\n",
    "    System.out.println();\n",
    "  }\n",
    "}"
   ]
  },
  {
   "cell_type": "code",
   "execution_count": 6,
   "metadata": {},
   "outputs": [],
   "source": [
    "// Probar código aquí"
   ]
  },
  {
   "cell_type": "markdown",
   "metadata": {},
   "source": [
    "## Interfaces en Java\n",
    "\n",
    "Una **interfaz** es un tipo de contrato que define métodos que una clase debe implementar. Las interfaces permiten a las clases que no están relacionadas heredar comportamientos comunes.\n",
    "\n",
    "Ejemplo de una interfaz en Java:"
   ]
  },
  {
   "cell_type": "code",
   "execution_count": 7,
   "metadata": {},
   "outputs": [],
   "source": [
    "interface Volador {\n",
    "  void volar();\n",
    "}\n",
    "\n",
    "class Pajaro implements Volador {\n",
    "  public void volar() {\n",
    "      System.out.println(\"El pájaro está volando.\");\n",
    "  }\n",
    "}\n",
    "\n",
    "class Avion implements Volador {\n",
    "  public void volar() {\n",
    "      System.out.println(\"El avión está volando.\");\n",
    "  }\n",
    "}\n",
    "\n",
    "public class Main {\n",
    "  public static void main(String[] args) {\n",
    "      Volador pajaro = new Pajaro();\n",
    "      pajaro.volar();\n",
    "\n",
    "      Volador avion = new Avion();\n",
    "      avion.volar();\n",
    "  }\n",
    "}"
   ]
  },
  {
   "cell_type": "markdown",
   "metadata": {},
   "source": [
    "Aquí, tanto `Pajaro` como `Avion` implementan la interfaz `Volador`, asegurando que ambos tengan el comportamiento `volar()`."
   ]
  },
  {
   "cell_type": "code",
   "execution_count": 8,
   "metadata": {},
   "outputs": [],
   "source": [
    "// Probar los códigos aquí"
   ]
  },
  {
   "cell_type": "markdown",
   "metadata": {},
   "source": [
    "### Características en detalle:\n",
    "\n",
    "#### Definición de métodos\n",
    "   - Las interfaces permiten declarar métodos sin proporcionar una implementación. Estos métodos son **abstractos** por defecto, aunque desde Java 8 también pueden contener **métodos predeterminados** (con implementación) y **métodos estáticos**.\n",
    "   - Las clases que implementan una interfaz están obligadas a proporcionar la implementación de estos métodos abstractos.\n",
    "   - Ejemplo de un método abstracto en una interfaz:\n"
   ]
  },
  {
   "cell_type": "code",
   "execution_count": 9,
   "metadata": {},
   "outputs": [],
   "source": [
    "interface Animal {\n",
    "  void hacerSonido();  // método abstracto\n",
    "}"
   ]
  },
  {
   "cell_type": "markdown",
   "metadata": {},
   "source": [
    "#### Métodos predeterminados (default)\n",
    "- Desde Java 8, las interfaces pueden contener métodos con una implementación usando la palabra clave `default`. Esto permite extender las interfaces sin romper las clases que las implementan.\n",
    "- Ejemplo:"
   ]
  },
  {
   "cell_type": "code",
   "execution_count": 10,
   "metadata": {},
   "outputs": [],
   "source": [
    "interface Animal {\n",
    "  default void respirar() {\n",
    "      System.out.println(\"Este animal respira.\");\n",
    "  }\n",
    "  void hacerSonido();  // método abstracto\n",
    "}"
   ]
  },
  {
   "cell_type": "markdown",
   "metadata": {},
   "source": [
    "#### Métodos estáticos\n",
    "   - También desde Java 8, las interfaces pueden definir métodos estáticos que pueden ser invocados sin necesidad de una instancia de la interfaz.\n",
    "   - Ejemplo:"
   ]
  },
  {
   "cell_type": "code",
   "execution_count": 11,
   "metadata": {},
   "outputs": [],
   "source": [
    "interface Animal {\n",
    "  static void informacionGeneral() {\n",
    "      System.out.println(\"Los animales son seres vivos.\");\n",
    "  }\n",
    "}\n",
    "\n",
    "public class Main {\n",
    "  public static void main(String[] args) {\n",
    "      Animal.informacionGeneral();  // llamada a método estático\n",
    "  }\n",
    "}"
   ]
  },
  {
   "cell_type": "markdown",
   "metadata": {},
   "source": [
    "#### Atributos en una interfaz\n",
    "  - Los atributos en una interfaz son **siempre públicos, estáticos y finales** (`public static final`). Esto significa que son constantes que no pueden cambiar su valor una vez asignados.\n",
    "  - Ejemplo:\n",
    "    "
   ]
  },
  {
   "cell_type": "code",
   "execution_count": 12,
   "metadata": {},
   "outputs": [],
   "source": [
    "interface Constantes {\n",
    "  int MAX_VELOCIDAD = 120;  // public static final automáticamente\n",
    "}"
   ]
  },
  {
   "cell_type": "markdown",
   "metadata": {},
   "source": [
    "#### Herencia múltiple\n",
    "- Una clase en Java no puede heredar de más de una clase, pero puede implementar múltiples interfaces. Esto permite la simulación de herencia múltiple, proporcionando más flexibilidad en el diseño del código.\n",
    "- Ejemplo:"
   ]
  },
  {
   "cell_type": "code",
   "execution_count": 13,
   "metadata": {},
   "outputs": [],
   "source": [
    "interface Volador {\n",
    "  void volar();\n",
    "}\n",
    "interface Nadador {\n",
    "  void nadar();\n",
    "}\n",
    "class Pato implements Volador, Nadador {\n",
    "  public void volar() {\n",
    "      System.out.println(\"El pato vuela.\");\n",
    "  }\n",
    "  public void nadar() {\n",
    "      System.out.println(\"El pato nada.\");\n",
    "  }\n",
    "}"
   ]
  },
  {
   "cell_type": "markdown",
   "metadata": {},
   "source": [
    "#### No se pueden instanciar\n",
    "- Las interfaces **no pueden ser instanciadas** directamente. No es posible crear un objeto de una interfaz, ya que no tiene una implementación completa de sus métodos. Sin embargo, se puede hacer referencia a un objeto de una clase que implementa la interfaz.\n",
    "- Ejemplo:"
   ]
  },
  {
   "cell_type": "code",
   "execution_count": 14,
   "metadata": {},
   "outputs": [],
   "source": [
    "interface Animal {\n",
    "  void hacerSonido();\n",
    "}\n",
    "\n",
    "class Perro implements Animal {\n",
    "  public void hacerSonido() {\n",
    "      System.out.println(\"Guau Guau\");\n",
    "  }\n",
    "}\n",
    "\n",
    "public class Main {\n",
    "  public static void main(String[] args) {\n",
    "      Animal perro = new Perro();  // una interfaz referenciando a su implementación\n",
    "      perro.hacerSonido();\n",
    "  }\n",
    "}"
   ]
  },
  {
   "cell_type": "markdown",
   "metadata": {},
   "source": [
    "#### Polimorfismo\n",
    "   - Las interfaces permiten el uso del **polimorfismo**, lo que significa que una referencia de tipo interfaz puede apuntar a cualquier objeto de una clase que implemente dicha interfaz.\n",
    "   - Este es un aspecto crucial para diseñar sistemas extensibles y modulares.\n",
    "\n",
    "#### Herencia en interfaces\n",
    "   - Las interfaces pueden heredar de otras interfaces. Esto permite extender el comportamiento de una interfaz base en una interfaz derivada.\n",
    "   - Ejemplo:"
   ]
  },
  {
   "cell_type": "code",
   "execution_count": 15,
   "metadata": {},
   "outputs": [],
   "source": [
    "interface Volador {\n",
    "  void volar();\n",
    "}\n",
    "\n",
    "interface SuperVolador extends Volador {\n",
    "  void volarRapido();\n",
    "}"
   ]
  },
  {
   "cell_type": "markdown",
   "metadata": {},
   "source": [
    "#### Interfaces funcionales\n",
    "- Una **interfaz funcional** es aquella que tiene un único método abstracto, lo que la hace apta para expresiones lambda y métodos de referencia. Estas se introdujeron como parte de Java 8 para facilitar el desarrollo funcional.\n",
    "- Ejemplo:\n",
    "    "
   ]
  },
  {
   "cell_type": "code",
   "execution_count": 16,
   "metadata": {},
   "outputs": [],
   "source": [
    "@FunctionalInterface\n",
    "interface Operacion {\n",
    "    int calcular(int a, int b);\n",
    "}\n",
    "\n",
    "public class Main {\n",
    "    public static void main(String[] args) {\n",
    "        Operacion suma = (a, b) -> a + b;\n",
    "        System.out.println(suma.calcular(3, 5));\n",
    "    }\n",
    "}"
   ]
  },
  {
   "cell_type": "markdown",
   "metadata": {},
   "source": [
    "#### Ventajas del uso de interfaces\n",
    "   - **Flexibilidad**: Las interfaces permiten definir múltiples comportamientos que pueden ser implementados por clases no relacionadas entre sí.\n",
    "   - **Desacoplamiento**: Al definir contratos (interfaces), el código se vuelve más desacoplado y modular. El desarrollo se puede realizar independientemente de la implementación concreta.\n",
    "   - **Mantenimiento**: Las interfaces ayudan a organizar el código y facilitan su mantenimiento, ya que permiten sustituir implementaciones sin alterar el contrato.\n",
    "\n",
    "#### Conclusión\n",
    "Las interfaces, por lo tanto, son un pilar clave para la programación orientada a objetos, ya que permiten abstracción, polimorfismo, herencia múltiple y un diseño flexible y escalable."
   ]
  },
  {
   "cell_type": "markdown",
   "metadata": {},
   "source": [
    "## Patrón Iterador\n",
    "\n",
    ">Cada colección es Iterable. Puede obtener su objeto Iterator para recorrer todos los elementos de la colección.\n",
    "\n",
    "El **patrón iterador** permite recorrer una colección de elementos sin exponer su representación interna. Proporciona una manera de acceder secuencialmente a los elementos de una colección.\n",
    "\n",
    "### Clases en el Patrón Iterador\n",
    "1. **Iterador**: Define una interfaz para acceder y recorrer los elementos de una colección.\n",
    "2. **Agregado**: Define una interfaz para crear un iterador asociado a su colección.\n",
    "\n",
    "### Implementaciones Concretas\n",
    "1. **Iterador-Concreto**: Implementa la interfaz `Iterador` para recorrer una colección específica.\n",
    "2. **Agregado-Concreto**: Implementa la interfaz `Agregado` y devuelve una instancia de su iterador asociado.\n",
    "\n",
    "Ejemplo de un iterador y agregado en Java:"
   ]
  },
  {
   "cell_type": "code",
   "execution_count": 17,
   "metadata": {},
   "outputs": [],
   "source": [
    "import java.util.ArrayList;\n",
    "import java.util.Iterator;\n",
    "\n",
    "class ColeccionNumeros implements Iterable<Integer> {\n",
    "    private ArrayList<Integer> numeros = new ArrayList<>();\n",
    "\n",
    "    public void agregarNumero(int numero) {\n",
    "        numeros.add(numero);\n",
    "    }\n",
    "\n",
    "    @Override\n",
    "    public Iterator<Integer> iterator() {\n",
    "        return numeros.iterator();\n",
    "    }\n",
    "}\n",
    "\n",
    "public class Main {\n",
    "    public static void main(String[] args) {\n",
    "        ColeccionNumeros coleccion = new ColeccionNumeros();\n",
    "        coleccion.agregarNumero(1);\n",
    "        coleccion.agregarNumero(2);\n",
    "        coleccion.agregarNumero(3);\n",
    "\n",
    "        for (int numero : coleccion) {\n",
    "            System.out.println(numero);\n",
    "        }\n",
    "    }\n",
    "}"
   ]
  },
  {
   "cell_type": "markdown",
   "metadata": {},
   "source": [
    "En este ejemplo, `ColeccionNumeros` implementa la interfaz `Iterable`, lo que permite que se pueda iterar usando un `for-each`."
   ]
  },
  {
   "cell_type": "code",
   "execution_count": 18,
   "metadata": {},
   "outputs": [],
   "source": [
    "// Probar los códigos aquí"
   ]
  },
  {
   "cell_type": "markdown",
   "metadata": {},
   "source": [
    "```{figure} ../../images/Figure20.2.png\n",
    "---\n",
    "width: 90%\n",
    "name: Figure20.2\n",
    "---\n",
    "Here is my figure caption!\n",
    "```"
   ]
  },
  {
   "cell_type": "code",
   "execution_count": 19,
   "metadata": {},
   "outputs": [],
   "source": [
    "import java.util.*;\n",
    "public class TestIterator {\n",
    "  public static void main(String[] args) {\n",
    "  Collection<String> collection = new ArrayList<>();\n",
    "  collection.add(\"New York\");\n",
    "  collection.add(\"Atlanta\");\n",
    "  collection.add(\"Dallas\");\n",
    "  collection.add(\"Madison\");\n",
    "  Iterator<String> iterator = collection.iterator();\n",
    "  while (iterator.hasNext()) {\n",
    "    System.out.print(iterator.next().toUpperCase() + \" \");\n",
    "  }\n",
    "  System.out.println();\n",
    "  }\n",
    "}"
   ]
  },
  {
   "cell_type": "code",
   "execution_count": 20,
   "metadata": {},
   "outputs": [],
   "source": [
    "// Probar el código aquí"
   ]
  },
  {
   "cell_type": "markdown",
   "metadata": {},
   "source": [
    "### Iteraciones sobre Arreglos\n",
    "\n",
    "Las iteraciones sobre arreglos en Java pueden realizarse mediante estructuras de control como `for`, `while`, o bien usando los iteradores.\n",
    "\n",
    "Ejemplo de iteración sobre un arreglo:"
   ]
  },
  {
   "cell_type": "code",
   "execution_count": 21,
   "metadata": {},
   "outputs": [],
   "source": [
    "public class IteracionArreglos {\n",
    "  public static void main(String[] args) {\n",
    "      int[] numeros = {1, 2, 3, 4, 5};\n",
    "\n",
    "      // Iteración usando un bucle for\n",
    "      for (int i = 0; i < numeros.length; i++) {\n",
    "          System.out.println(\"Número: \" + numeros[i]);\n",
    "      }\n",
    "\n",
    "      // Iteración usando for-each\n",
    "      for (int numero : numeros) {\n",
    "          System.out.println(\"Número: \" + numero);\n",
    "      }\n",
    "  }\n",
    "}"
   ]
  },
  {
   "cell_type": "code",
   "execution_count": 22,
   "metadata": {},
   "outputs": [],
   "source": [
    "// Probar los códigos aquí"
   ]
  },
  {
   "cell_type": "markdown",
   "metadata": {},
   "source": [
    "### Iteraciones sobre Matrices\n",
    "\n",
    "Las **matrices** o arreglos bidimensionales también pueden ser iterados utilizando bucles anidados.\n",
    "\n",
    "Ejemplo de iteración sobre una matriz:"
   ]
  },
  {
   "cell_type": "code",
   "execution_count": 23,
   "metadata": {},
   "outputs": [],
   "source": [
    "public class IteracionMatrices {\n",
    "  public static void main(String[] args) {\n",
    "      int[][] matriz = {\n",
    "          {1, 2, 3},\n",
    "          {4, 5, 6},\n",
    "          {7, 8, 9}\n",
    "      };\n",
    "\n",
    "      // Iteración sobre una matriz\n",
    "      for (int i = 0; i < matriz.length; i++) {\n",
    "          for (int j = 0; j < matriz[i].length; j++) {\n",
    "              System.out.println(\"Elemento en [\" + i + \"][\" + j + \"]: \" + matriz[i][j]);\n",
    "          }\n",
    "      }\n",
    "  }\n",
    "}"
   ]
  },
  {
   "cell_type": "markdown",
   "metadata": {},
   "source": [
    "\n",
    "En este código, la primera iteración recorre las filas de la matriz y la segunda recorre las columnas de cada fila."
   ]
  },
  {
   "cell_type": "code",
   "execution_count": 24,
   "metadata": {},
   "outputs": [],
   "source": [
    "// Probar los códigos aquí"
   ]
  },
  {
   "cell_type": "markdown",
   "metadata": {},
   "source": [
    "## Conclusión\n",
    "El uso de genéricos, interfaces e iteradores es fundamental en la programación orientada a objetos en Java, permitiendo crear soluciones más flexibles, reutilizables y mantenibles. El patrón iterador, en particular, facilita la navegación por colecciones sin exponer su implementación interna. Estas herramientas son esenciales para gestionar la complejidad en programas más grandes y modulares.\n",
    "\n",
    "\n",
    "## Referencias\n",
    "\n",
    "### Libros\n",
    "\n",
    "- Y. Daniel Liang. \"*Introduction to Java Programming and Data Structures, Comprehensive Version*\". Addison Wesley. Edición 12 (2019).\n",
    "- Koffman, Elliot B.; Wolfgang, Paul A. T.\"*Data structures : abstraction and design using Java*\". Wiley. Tercera edición (2016).\n",
    "\n",
    "### Guias y Tutoriales\n",
    "\n",
    "- [Iterator - Refactoring Guru](https://refactoring.guru/design-patterns/iterator)"
   ]
  }
 ],
 "metadata": {
  "kernelspec": {
   "display_name": "Java",
   "language": "java",
   "name": "java"
  },
  "language_info": {
   "codemirror_mode": "java",
   "file_extension": ".jshell",
   "mimetype": "text/x-java-source",
   "name": "Java",
   "pygments_lexer": "java",
   "version": "21.0.4+7-Ubuntu-1ubuntu224.04"
  }
 },
 "nbformat": 4,
 "nbformat_minor": 2
}